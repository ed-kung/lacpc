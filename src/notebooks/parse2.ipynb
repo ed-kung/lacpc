{
 "cells": [
  {
   "cell_type": "code",
   "execution_count": 1,
   "id": "aec0d480-d8ff-450a-bfff-5f2b151e3a6d",
   "metadata": {},
   "outputs": [],
   "source": [
    "import os\n",
    "import sys\n",
    "import pandas as pd\n",
    "import re\n",
    "import yaml\n",
    "import time\n",
    "\n",
    "from unidecode import unidecode\n",
    "from bs4 import BeautifulSoup\n",
    "from langchain_text_splitters import RecursiveCharacterTextSplitter\n",
    "\n",
    "sys.path.append('../python')\n",
    "\n",
    "import text_tools as tt\n",
    "\n",
    "with open('../../config.yaml', 'r') as f:\n",
    "    config = yaml.safe_load(f)\n",
    "\n",
    "DOCID = \"lamunicipalcode\"\n",
    "FILENAME = f\"../../raw_data/{DOCID}.html\"\n",
    "CHUNK_SIZE = config['CHUNK_SIZE']\n",
    "CHUNK_OVERLAP = config['CHUNK_OVERLAP']\n"
   ]
  },
  {
   "cell_type": "code",
   "execution_count": 2,
   "id": "51fc5bbc-eb53-4d1f-a24d-1791e93895c7",
   "metadata": {},
   "outputs": [
    {
     "name": "stdout",
     "output_type": "stream",
     "text": [
      "Elapsed time: 0.04 minutes\n"
     ]
    }
   ],
   "source": [
    "data = pd.read_pickle(f\"../../intermediate_data/{DOCID}_main.pkl\")\n",
    "\n",
    "t0 = time.time()\n",
    "\n",
    "new_data = []\n",
    "curr_chapter_id = ''\n",
    "curr_article_id = ''\n",
    "curr_section_id = ''\n",
    "curr_start_id = data.index[0]\n",
    "curr_end_id = data.index[0]\n",
    "curr_text = ''\n",
    "i = 0\n",
    "for idx, row in data.iterrows():\n",
    "    stop = (row['item_type'] in ['chapter_title', 'article_title', 'section_title']) or (len(curr_text)>2000)\n",
    "    if stop:\n",
    "        new_row = {\n",
    "            'id': DOCID + f'_chunk_{i}',\n",
    "            'doc_id': DOCID,\n",
    "            'start_id': curr_start_id, \n",
    "            'end_id': curr_end_id,\n",
    "            'chapter_id': curr_chapter_id, \n",
    "            'article_id': curr_article_id,\n",
    "            'section_id': curr_section_id,\n",
    "            'item_type': 'passage_chunk', \n",
    "            'text': curr_text\n",
    "        }\n",
    "        new_data.append(new_row)\n",
    "        i+=1\n",
    "        curr_text = ''\n",
    "        if len(curr_chapter_id)>0:\n",
    "            curr_text = data.loc[curr_chapter_id, 'text'] + '\\n'\n",
    "        if len(curr_article_id)>0:\n",
    "            curr_text += ' ' + data.loc[curr_article_id, 'text'] + '\\n'\n",
    "        if len(curr_section_id)>0:\n",
    "            curr_text += '  ' + data.loc[curr_section_id, 'text'] + '\\n'\n",
    "        curr_start_id = idx\n",
    "        curr_end_id = idx\n",
    "    \n",
    "    if row['item_type'] == 'chapter_title':\n",
    "        curr_chapter_id = idx\n",
    "        curr_article_id = ''\n",
    "        curr_section_id = ''\n",
    "        curr_text = row['text'] + '\\n'\n",
    "        curr_start_id = idx\n",
    "        curr_end_id = idx\n",
    "    elif row['item_type'] == 'article_title':\n",
    "        curr_article_id = idx\n",
    "        curr_section_id = ''\n",
    "        curr_text += ' ' + row['text'] + '\\n'\n",
    "        curr_start_id = idx\n",
    "        curr_end_id = idx\n",
    "    elif row['item_type'] == 'section_title':\n",
    "        curr_section_id = idx\n",
    "        curr_text += '  ' + row['text'] + '\\n'\n",
    "        curr_start_id = idx\n",
    "        curr_end_id = idx\n",
    "    else:\n",
    "        curr_text += ' '*(2+row['item_level']) + row['text'] + '\\n'\n",
    "        curr_end_id = idx\n",
    "    \n",
    "\n",
    "t1 = time.time()\n",
    "print(f\"Elapsed time: {(t1-t0)/60:.2f} minutes\")\n",
    "\n",
    "new_data = pd.DataFrame.from_dict(new_data)\n",
    "new_data = new_data.set_index('id')\n",
    "new_data.to_csv(f\"../../intermediate_data/{DOCID}_passagechunks.csv\")\n",
    "new_data.to_pickle(f\"../../intermediate_data/{DOCID}_passagechunks.pkl\")"
   ]
  },
  {
   "cell_type": "code",
   "execution_count": 7,
   "id": "2a1dc8d2-d95d-41de-8505-890642ddb871",
   "metadata": {},
   "outputs": [
    {
     "name": "stdout",
     "output_type": "stream",
     "text": [
      "CHAPTER I GENERAL PROVISIONS AND ZONING\n",
      " GENERAL PLANNING DEPARTMENT INFORMATION\n",
      "   PROCEDURES\n",
      "   Requests for action by the Department of City Planning are made in the form of applications filed at the Department's two public offices. At the time an application is filed and accepted, a fee must be paid by the applicant dependent on the type of action requested and in accordance with current fee schedules established by the City Council. Cases are usually set for hearing before a Zoning Administrator, hearing officer or one of the Planning Commissions. A recommendation to a Planning Commission or a decision is rendered and distributed.\n",
      "   APPEALS\n",
      "   In many instances, applicants or persons aggrieved by a decision may appeal that action. On matters acted upon by the City Planning Commission, an appeal may be made to the City Council. On matters acted upon by a Zoning Administrator or the Director of Planning, an appeal may be made to Area Planning Commissions or City Planning Commission as prescribed by law and, thereafter, in certain cases, to the City Council. Details on these and other appealable decisions can be obtained from a Department office. For an appeal, the appellant must file an appeal, together with the appropriate fee imposed by ordinance, at the Department's public counters.\n",
      "\n"
     ]
    }
   ],
   "source": [
    "print(new_data.iloc[5]['text'])"
   ]
  },
  {
   "cell_type": "code",
   "execution_count": null,
   "id": "9b0d2700-2aff-471c-99ef-ea4bfc66e67d",
   "metadata": {},
   "outputs": [],
   "source": []
  }
 ],
 "metadata": {
  "kernelspec": {
   "display_name": "Python 3 (ipykernel)",
   "language": "python",
   "name": "python3"
  },
  "language_info": {
   "codemirror_mode": {
    "name": "ipython",
    "version": 3
   },
   "file_extension": ".py",
   "mimetype": "text/x-python",
   "name": "python",
   "nbconvert_exporter": "python",
   "pygments_lexer": "ipython3",
   "version": "3.10.6"
  }
 },
 "nbformat": 4,
 "nbformat_minor": 5
}

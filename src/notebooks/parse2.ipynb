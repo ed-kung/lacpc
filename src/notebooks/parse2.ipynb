{
 "cells": [
  {
   "cell_type": "code",
   "execution_count": 1,
   "id": "aec0d480-d8ff-450a-bfff-5f2b151e3a6d",
   "metadata": {},
   "outputs": [],
   "source": [
    "import os\n",
    "import sys\n",
    "import pandas as pd\n",
    "import re\n",
    "import yaml\n",
    "import time\n",
    "\n",
    "from unidecode import unidecode\n",
    "from bs4 import BeautifulSoup\n",
    "from langchain_text_splitters import RecursiveCharacterTextSplitter\n",
    "\n",
    "sys.path.append('../python')\n",
    "\n",
    "import text_tools as tt\n",
    "\n",
    "with open('../../config.yaml', 'r') as f:\n",
    "    config = yaml.safe_load(f)\n",
    "\n",
    "DOCID = \"lamunicipalcode\"\n",
    "FILENAME = f\"../../raw_data/{DOCID}.html\"\n",
    "CHUNK_SIZE = config['CHUNK_SIZE']\n",
    "CHUNK_OVERLAP = config['CHUNK_OVERLAP']\n"
   ]
  },
  {
   "cell_type": "code",
   "execution_count": 2,
   "id": "51fc5bbc-eb53-4d1f-a24d-1791e93895c7",
   "metadata": {},
   "outputs": [
    {
     "name": "stdout",
     "output_type": "stream",
     "text": [
      "128... 256... 384... 512... 640... 768... 896... 1024... 1152... 1280... 1408... 1536... 1664... 1792... 1920... 2048... 2176... 2304... 2432... 2560... 2688... 2816... 2944... 3072... 3200... 3328... 3456... 3584... 3712... 3840... 3968... 4096... 4224... 4352... 4480... 4608... 4736... 4864... 4992... 5120... 5248... 5376... 5504... 5632... 5760... 5888... 6016... 6144... 6272... 6400... 6528... 6656... Elapsed time: 4.23 minutes\n"
     ]
    }
   ],
   "source": [
    "data = pd.read_pickle(f\"../../intermediate_data/{DOCID}_main.pkl\")\n",
    "\n",
    "t0 = time.time()\n",
    "\n",
    "new_data = []\n",
    "curr_chapter_id = ''\n",
    "curr_article_id = ''\n",
    "curr_section_id = ''\n",
    "all_ids = set()\n",
    "i = 0\n",
    "for idx, row in data.iterrows():\n",
    "    if row['item_type'] == 'chapter_title':\n",
    "        curr_chapter_id = idx\n",
    "        curr_article_id = ''\n",
    "        curr_section_id = ''\n",
    "    elif row['item_type'] == 'article_title':\n",
    "        curr_article_id = idx\n",
    "        curr_section_id = ''\n",
    "    elif row['item_type'] == 'section_title':\n",
    "        curr_section_id = idx\n",
    "    else:\n",
    "        myids = tt.get_vertical_chain_with_siblings(idx, data)\n",
    "        mytext = tt.get_text_from_ids(myids, data)\n",
    "        \n",
    "        # if the text length has over 6000 words, try not fetching the siblings\n",
    "        if len(mytext.split())>6000:\n",
    "            myids = tt.get_vertical_chain(idx, data)\n",
    "            mytext = tt.get_text_from_ids(myids, data)\n",
    "        \n",
    "        # if the text still has over 6000 words, but has a child, skip this row and\n",
    "        # let the child be added instead\n",
    "        if (len(mytext.split())>6000) and (len(row['first_child_id'])>0):\n",
    "            continue\n",
    "        else:\n",
    "            if len(set(myids).difference(all_ids))>0:\n",
    "                all_ids = all_ids.union(set(myids))\n",
    "                mytext = tt.get_text_from_ids(myids, data)\n",
    "                new_row = {\n",
    "                    'id': DOCID + f'_passage_chunk{i}',\n",
    "                    'ids': repr(myids),\n",
    "                    'chapter_id': curr_chapter_id, \n",
    "                    'article_id': curr_article_id,\n",
    "                    'section_id': curr_section_id,\n",
    "                    'item_type': 'passage_chunk',\n",
    "                    'text': mytext\n",
    "                }\n",
    "                new_data.append(new_row)\n",
    "                i+=1\n",
    "                if i%128==0:\n",
    "                    print(f\"{i}... \", end='')\n",
    "        \n",
    "t1 = time.time()\n",
    "print(f\"Elapsed time: {(t1-t0)/60:.2f} minutes\")\n",
    "\n",
    "new_data = pd.DataFrame.from_dict(new_data)\n",
    "new_data = new_data.set_index('id')\n"
   ]
  },
  {
   "cell_type": "code",
   "execution_count": 3,
   "id": "2a1dc8d2-d95d-41de-8505-890642ddb871",
   "metadata": {},
   "outputs": [],
   "source": [
    "# All passages (non section/article/chapter titles) should be in all_ids\n",
    "\n",
    "missing_ids = list(set(data.index).difference(all_ids))\n",
    "bad = 0\n",
    "for idx in missing_ids:\n",
    "    item_type = data.loc[idx, 'item_type']\n",
    "    if item_type=='passage':\n",
    "        bad+=1\n",
    "assert bad==0"
   ]
  },
  {
   "cell_type": "code",
   "execution_count": 4,
   "id": "d64657a6-e3a9-4b25-aeb4-e537536efe33",
   "metadata": {},
   "outputs": [
    {
     "data": {
      "text/plain": [
       "[5918, 5920, 5923, 5975, 5987, 5992, 5992, 5998, 5998, 6782]"
      ]
     },
     "execution_count": 4,
     "metadata": {},
     "output_type": "execute_result"
    }
   ],
   "source": [
    "num_words = new_data['text'].apply(lambda x: len(x.split()))\n",
    "sorted(num_words)[-10:]"
   ]
  },
  {
   "cell_type": "code",
   "execution_count": 5,
   "id": "34831247-dff6-4599-be78-d59d77dbd4b8",
   "metadata": {},
   "outputs": [],
   "source": [
    "new_data.to_csv(f\"../../intermediate_data/{DOCID}_passagechunks.csv\")\n",
    "new_data.to_pickle(f\"../../intermediate_data/{DOCID}_passagechunks.pkl\")"
   ]
  },
  {
   "cell_type": "code",
   "execution_count": 31,
   "id": "fcc994ba-1607-40fb-a276-d4e1b0379151",
   "metadata": {},
   "outputs": [
    {
     "name": "stdout",
     "output_type": "stream",
     "text": [
      "CHAPTER I GENERAL PROVISIONS AND ZONING\n",
      "  ARTICLE 2 SPECIFIC PLANNING - ZONING - COMPREHENSIVE ZONING PLAN\n",
      "    SEC. 12.21. GENERAL PROVISIONS.\n",
      "      COMPACT PARKING STALLS\n",
      "        6. Automobile Parking and Sales Area - Improvement. Every public or private parking area or automobile, manufactured home or trailer sales area other than those lawfully in existence on August 21, 1969, shall be arranged, improved and maintained in accordance with the following regulations: (Amended by Ord. No. 161,716, Eff. 12/6/86.)\n",
      "          (a) Yard Areas. (Title and Par. (a) amended by Ord. No. 152,949, Eff. 9/21/79.) Where a public parking area is the principal use of land in the A or R zones, or in any combination of an A or R zone with a P zone, the public parking area shall not extend into the portion of the lot within 10 feet of the front lot line.\n",
      "          Where parking is an accessory use of land in the A and R zones, the parking area may occupy the remainder of the lot, except for the required A or R zone front yard, and a five foot side yard along the side street lot line of a corner lot.\n",
      "          (b) (None)\n",
      "          (c) Paving and Car Stops. (Amended by Ord. No. 182,431, Eff. 3/24/13.) Every parking area, every parking garage required by the provisions of this article, every automobile storage area (except those areas utilized for the temporary storage of automobiles for not to exceed six months in any calendar year), every automobile, manufactured home or trailer sales area, and every driveway shall be paved with hard, durable asphaltic paving which has been mixed at a plant and is at least two inches thick after compaction, with portland cement paving at least three inches thick or with an alternative paving material described below. All such areas shall have appropriate bumper guards, wheel stops, steel posts, walls, curbs, suitable landscaping or other installations adequate to prevent vehicles from parking or maneuvering on those portions of a lot upon which a driveway or parking area is prohibited, or into a public right- of-way, or where those portions of a lot are needed to prevent encroachment on walkways or adjoining properties.\n",
      "          Alternative Paving Materials. An alternative paving material is one of the following: porous asphalt, porous concrete, permeable interlocking concrete pavers, permeable pavers, decomposed granite, crushed rock, gravel, and restrained systems (a plastic or concrete grid system confined on all sides to restrict lateral movement, and filled with gravel or grass in the voids.) Alternative paving materials are permitted for use in every parking area, automobile storage area, automobile, manufactured home or trailer sales area, and driveways, subject to:\n",
      "            (1) Any product installed within areas designated by the Fire Department as fire lane must be approved by the Fire Department.\n",
      "            (2) Permeable interlocking concrete pavers and permeable pavers shall have a minimum thickness of 80 mm (3.14 inches).\n",
      "            (3) If plantings are an element of the alternative paving material, the irrigation system shall not utilize potable water except for plant establishment.\n",
      "            (4) Products and underlying drainage material shall be installed per manufacturers' specifications. Sub-grade soils shall be compacted as required per the product installation specifications.\n",
      "            (5) Decomposed granite, crushed rock and gravel shall only be allowed for driveways and parking areas serving only one or two residential unit(s).\n",
      "            (6) All projects shall be compliant with all other provisions of the Los Angeles Municipal Code and any applicable standards or guidelines.\n",
      "          (d) Wall Required. Every public or private parking area, or automobile, manufactured home or trailer sales area shall be completely enclosed with a wall except that no wall shall be required: (Amended by Ord. No. 161,716, Eff. 12/6/86.)\n",
      "            (1) across necessary driveways;\n",
      "            (2) on a lot in an M2 or M3 Zone;\n",
      "            (3) along a lot line abutting an alley, a public parking area, or a P (not including the A or R zones), PB, C or M zones;\n",
      "            (4) along any portion of a lot line, including the front lot line where no parking area or access driveway is located within 15 feet of said line, when adequate safeguards are provided to prevent vehicles from occupying said 15 foot space and said space is landscaped;\n",
      "            (5) along any lot line of an automobile sales area that abuts a street, provided, however, such sales area incorporates landscaped area or areas in the amount of at least three percent of said sales area.\n",
      "          (e) Wall Height. (Amended by Ord. No. 147,913, Eff. 1/23/76.) The wall required by Paragraph (d) hereof or constructed in compliance with Paragraphs (g) or (h) hereof, shall be not less than five feet nine inches in height, except under the following circumstances:\n",
      "            (1) The wall shall not be less than four feet in height in any lot where the surface of the parking area is raised one foot nine inches or more above the natural ground, said wall to be measured from the finished grade of the parking area. Provided, however, that where the wall requirements here specified would exceed those specified in Section 12.22 C.20.(f), the provisions of Section 12.22 C.20.(f) shall control.\n",
      "            (2) The wall shall not be less than three feet in height under the following circumstances:\n",
      "              (ii-a) On that portion of a lot in the A or R zone which extends into the required front yard;\n",
      "              (ii-b) On that portion of a lot in a P (not including the A or R zones), PB, C or M1 zone within 15 feet of the front lot line\n",
      "              (ii-c) On that portion of a corner lot within five feet of the side street lot line.\n",
      "              (ii-d) Along any lot line abutting a street.\n",
      "          (f) Wall Construction and Maintenance. (Amended by Ord. No. 158,894, Eff. 6/8/84.) Walls required by this subdivision or constructed in compliance with Paragraphs (g) and (h) hereof, when located along the lot lines of parking areas and said lot lines abut a street, shall be of concrete or masonry construction, but need not be solid walls, provided that any open areas in said walls shall be designed for architectural effect. Walls, or portions of walls, abutting a street and constructed above the minimum three foot height required by this subdivision shall be designed to permit visibility into the parking area from the street and shall be constructed of wrought iron, vista-type masonry or other materials as approved by the Department of Building and Safety.\n",
      "          All other walls required by this subdivision shall be without openings, and shall be of concrete or masonry provided, however, that other materials may be used in the construction of the wall enclosing a private parking area containing not more than four parking spaces. All concrete or masonry walls shall have a minimum nominal thickness of six inches unless designed to withstand lateral force and constructed pursuant to plans approved by the Department of Building and Safety.\n",
      "          All walls shall be maintained in good condition.\n",
      "          (g) Improvement. Where a lot located in all zones but the A, R, or A or R in combination with a P zone is used for a public parking area for more than 20 vehicles and is offering as its prime service the commercial parking of motor vehicles for the public at large, at least two percent of the parking area shall be devoted to improvement as follows:\n",
      "            (1) One-half of the required two percent improvement shall be credited for street trees planted in accordance with plans approved by the Street Tree Division of the Bureau of Street Maintenance. Approval shall be granted for any plan which complies with the Master Plan for Street Trees. Existing street trees shall be considered in satisfying this provision;\n",
      "            (2) One-half of the required two percent improvement shall be credited for walls, providing walls are constructed along all lot lines abutting a street. Existing walls shall be credited.\n",
      "            (3) Up to and including one-half of the two percent improvement shall be credited for landscaped setback areas, provided that the total of such setback area is equal to that percent of the total parking area being created.\n",
      "            (4) Up to and including one-half of the two percent improvement shall be credited for interior landscaping, provided that the total of such landscaped area is equal to that percent of the total parking area being credited.\n",
      "            (5) On those lots having no street frontage two percent improvement shall be credited for interior landscaping, provided that the total of such landscaped area is equal to the percent of the total parking area credited.\n",
      "          (h) Improvement. Where a lot located in either an A, R, or A or R in combination with a P zone, or is serving as a parking area for the primary use of as specific building or buildings, and said lot is used for a public or private parking area for more than 20 vehicles, at least four percent of the parking area shall be devoted to improvements as follows:\n",
      "            (1) One-fourth of the required four percent improvement shall be credited for street trees planted in accordance with plans approved by the Street Tree Division. Approval shall be granted for any plan which complies with the Master Plan for Street Trees. Existing street trees shall be considered in satisfying this provision;\n",
      "            (2) One-fourth of the required four percent improvement shall be credited for walls, provided that walls are constructed along all lot lines abutting a street. Existing walls shall be credited;\n",
      "            (3) Up to and including three-fourths of the four percent improvement shall be credited for landscaped setback areas, provided that the total of said setback area is equal to the percent of the total parking area credited;\n",
      "            (4) Up to and including three-fourths of the four percent improvement shall be credited for interior landscaping, provided that the total of such landscaped area is equal to that percent of the total parking area being credited;\n",
      "            (5) On those lots having no street frontage, four percent improvement shall be credited for interior landscaping provided the total of such landscaped area is equal to that percent of the total parking area being credited.\n",
      "          (i) Landscaping. (Amended by Ord. No. 152,467, Eff. 7/14/79.) Those portions of a lot developed as a public parking area on which automobile parking is prohibited by paragraph (a) above, or otherwise not improved, shall be fully landscaped with lawn, trees, shrubs or suitable groundcover, and no portion except the access driveways shall be paved.\n",
      "          Where a wall is not required along any lot line of an automobile sales area abutting a street, said sales area shall incorporate a landscaped area or areas in the amount of at least three percent of said sales areas.\n",
      "          All landscaping required by the provisions of this subsection or provided in compliance with Paragraphs (g) or (h) hereof shall be installed in accordance with a plan approved by the City Planning Department. Approval shall be granted for any wherein the design and materials proposed therein are reasonably appropriate for the use and appearance of the parking area. Such landscaped areas shall be equipped with a water sprinkler system and shall be maintained free of weeds and debris.\n",
      "          (j) Lighting. All lights used to illuminate an automobile, manufactured home or trailer sales area shall be designed, located and arranged so as to reflect the light away from any street and any adjacent premises. Parking areas and garages shall conform to the lighting requirements of Sec. 12.21 A.5.(k). (Amended by Ord. No. 161,716, Eff. 12/6/86.)\n",
      "          (k) Intersection Obstruction. The provisions of this subsection shall not be construed as permitting any obstruction at a street intersection contrary to the provisions of Section 62.200 of this Code.\n",
      "        7. (Amended by Ord. No. 174,547, Eff. 6/10/02.) No nameplate, sign or advertising matter of any kind shall be placed or maintained on any lot in any zone except in accordance with the following regulations:\n",
      "          (a) All nameplates, signs and advertising matter on a lot in an \"A\" or \"R\" Zone shall pertain to a permitted use (except that no signs shall be permitted to identify a home occupation) or indicate the name of the occupant and shall be located on the same lot with that use;\n",
      "          (b) No nameplate, sign or advertising matter, which is attached to a building on a lot in an \"A\" or \"R\" Zone, may project above the roof ridge or parapet wall (whichever is the higher) of the building;\n",
      "          (c) No illuminated nameplate, identification sign or advertising matter, which is permitted by this subdivision, may be of the flashing, moving or animated type;\n",
      "          (d) There may be only one unlighted nameplate for each dwelling unit on a lot in an \"A\" or \"R\" Zone indicating the name of the occupant, (except that no signs shall be permitted to identify a home occupation), and no nameplate may exceed three square feet in area in an \"A\" Zone, nor exceed one and one-half square feet in area in an \"R\" Zone;\n",
      "          (e) There may be one or more unlighted signs pertaining to the sale of farm products raised or produced on the premises, but the total area of all these signs shall not exceed 20 square feet on any lot in an \"A\" Zone, nor exceed 12 feet on any lot in an \"R\" Zone;\n",
      "          (f) There may be one or more unlighted signs pertaining to the prospective rental or sale of the property, but the total area of all these signs shall not exceed 20 square feet on any lot in an \"A\" Zone, nor exceed 12 square feet on any lot in an \"R\" Zone;\n",
      "          (g) There may be one identification sign for each farm, ranch, estate or building other than a dwelling in an \"A\" Zone, but that identification sign may not exceed 20 square feet in area;\n",
      "          (h) There may be one or more signs identifying the buildings or permitted use (except that no signs shall be permitted to identify a home occupation) on any lot in any \"R\" Zone, but no one sign may have a surface area which exceeds 20 square feet, nor shall the total surface area of all these signs exceed 30 square feet;\n",
      "          (i) There may be one church bulletin board, not exceeding 18 square feet in area, on any lot in any \"A\" or \"R\" Zone;\n",
      "          (j) There may be one or more signs, warning against trespassing, on any lot in an \"A\" Zone, but no one sign shall exceed three square feet in area.\n",
      "          (k) Temporary Subdivision Directional Signs. Notwithstanding any other provision of this article, a Zoning Administrator may approve the use of any property in an \"A\" or \"R\" Zone for the erection and maintenance of temporary unlighted subdivision directional signs, which are neither reflective nor fluorescent, if the Zoning Administrator finds that the location of the signs is proper in relation to uses of adjacent property and that the use will not be materially detrimental to the property of other persons located in that vicinity. This approval shall be subject to the following regulations:\n",
      "            (1) An application shall be filed in the Office of Zoning Administration upon a form and accompanied by the data and information as has been prescribed by the Office. Each application shall be consented to and acknowledged by the owner or lessee of each parcel of property upon which a sign is to erected. Only one application need be filed for all temporary, unlighted, subdivision directional signs relating to a single subdivision separately numbered and recorded by the Los Angeles County Recorder. The manner of installation and conditions regulating number, size and type of signs shall be determined and approved by a Zoning Administrator. To the extent possible, the Zoning Administrator shall make available a list or explanation of those installation features and conditions that are usually required.\n",
      "            (2) An approval to erect and maintain signs pursuant to this paragraph shall be valid for one year. If, after one year, 3/4 of the dwelling units or lots have not been sold or leased for the first time, approval for retaining the directional signs for not more than an additional one-year period may be granted by a Zoning Administrator.\n",
      "            (3) No sign erected pursuant to this paragraph shall exceed 12 square feet in area.\n",
      "            (4) One temporary, unlighted, subdivision directional sign may be approved for location adjacent to each street which constitutes a separate and distinct direction on the route from a major or secondary highway to a subdivision site. Where there are two or more major or secondary highways from which there are routes to a subdivision site, signs may be approved only along two routes.\n",
      "            (5) The erection and maintenance of temporary, unlighted, subdivision directional signs may be approved only on vacant property; however, if a Zoning Administrator determines that vacant property is not available in locations where provisions for travel directions are essential, the Zoning Administrator may approve developed property for the location of signs.\n",
      "            (6) Signs may not be located within the public right-of-way of any highway, street, alley, or on any other public right- of-way.\n",
      "            (7) All signs permitted by this paragraph shall be removed within five days after the expiration of the authorized time period. Each application shall contain a statement signed by the applicant, the owner of the signs, and the owner or lessee of the property upon which the signs are to be placed, agreeing that if the signs are not removed as required above, they may be confiscated, removed and destroyed by the City without further notice. Prior to the erection of any signs authorized pursuant to any single application, the applicant shall deposit $100 with the Department of Building and Safety for the purposes of defraying any expense incurred by the City in the removal of the signs. This money shall be refunded on the expiration of the prescribed time period if all of the signs have been removed by the applicant, the owner of the signs, or the owner and the lessee of the property where the signs are placed.\n",
      "            (8) Any sign erected pursuant to these regulations may be used only for the purpose of providing necessary travel direction to a subdivision development located in the City of Los Angeles, and must include the name of the owner, the City Planning Department file number, and the expiration date of the approval period. The sign may contain the name of the land development project to which it pertains, including a characteristic trademark or other identifying insignia. The content of each sign shall be subject to approval by a Zoning Administrator.\n",
      "            (9) The approval of temporary subdivision directional signs pursuant to these regulations does not release the applicant from the responsibilities of complying with any provisions of the Los Angeles Municipal Code pertaining to building permit requirements or any other provisions of the Code regulating signs.\n",
      "            (10) Appeals. Appeals from a determination by a Zoning Administrator may be taken to the Area Planning Commission in the manner prescribed in Section 12.24 I.\n",
      "          (l) Off-site signs. No off-site sign shall be allowed in any zone, except when off-site signs are specifically permitted pursuant to a legally adopted specific plan, supplemental use district, an approved development agreement, or a relocation agreement entered into pursuant to California Business and Professions Code Section 5412. Further, legally permitted existing signs shall not be altered or enlarged. (Amended by Ord. No. 176,800, Eff. 8/15/05.)\n",
      "        8. Dismantling, Repairing and Storing of Vehicles - Where Prohibited. (Added by Ord. No. 137,210, Eff. 10/12/68.)\n",
      "          (a) No person shall dismantle, repair, or otherwise perform any work upon any vehicle, machine, motor, appliance or other similar device, other than to effect minor emergency repairs to a motor vehicle, on any property in the A or R Zones unless such activity is incidental to a permitted or a conditionally permitted use and is conducted within a building or within an area wholly enclosed from view by a wall or fence conforming to the requirements of this Code.\n",
      "          (b) No vehicle (except those upon which minor emergency repairs are presently being effected), machine, motor, appliance or other similar device from which any part has been removed, or which is inoperable for any reason, shall be stored, maintained, or kept on any property in the A or R Zones as an activity incidental to a permitted or conditionally permitted use except within a building or within an area which is wholly enclosed from view by a wall or fence conforming to the requirements of this Code.\n",
      "        9. Fences and Walls. Whenever fences or walls are required by any of the provisions of this chapter or by a variance, conditional use, supplemental use district or other authorized Planning Department determination, said fences or walls shall be maintained in good repair and shall be kept vertical, uniform and structurally sound, and all repairs shall blend in with said fence or wall and be compatible therewith in color and material. Fences constructed of wood, metal, Masonite, or similar materials shall be uniformly painted or stained or otherwise treated or sealed to prevent weathering or deterioration. (Amended by Ord. No. 146,030, Eff. 7/11/74.)\n",
      "        10. Alcoholic Beverages. Notwithstanding any other provisions of this Chapter to the contrary, no building, structure or land shall be used for sale or dispensing for consideration of any alcoholic beverage, including beer and wine, for consumption on the premises except upon premises approved for that use in accordance with the provisions of Sec. 13B.2.2. (Class 2 Conditional Use Permit) of Chapter 1A of this Code. The provisions of this subdivision shall not abrogate, however, any right to the continued use of premises for these purposes pursuant to Sec. 13B.2.2.A.3. (Class 2 Conditional Use Permit; Applicability; Existing Uses) of Chapter 1A of this Code. Certain restaurants may be excepted from the provisions of this Subdivision and Sec. 13B.2.2. (Class 2 Conditional Use Permit) of Chapter 1A of this Code. pursuant to authority of the Zoning Administrator contained in Section 12.24 X.2. of this Chapter. (Amended by Ord. No. 187,712, Eff. 1/23/23, Oper. 1/22/24; Ord. No. 187,930, Eff. 7/7/23.)\n",
      "        11. Tennis or Paddle Tennis Courts. A tennis or paddle tennis court, constructed as an accessory use to the primary residential use on the same lot in the A or R Zones, shall comply with specific construction and operation standards as may be established by the Zoning Administrator pursuant to Subsection C.4. of this section and shall be located as required in Subsection C.5. of this section. (Amended by Ord. No. 177,103, Eff. 12/18/05.)\n",
      "        12. Protected Tree and Shrub Relocation and Replacement. All existing protected trees and shrubs and relocation and replacement trees and shrubs specified by the Advisory Agency in accordance with Sections 17.02, 17.05, 17.06, 17.51 and 17.52 of this Code shall be indicated on a plot plan attached to the building permit issued pursuant to this Code. In addition, the trees or shrubs shall be identified and described by map and documentation as required by the Advisory Agency. A Certificate of Occupancy may be issued by the Department of Building and Safety, provided the owner of the property or authorized person representing the owner of the property (licensed contractor) obtains from the Advisory Agency, in consultation with the City's Chief Forester and prior to the final inspection for the construction, a written or electronic document certifying that all the conditions set forth by the Advisory Agency relative to protected trees have been met. (Amended by Ord. No. 186,873, Eff. 2/4/21.)\n",
      "        13. Permitted Incidental Use for Bingo. The conducting of any game of bingo authorized pursuant to the provisions of Article 4.5 of Chapter IV of this Code shall be permitted in the A, R, CR and C1 zones as an activity incidental to any permitted or conditionally permitted use therein for a school, church, lodge, auditorium, recreational and community center or other similar use, provided that the off-street automobile parking space requirements of Subdivision 4. of Section 12.21 A. have been satisfied. Parking spaces provided in satisfaction of such requirements for the permitted incidental use for bingo shall not be subject to the requirements set forth in Subdivisions 5., 6. and 9. of Section 12.21 A. of this Code. (Amended by Ord. No. 153,620, Eff. 5/18/80.)\n",
      "        14. Alcoholic Beverages. (Amended by Ord. No. 187,712, Eff. 1/23/23, Oper. 1/22/24; Ord. No. 187,930, Eff. 7/7/23.) Notwithstanding any other provisions of this Chapter to the contrary, no building, structure or land shall be used for the sale or dispensing for consideration of any alcoholic beverage, including beer and wine, for consumption off-site of the premises except upon premises approved for that use in accordance with the provisions of Sec. 13B.2.2. (Class 2 Conditional Use Permit) of Chapter 1A of this Code. The provisions of this subdivision shall not abrogate any right to the continued use of premises for those purposes pursuant to Sec. 13B.2.2.A.3. (Class 2 Conditional Use Permit; Applicability; Existing Uses) of Chapter 1A of this Code.\n",
      "        The provisions of this Subdivision shall not apply to the sale or dispensing, for consideration, of alcoholic beverages, including beer and wine, for consumption off-site of the premises, if the premises are located within the area of an operative specific plan which provides for conditional use approval for the sale or dispensing. If such a specific plan ceases to be operative, then a conditional use approval granted pursuant to the provisions of that specific plan, for the sales or dispensing, may continue subject to the same rights and limitations as a conditional use granted pursuant to the provisions of Sec. 13B.2.2. (Class 2 Conditional Use Permit) of Chapter 1A of this Code.\n",
      "        15. (Repealed by Ord. No. 171,740, Eff. 10/27/97.)\n",
      "        16. Bicycle Parking and Shower Facilities. (Amended by Ord. No. 185,480, Eff. 5/9/18.) Bicycle parking spaces and facilities for employee showers and lockers shall be provided for new development and additions that increase the floor area of a building as follows:\n",
      "          (a) Land Uses.\n",
      "            (1) Residential.\n",
      "              (i) Dwelling Units. For all residential buildings other than hotels and motels containing more than three dwelling units, long- and short-term bicycle parking shall be provided according to the ratios specified for each marginal increment of dwelling units specified in Table 12.21 A.16.(a)(1)(i). A minimum of two short-term bicycle parking spaces shall be provided in all cases.\n",
      "\n"
     ]
    }
   ],
   "source": [
    "print(new_data.iloc[199]['text'])"
   ]
  }
 ],
 "metadata": {
  "kernelspec": {
   "display_name": "Python 3 (ipykernel)",
   "language": "python",
   "name": "python3"
  },
  "language_info": {
   "codemirror_mode": {
    "name": "ipython",
    "version": 3
   },
   "file_extension": ".py",
   "mimetype": "text/x-python",
   "name": "python",
   "nbconvert_exporter": "python",
   "pygments_lexer": "ipython3",
   "version": "3.10.5"
  }
 },
 "nbformat": 4,
 "nbformat_minor": 5
}

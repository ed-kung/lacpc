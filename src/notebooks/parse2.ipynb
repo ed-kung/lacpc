{
 "cells": [
  {
   "cell_type": "code",
   "execution_count": 1,
   "id": "aec0d480-d8ff-450a-bfff-5f2b151e3a6d",
   "metadata": {},
   "outputs": [],
   "source": [
    "import os\n",
    "import sys\n",
    "import pandas as pd\n",
    "import re\n",
    "import yaml\n",
    "import time\n",
    "\n",
    "from unidecode import unidecode\n",
    "from bs4 import BeautifulSoup\n",
    "from langchain_text_splitters import RecursiveCharacterTextSplitter\n",
    "\n",
    "sys.path.append('../python')\n",
    "\n",
    "import text_tools as tt\n",
    "\n",
    "with open('../../config.yaml', 'r') as f:\n",
    "    config = yaml.safe_load(f)\n",
    "\n",
    "DOCID = \"lamunicipalcode\"\n",
    "FILENAME = f\"../../raw_data/{DOCID}.html\"\n",
    "CHUNK_SIZE = config['CHUNK_SIZE']\n",
    "CHUNK_OVERLAP = config['CHUNK_OVERLAP']\n"
   ]
  },
  {
   "cell_type": "code",
   "execution_count": 2,
   "id": "51fc5bbc-eb53-4d1f-a24d-1791e93895c7",
   "metadata": {},
   "outputs": [
    {
     "name": "stdout",
     "output_type": "stream",
     "text": [
      "128... 256... 384... 512... 640... 768... 896... 1024... 1152... 1280... 1408... 1536... 1664... 1792... 1920... 2048... 2176... 2304... 2432... 2560... 2688... 2816... 2944... 3072... 3200... 3328... 3456... 3584... 3712... 3840... 3968... 4096... 4224... 4352... 4480... 4608... 4736... 4864... 4992... 5120... 5248... 5376... 5504... 5632... 5760... 5888... 6016... 6144... 6272... 6400... 6528... 6656... 6784... 6912... 7040... 7168... 7296... 7424... 7552... 7680... 7808... 7936... Elapsed time: 1.36 minutes\n"
     ]
    }
   ],
   "source": [
    "data = pd.read_pickle(f\"../../intermediate_data/{DOCID}_main.pkl\")\n",
    "\n",
    "t0 = time.time()\n",
    "\n",
    "new_data = []\n",
    "curr_chapter_id = ''\n",
    "curr_article_id = ''\n",
    "curr_section_id = ''\n",
    "all_ids = set()\n",
    "curr_ids = set()\n",
    "flush = False\n",
    "i = 0\n",
    "for idx, row in data.iterrows():\n",
    "    # Flush current ids if new chapter/article/or section\n",
    "    if (len(curr_ids)>0) and (row['item_type'] in ['chapter_title','article_title','section_title']):\n",
    "        flush = True\n",
    "    if flush:\n",
    "        mytext = tt.get_text_from_ids(list(curr_ids), data)\n",
    "        new_data.append({\n",
    "            'id': DOCID + f'_passage_chunk{i}',\n",
    "            'doc_id': DOCID,\n",
    "            'ids': repr(list(curr_ids)),\n",
    "            'chapter_id': curr_chapter_id,\n",
    "            'article_id': curr_article_id,\n",
    "            'section_id': curr_section_id,\n",
    "            'item_type': 'passage_chunk',\n",
    "            'text': mytext\n",
    "        })\n",
    "        all_ids = all_ids.union(curr_ids)\n",
    "        curr_ids = set()\n",
    "        flush = False\n",
    "        i+=1\n",
    "        if i%128==0:\n",
    "            print(f\"{i}... \", end='')\n",
    "            \n",
    "    if row['item_type'] == 'chapter_title':\n",
    "        curr_chapter_id = idx\n",
    "        curr_article_id = ''\n",
    "        curr_section_id = ''\n",
    "    elif row['item_type'] == 'article_title':\n",
    "        curr_article_id = idx\n",
    "        curr_section_id = ''\n",
    "    elif row['item_type'] == 'section_title':\n",
    "        curr_section_id = idx\n",
    "    elif row['first_child_id']=='':\n",
    "        myids = tt.get_vertical_chain(idx, data)\n",
    "        \n",
    "        # if all ids in myids have already been flushed, skip\n",
    "        if len(set(myids).difference(all_ids))==0: \n",
    "            continue\n",
    "        else:\n",
    "            mytext0 = tt.get_text_from_ids(list(curr_ids), data)\n",
    "            mytext1 = tt.get_text_from_ids(list(curr_ids.union(set(myids))), data)\n",
    "            nwords1 = len(mytext1.split())\n",
    "\n",
    "            # flush if adding the current block would send the word count over 500\n",
    "            if (nwords1 > 500) and (len(mytext0)>0):\n",
    "                new_data.append({\n",
    "                    'id': DOCID + f'_passage_chunk{i}',\n",
    "                    'doc_id': DOCID,\n",
    "                    'ids': repr(list(curr_ids)),\n",
    "                    'chapter_id': curr_chapter_id,\n",
    "                    'article_id': curr_article_id,\n",
    "                    'section_id': curr_section_id,\n",
    "                    'item_type': 'passage_chunk',\n",
    "                    'text': mytext0\n",
    "                })\n",
    "                all_ids = all_ids.union(curr_ids)\n",
    "                curr_ids = set(myids)\n",
    "                flush = False\n",
    "                i+=1\n",
    "                if i%128==0:\n",
    "                    print(f\"{i}... \", end='')\n",
    "            else:\n",
    "                curr_ids = curr_ids.union(set(myids))\n",
    "                flush = False\n",
    "\n",
    "# last flush\n",
    "if len(curr_ids)>0:\n",
    "    mytext = tt.get_text_from_ids(list(curr_ids), data)\n",
    "    new_data.append({\n",
    "        'id': DOCID + f'_passage_chunk{i}',\n",
    "        'doc_id': DOCID,\n",
    "        'ids': repr(list(curr_ids)),\n",
    "        'chapter_id': curr_chapter_id,\n",
    "        'article_id': curr_article_id,\n",
    "        'section_id': curr_section_id,\n",
    "        'item_type': 'passage_chunk',\n",
    "        'text': mytext\n",
    "    })\n",
    "    all_ids = all_ids.union(curr_ids)\n",
    "\n",
    "\n",
    "t1 = time.time()\n",
    "print(f\"Elapsed time: {(t1-t0)/60:.2f} minutes\")\n",
    "\n",
    "new_data = pd.DataFrame.from_dict(new_data)\n",
    "new_data = new_data.set_index('id')\n"
   ]
  },
  {
   "cell_type": "code",
   "execution_count": 3,
   "id": "20729fb5-feaa-4f39-aef9-75db8903d435",
   "metadata": {},
   "outputs": [],
   "source": [
    "# There should be no empty text\n",
    "assert (new_data['text'].str.len()<=0).sum()==0"
   ]
  },
  {
   "cell_type": "code",
   "execution_count": 4,
   "id": "2a1dc8d2-d95d-41de-8505-890642ddb871",
   "metadata": {},
   "outputs": [],
   "source": [
    "# All passages (non section/article/chapter titles) should be in all_ids\n",
    "missing_ids = list(set(data.index).difference(all_ids))\n",
    "bad = 0\n",
    "for idx in missing_ids:\n",
    "    item_type = data.loc[idx, 'item_type']\n",
    "    if item_type=='passage':\n",
    "        bad+=1\n",
    "        print(idx)\n",
    "assert bad==0"
   ]
  },
  {
   "cell_type": "code",
   "execution_count": 5,
   "id": "d64657a6-e3a9-4b25-aeb4-e537536efe33",
   "metadata": {},
   "outputs": [
    {
     "data": {
      "text/plain": [
       "[797, 862, 911, 919, 928, 1245, 1339, 1490, 3634, 6782]"
      ]
     },
     "execution_count": 5,
     "metadata": {},
     "output_type": "execute_result"
    }
   ],
   "source": [
    "num_words = new_data['text'].apply(lambda x: len(x.split()))\n",
    "sorted(num_words)[-10:]"
   ]
  },
  {
   "cell_type": "code",
   "execution_count": 6,
   "id": "34831247-dff6-4599-be78-d59d77dbd4b8",
   "metadata": {},
   "outputs": [],
   "source": [
    "new_data.to_csv(f\"../../intermediate_data/{DOCID}_passagechunks.csv\")\n",
    "new_data.to_pickle(f\"../../intermediate_data/{DOCID}_passagechunks.pkl\")"
   ]
  },
  {
   "cell_type": "code",
   "execution_count": 7,
   "id": "fcc994ba-1607-40fb-a276-d4e1b0379151",
   "metadata": {},
   "outputs": [
    {
     "name": "stdout",
     "output_type": "stream",
     "text": [
      "CHAPTER I GENERAL PROVISIONS AND ZONING\n",
      "  ARTICLE 1.5 PLANNING - COMPREHENSIVE PLANNING PROGRAM\n",
      "    SEC. 11.5.11. AFFORDABLE HOUSING.\n",
      "      (j) Definitions.\n",
      "        \" Project \" shall mean the construction, erection, alteration of, or addition to a structure. The term Project shall not include interior or exterior improvements that do not increase the floor area over that of an existing structure, and shall not mean any construction for which a building permit or demolition permit is required to comply with an order issued by the Department of Building and Safety to repair, remove, or demolish an unsafe or substandard condition, or to rebuild as a result of destruction by fire, earthquake or natural disaster, provided that the development is not prohibited by any provision of the Los Angeles Municipal Code and the development does not increase the square footage beyond what previously existed on the site.\n",
      "        \" Replacement Unit \" shall mean any unit that would need to be replaced pursuant to California Government Code Section 65915(c)(3) if the Project was seeking a density bonus.\n",
      "        \" Transitional Worker \" means an individual who, at the time of commencing work on the project, resides in an Economically Disadvantaged Area or Extremely Economically Disadvantaged Area and faces at least two of the following barriers to employment: (1) being homeless; (2) being a custodial single parent; (3) receiving public assistance; (4) lacking a GED or high school diploma; (5) having a criminal record or other involvement with the criminal justice system; (6) suffering from chronic unemployment; (7) emancipated from the foster care system; (8) being a veteran; or (9) being an apprentice with less than 15% of the apprenticeship hours required to graduate to journey level in a program.\n",
      "        \" Very Low-Income Households \" is defined in Section 50105 of the Health and Safety Code.\n",
      "\n"
     ]
    }
   ],
   "source": [
    "print(new_data.iloc[71]['text'])"
   ]
  },
  {
   "cell_type": "code",
   "execution_count": 8,
   "id": "da299b5e-a0b1-414a-a7d5-c65f3bb25862",
   "metadata": {},
   "outputs": [
    {
     "data": {
      "text/plain": [
       "\"['lamunicipalcode_rid-0-0-0-364096', 'lamunicipalcode_rid-0-0-0-364102', 'lamunicipalcode_rid-0-0-0-107689', 'lamunicipalcode_rid-0-0-0-364080', 'lamunicipalcode_rid-0-0-0-364098', 'lamunicipalcode_rid-0-0-0-297069', 'lamunicipalcode_rid-0-0-0-364100', 'lamunicipalcode_rid-0-0-0-107408']\""
      ]
     },
     "execution_count": 8,
     "metadata": {},
     "output_type": "execute_result"
    }
   ],
   "source": [
    "new_data.iloc[71]['ids']"
   ]
  }
 ],
 "metadata": {
  "kernelspec": {
   "display_name": "Python 3 (ipykernel)",
   "language": "python",
   "name": "python3"
  },
  "language_info": {
   "codemirror_mode": {
    "name": "ipython",
    "version": 3
   },
   "file_extension": ".py",
   "mimetype": "text/x-python",
   "name": "python",
   "nbconvert_exporter": "python",
   "pygments_lexer": "ipython3",
   "version": "3.12.7"
  }
 },
 "nbformat": 4,
 "nbformat_minor": 5
}

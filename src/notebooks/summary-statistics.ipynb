{
 "cells": [
  {
   "cell_type": "code",
   "execution_count": 1,
   "id": "0309c721-7f33-4a9a-9267-7824ebd9c6a9",
   "metadata": {},
   "outputs": [],
   "source": [
    "import os\n",
    "import sys\n",
    "import time\n",
    "import yaml\n",
    "import pandas as pd\n",
    "import numpy as np\n",
    "import re\n",
    "\n",
    "with open('../../config.local.yaml', 'r') as f:\n",
    "    local_config = yaml.safe_load(f)\n",
    "\n",
    "LOCAL_PATH = local_config['LOCAL_PATH']\n",
    "\n",
    "sys.path.append(os.path.join(LOCAL_PATH, \"src/python\"))\n",
    "\n",
    "import data_tools as dt\n",
    "\n",
    "from matplotlib import pyplot as plt\n",
    "from sklearn.linear_model import LogisticRegression\n",
    "from IPython.core.display import HTML\n",
    "from sklearn.linear_model import LogisticRegression\n",
    "import statsmodels.api as sm\n",
    "from stargazer.stargazer import Stargazer\n",
    "\n",
    "rng = np.random.default_rng(12898)\n",
    "\n",
    "SUPPORT_TAGS = ['DEFINITELY SUPPORT', 'SOMEWHAT SUPPORT']\n",
    "OPPOSE_TAGS = ['DEFINITELY OPPOSE', 'SOMEWHAT OPPOSE']\n",
    "ORDERED_TAGS = ['DEFINITELY SUPPORT', 'SOMEWHAT SUPPORT', 'SOMEWHAT OPPOSE', 'DEFINITELY OPPOSE']\n",
    "\n",
    "APPROVE_TAGS = ['APPROVED', 'APPROVED IN PART OR WITH MODIFICATIONS']"
   ]
  },
  {
   "cell_type": "code",
   "execution_count": 2,
   "id": "f30a73b0-8f12-47bf-959b-cb005ce6a607",
   "metadata": {},
   "outputs": [],
   "source": [
    "dfa = dt.get_agenda_items(verbose=False)\n",
    "dfm = dt.get_minutes(verbose=False)\n",
    "dfl = dt.get_supplemental_docs(verbose=False)"
   ]
  },
  {
   "cell_type": "code",
   "execution_count": 7,
   "id": "039394fa-f69d-496e-87ad-7e8f7fa965bd",
   "metadata": {},
   "outputs": [
    {
     "name": "stdout",
     "output_type": "stream",
     "text": [
      "Number of ayes:        4,838\n",
      "Number of nays:        91\n",
      "Number of abstentions: 4\n",
      "Number of absences:    1,245\n",
      "Number of recusals:    55\n",
      "\n",
      "Number of unanimous votes:   664\n",
      "Number of contested votes:   66\n"
     ]
    }
   ],
   "source": [
    "# Summary statistics on voting patterns\n",
    "total_ayes = dfm['n_ayes'].sum()\n",
    "total_nays = dfm['n_nays'].sum()\n",
    "total_abstains = dfm['n_abstained'].sum()\n",
    "total_absences = dfm['n_absent'].sum()\n",
    "total_recusals = dfm['n_recused'].sum()\n",
    "n_unanimous = (dfm['n_nays']==0).sum()\n",
    "n_contested = (dfm['n_nays']>0).sum()\n",
    "\n",
    "print(f\"Number of ayes:        {total_ayes:,.0f}\")\n",
    "print(f\"Number of nays:        {total_nays:,.0f}\")\n",
    "print(f\"Number of abstentions: {total_abstains:,.0f}\")\n",
    "print(f\"Number of absences:    {total_absences:,.0f}\")\n",
    "print(f\"Number of recusals:    {total_recusals:,.0f}\")\n",
    "print(\"\")\n",
    "print(f\"Number of unanimous votes:   {n_unanimous:,.0f}\")\n",
    "print(f\"Number of contested votes:   {n_contested:,.0f}\")"
   ]
  },
  {
   "cell_type": "code",
   "execution_count": 8,
   "id": "726dd921-e078-409e-a5ec-5af58231f2bb",
   "metadata": {},
   "outputs": [
    {
     "data": {
      "text/plain": [
       "0      0\n",
       "1      0\n",
       "2      0\n",
       "3      0\n",
       "4      0\n",
       "      ..\n",
       "725    0\n",
       "726    0\n",
       "727    0\n",
       "728    0\n",
       "729    0\n",
       "Name: ayes_count, Length: 730, dtype: int64"
      ]
     },
     "execution_count": 8,
     "metadata": {},
     "output_type": "execute_result"
    }
   ],
   "source": [
    "dfm['ayes_count']"
   ]
  }
 ],
 "metadata": {
  "kernelspec": {
   "display_name": "Python 3 (ipykernel)",
   "language": "python",
   "name": "python3"
  },
  "language_info": {
   "codemirror_mode": {
    "name": "ipython",
    "version": 3
   },
   "file_extension": ".py",
   "mimetype": "text/x-python",
   "name": "python",
   "nbconvert_exporter": "python",
   "pygments_lexer": "ipython3",
   "version": "3.12.10"
  }
 },
 "nbformat": 4,
 "nbformat_minor": 5
}

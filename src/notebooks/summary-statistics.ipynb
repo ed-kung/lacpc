{
 "cells": [
  {
   "cell_type": "code",
   "execution_count": 9,
   "id": "0309c721-7f33-4a9a-9267-7824ebd9c6a9",
   "metadata": {},
   "outputs": [],
   "source": [
    "import os\n",
    "import sys\n",
    "import time\n",
    "import yaml\n",
    "import pandas as pd\n",
    "import numpy as np\n",
    "import re\n",
    "\n",
    "with open('../../config.local.yaml', 'r') as f:\n",
    "    local_config = yaml.safe_load(f)\n",
    "\n",
    "LOCAL_PATH = local_config['LOCAL_PATH']\n",
    "DATA_PATH = os.path.join(LOCAL_PATH, \"intermediate_data/cpc\")\n",
    "\n",
    "sys.path.append(os.path.join(LOCAL_PATH, \"src/python\"))\n",
    "\n",
    "import data_tools as dt\n",
    "import writing_tools as wt\n",
    "\n",
    "rng = np.random.default_rng(12898)\n",
    "\n",
    "RESULTS = {}\n",
    "\n",
    "MANIFEST = pd.read_csv(os.path.join(DATA_PATH, 'meetings-manifest.csv'))\n"
   ]
  },
  {
   "cell_type": "code",
   "execution_count": 10,
   "id": "f30a73b0-8f12-47bf-959b-cb005ce6a607",
   "metadata": {},
   "outputs": [
    {
     "name": "stdout",
     "output_type": "stream",
     "text": [
      "No data found for 2021-01-14\n",
      "No data found for 2022-03-17\n",
      "No data found for 2022-10-13\n"
     ]
    }
   ],
   "source": [
    "df = dt.get_analysis_data()\n",
    "dfa = dt.get_agenda_items()"
   ]
  },
  {
   "cell_type": "code",
   "execution_count": 11,
   "id": "6c111d42",
   "metadata": {},
   "outputs": [],
   "source": [
    "# Basic info\n",
    "\n",
    "NUMBER_OF_MEETINGS = df['date'].nunique()\n",
    "FIRST_MEETING_DATE = pd.to_datetime(df['date']).min()\n",
    "LAST_MEETING_DATE = pd.to_datetime(df['date']).max()\n",
    "NUMBER_OF_YEARS = LAST_MEETING_DATE.year - FIRST_MEETING_DATE.year + 1\n",
    "NUMBER_OF_CASES = len(df)\n",
    "\n",
    "RESULTS['NumberOfMeetings'] = f\"{NUMBER_OF_MEETINGS}\"\n",
    "RESULTS['FirstMeetingDate'] = FIRST_MEETING_DATE.strftime('%Y-%m-%d')\n",
    "RESULTS['LastMeetingDate'] = LAST_MEETING_DATE.strftime('%Y-%m-%d')\n",
    "RESULTS['NumberOfYears'] = f\"{NUMBER_OF_YEARS}\"\n",
    "RESULTS['NumberOfCases'] = f\"{NUMBER_OF_CASES:,.0f}\""
   ]
  },
  {
   "cell_type": "code",
   "execution_count": 12,
   "id": "6521a8e2",
   "metadata": {},
   "outputs": [],
   "source": [
    "# Number of agenda items (total, including non-cases)\n",
    "\n",
    "AGENDA_ITEMS = 0\n",
    "for date in df['date'].unique():\n",
    "    filename = os.path.join(DATA_PATH, date[0:4], date, 'agenda-items.pkl')\n",
    "    mydf = pd.read_pickle(filename)\n",
    "    AGENDA_ITEMS += len(mydf)\n",
    "\n",
    "RESULTS['NumberOfAgendaItems'] = f\"{AGENDA_ITEMS:,.0f}\""
   ]
  },
  {
   "cell_type": "code",
   "execution_count": 13,
   "id": "42cab333",
   "metadata": {},
   "outputs": [],
   "source": [
    "# Number of supplemental documents\n",
    "\n",
    "SUPPLEMENTAL_DOCS = 0\n",
    "for date in df['date'].unique():\n",
    "    filename = os.path.join(DATA_PATH, date[0:4], date, 'supplemental-docs.pkl')\n",
    "    mydf = pd.read_pickle(filename)\n",
    "    SUPPLEMENTAL_DOCS += len(mydf)\n",
    "\n",
    "RESULTS['NumberOfSupplementalDocs'] = f\"{SUPPLEMENTAL_DOCS:,.0f}\""
   ]
  },
  {
   "cell_type": "code",
   "execution_count": 14,
   "id": "3e41ffb1",
   "metadata": {},
   "outputs": [],
   "source": [
    "# Page counts\n",
    "\n",
    "PAGE_COUNT = 0\n",
    "for date in df['date'].unique():\n",
    "    row = MANIFEST.loc[MANIFEST['date'] == date].iloc[0]\n",
    "    PAGE_COUNT += row['agenda_pages'] + row['minutes_pages'] + row['supdocs_pages']\n",
    "\n",
    "RESULTS['PageCount'] = f\"{PAGE_COUNT:,.0f}\"\n",
    "    "
   ]
  },
  {
   "cell_type": "code",
   "execution_count": 15,
   "id": "861230d6",
   "metadata": {},
   "outputs": [
    {
     "name": "stdout",
     "output_type": "stream",
     "text": [
      "\\begin{tabular}{|lrrrrr|} \\toprule\n",
      " & \\multicolumn{3}{c}{Unanimity} & Total & \\\\ \n",
      " & Unanimous & 1 Nay & >1 Nays & & \\\\ \\midrule\n",
      "\\textit{Project Implication} & & & & & \\\\ \n",
      "~ ~ APPROVED & 365 & 23 & 4 & 392 & (53.9\\%) \\\\ [1ex] \n",
      "~ ~ APPROVED IN PART OR WITH MODIFICATIONS & 183 & 17 & 16 & 216 & (29.7\\%) \\\\ [1ex] \n",
      "~ ~ DELIBERATIONS CONTINUED TO FUTURE DATE & 108 & 4 & 0 & 112 & (15.4\\%) \\\\ [1ex] \n",
      "~ ~ DENIED & 5 & 0 & 2 & 7 & (1.0\\%) \\\\ [1ex] \n",
      "~ ~ TOTAL & 661 & 44 & 22 & 727 &  \\\\ [1ex] \n",
      " & (90.9\\%) & (6.1\\%) & (3.0\\%) &  &  \\\\ [1ex] \n",
      "\\end{tabular}\n",
      "\n"
     ]
    }
   ],
   "source": [
    "# Main summary statistic table\n",
    "\n",
    "df['unanimity'] = ''\n",
    "df.loc[ df['n_nays']==0, 'unanimity'] = 'Unanimous'\n",
    "df.loc[ df['n_nays']==1, 'unanimity'] = '1 Nay'\n",
    "df.loc[ df['n_nays']>1, 'unanimity'] = '>1 Nays'\n",
    "\n",
    "summ_tbl = pd.crosstab(df['project_result'], df['unanimity'])\n",
    "\n",
    "HEADER = \"\"\"\\\\begin{tabular}{|lrrrrr|} \\\\toprule\n",
    " & \\\\multicolumn{3}{c}{Unanimity} & Total & \\\\\\\\ \n",
    " & Unanimous & 1 Nay & >1 Nays & & \\\\\\\\ \\\\midrule\n",
    "\\\\textit{Project Implication} & & & & & \\\\\\\\ \"\"\"\n",
    "FOOTER = \"\"\"\\\\end{tabular}\"\"\"\n",
    "tbl = []\n",
    "for idx, row in summ_tbl.iterrows():\n",
    "    unanimous = f\"{row['Unanimous']:,.0f}\"\n",
    "    one_nay = f\"{row['1 Nay']:,.0f}\"\n",
    "    multiple_nays = f\"{row['>1 Nays']:,.0f}\"\n",
    "    rowsum = f\"{row.sum():,.0f}\"\n",
    "    pct = f\"({row.sum()/summ_tbl.sum().sum()*100:.1f}\\\\%)\"\n",
    "    tbl.append([f\"~ ~ {idx}\", unanimous, one_nay, multiple_nays, rowsum, pct])\n",
    "unanimous = f\"{summ_tbl['Unanimous'].sum():,.0f}\"\n",
    "one_nay = f\"{summ_tbl['1 Nay'].sum():,.0f}\"\n",
    "multiple_nays = f\"{summ_tbl['>1 Nays'].sum():,.0f}\"\n",
    "total = f\"{summ_tbl.sum().sum():,.0f}\"\n",
    "tbl.append([f\"~ ~ TOTAL\", unanimous, one_nay, multiple_nays, total, \"\"])\n",
    "unanimous_pct = f\"({summ_tbl['Unanimous'].sum()/summ_tbl.sum().sum()*100:.1f}\\\\%)\"\n",
    "one_nay_pct = f\"({summ_tbl['1 Nay'].sum()/summ_tbl.sum().sum()*100:.1f}\\\\%)\"\n",
    "multiple_nays_pct = f\"({summ_tbl['>1 Nays'].sum()/summ_tbl.sum().sum()*100:.1f}\\\\%)\"\n",
    "tbl.append([\"\", unanimous_pct, one_nay_pct, multiple_nays_pct, \"\", \"\"])\n",
    "my_table = wt.latex_table(tbl, header=HEADER, footer=FOOTER)\n",
    "\n",
    "filename = os.path.join(LOCAL_PATH, 'tables', 'tab_result_unanimity.tex')\n",
    "with open(filename, 'w') as f:\n",
    "    f.write(my_table)\n",
    "\n",
    "print(my_table)"
   ]
  },
  {
   "cell_type": "code",
   "execution_count": 16,
   "id": "79989f61",
   "metadata": {},
   "outputs": [
    {
     "data": {
      "text/plain": [
       "{'NumberOfMeetings': '153',\n",
       " 'FirstMeetingDate': '2018-05-10',\n",
       " 'LastMeetingDate': '2024-12-19',\n",
       " 'NumberOfCases': '727',\n",
       " 'PageCount': '23,633',\n",
       " 'NumberOfYears': '7',\n",
       " 'NumberOfAgendaItems': '1,497',\n",
       " 'NumberOfSupplementalDocs': '6,447'}"
      ]
     },
     "execution_count": 16,
     "metadata": {},
     "output_type": "execute_result"
    }
   ],
   "source": [
    "wt.update_results(RESULTS)"
   ]
  }
 ],
 "metadata": {
  "kernelspec": {
   "display_name": "Python 3",
   "language": "python",
   "name": "python3"
  },
  "language_info": {
   "codemirror_mode": {
    "name": "ipython",
    "version": 3
   },
   "file_extension": ".py",
   "mimetype": "text/x-python",
   "name": "python",
   "nbconvert_exporter": "python",
   "pygments_lexer": "ipython3",
   "version": "3.9.6"
  }
 },
 "nbformat": 4,
 "nbformat_minor": 5
}

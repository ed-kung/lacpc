{
 "cells": [
  {
   "cell_type": "code",
   "execution_count": 1,
   "id": "383906b5-10fa-45b9-86f8-8040ef14107d",
   "metadata": {},
   "outputs": [],
   "source": [
    "import os\n",
    "import sys\n",
    "import yaml\n",
    "from pathlib import Path\n",
    "import pandas as pd\n",
    "import numpy as np\n",
    "\n",
    "with open('../../config.local.yaml', 'r') as f:\n",
    "    local_config = yaml.safe_load(f)\n",
    "\n",
    "LOCAL_PATH = local_config['LOCAL_PATH']\n",
    "\n",
    "sys.path.append(os.path.join(LOCAL_PATH, \"src/python\"))"
   ]
  },
  {
   "cell_type": "code",
   "execution_count": 2,
   "id": "f154c448-5ea2-4d60-86b0-17c1214e846a",
   "metadata": {},
   "outputs": [],
   "source": [
    "splits_df = pd.read_csv(os.path.join(\n",
    "    LOCAL_PATH, \"raw_data/cpc/supplemental-docs-splits.csv\"\n",
    "))\n",
    "SPLITS_DATE_LIST = sorted(list(splits_df['date'].unique()))"
   ]
  },
  {
   "cell_type": "code",
   "execution_count": 3,
   "id": "50dd0895-bbe3-48ea-a697-7d5101639401",
   "metadata": {},
   "outputs": [],
   "source": [
    "df = []\n",
    "ROOT_DIR = Path(os.path.join(LOCAL_PATH, \"intermediate_data/cpc\"))\n",
    "YEARS = sorted([d.name for d in ROOT_DIR.iterdir() if d.is_dir()])\n",
    "for year in YEARS:\n",
    "    YEAR_DIR = Path(os.path.join(ROOT_DIR, str(year)))\n",
    "    DATES = sorted([d.name for d in YEAR_DIR.iterdir() if d.is_dir()])\n",
    "    for date in DATES:\n",
    "        date_path = os.path.join(LOCAL_PATH, f\"intermediate_data/cpc/{year}/{date}\")\n",
    "        agenda_file = os.path.join(date_path, \"agenda.txt\")\n",
    "        minutes_file = os.path.join(date_path, \"minutes.txt\")\n",
    "        supdocs_file = os.path.join(date_path, \"supplemental-docs.txt\")\n",
    "        if not os.path.exists(agenda_file):\n",
    "            continue\n",
    "        if not os.path.exists(minutes_file):\n",
    "            continue\n",
    "        if not os.path.exists(supdocs_file):\n",
    "            continue\n",
    "        with open(agenda_file, 'r', encoding='utf-8') as f:\n",
    "            text = f.read()\n",
    "            agenda_pages = len(text.split(\"<PAGE BREAK>\"))\n",
    "        with open(minutes_file, 'r', encoding='utf-8') as f:\n",
    "            text = f.read()\n",
    "            minutes_pages = len(text.split(\"<PAGE BREAK>\"))\n",
    "        with open(supdocs_file, 'r', encoding='utf-8') as f:\n",
    "            text = f.read()\n",
    "            supdocs_pages = len(text.split(\"<PAGE BREAK>\"))\n",
    "        df.append({\n",
    "            'year': year,\n",
    "            'date': date,\n",
    "            'agenda_pages': agenda_pages,\n",
    "            'minutes_pages': minutes_pages,\n",
    "            'supdocs_pages': supdocs_pages\n",
    "        })\n",
    "df = pd.DataFrame.from_dict(df)"
   ]
  },
  {
   "cell_type": "code",
   "execution_count": 4,
   "id": "e7bbe5b1-5799-41c2-a6d3-41f13ebddfd1",
   "metadata": {},
   "outputs": [],
   "source": [
    "DATE_LIST = sorted(list(df['date'].unique()))"
   ]
  },
  {
   "cell_type": "code",
   "execution_count": 5,
   "id": "94fdb459-51ec-4af8-a421-2c83768def2f",
   "metadata": {},
   "outputs": [],
   "source": [
    "set_diff = set(DATE_LIST).difference(set(SPLITS_DATE_LIST))\n",
    "if len(set_diff)>0:\n",
    "    print(\"Warning: These dates have all three files but are not contained in supplemental-docs-splits.csv\")\n",
    "    print(sorted(list(set_diff)))"
   ]
  },
  {
   "cell_type": "code",
   "execution_count": 6,
   "id": "1cd444d4-95e6-4774-9b20-a5abcacecb31",
   "metadata": {},
   "outputs": [],
   "source": [
    "df.to_csv(\n",
    "    os.path.join(LOCAL_PATH, \"intermediate_data/cpc/meetings-manifest.csv\"),\n",
    "    header = True,\n",
    "    index = False\n",
    ")"
   ]
  }
 ],
 "metadata": {
  "kernelspec": {
   "display_name": "Python 3 (ipykernel)",
   "language": "python",
   "name": "python3"
  },
  "language_info": {
   "codemirror_mode": {
    "name": "ipython",
    "version": 3
   },
   "file_extension": ".py",
   "mimetype": "text/x-python",
   "name": "python",
   "nbconvert_exporter": "python",
   "pygments_lexer": "ipython3",
   "version": "3.9.6"
  }
 },
 "nbformat": 4,
 "nbformat_minor": 5
}

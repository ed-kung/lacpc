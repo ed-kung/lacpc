{
 "cells": [
  {
   "cell_type": "code",
   "execution_count": 1,
   "id": "aec0d480-d8ff-450a-bfff-5f2b151e3a6d",
   "metadata": {},
   "outputs": [
    {
     "name": "stderr",
     "output_type": "stream",
     "text": [
      "C:\\Users\\edwar\\AppData\\Local\\Packages\\PythonSoftwareFoundation.Python.3.12_qbz5n2kfra8p0\\LocalCache\\local-packages\\Python312\\site-packages\\pinecone\\data\\index.py:1: TqdmWarning: IProgress not found. Please update jupyter and ipywidgets. See https://ipywidgets.readthedocs.io/en/stable/user_install.html\n",
      "  from tqdm.autonotebook import tqdm\n"
     ]
    }
   ],
   "source": [
    "import os\n",
    "import sys\n",
    "sys.path.append('../python')\n",
    "\n",
    "import pandas as pd\n",
    "import numpy as np\n",
    "import yaml\n",
    "import time\n",
    "import api\n",
    "import json\n"
   ]
  },
  {
   "cell_type": "code",
   "execution_count": 2,
   "id": "51fc5bbc-eb53-4d1f-a24d-1791e93895c7",
   "metadata": {},
   "outputs": [],
   "source": [
    "df = pd.read_excel(\"../../raw_data/LA Business Council Data Request - 20220823.xlsx\")\n",
    "assert df['Case Number'].duplicated().sum()==0\n",
    "df['Address'] = df['Address'].fillna('')"
   ]
  },
  {
   "cell_type": "code",
   "execution_count": 3,
   "id": "c88a9ded-5e69-43be-9498-79a3a5f24a53",
   "metadata": {},
   "outputs": [],
   "source": [
    "with open(\"../../intermediate_data/la_planning_dept_cases_geocodes.json\", 'r') as f:\n",
    "    out_dict = json.loads(f.read())"
   ]
  },
  {
   "cell_type": "code",
   "execution_count": 4,
   "id": "3e1b48e7-698a-48a0-93ca-e92fc62048c0",
   "metadata": {},
   "outputs": [],
   "source": [
    "for idx, row in df.iterrows():\n",
    "    case_number = row['Case Number']\n",
    "    if case_number not in out_dict.keys():\n",
    "        address = row['Address']\n",
    "        address_split = address.split()\n",
    "        if len(address_split)>0:\n",
    "            street = address_split[0:-2]\n",
    "            zipcode = address_split[-1]\n",
    "            state = 'CA'\n",
    "            r = api.geocode_address(street, zipcode, state)\n",
    "            out_dict[case_number] = r\n",
    "            if r['response_status_code']!=200:\n",
    "                print(case_number)\n",
    "                print(r)\n",
    "        time.sleep(0.5)"
   ]
  },
  {
   "cell_type": "code",
   "execution_count": 5,
   "id": "b416ac48-6695-4bcf-860a-8ab7a45244b1",
   "metadata": {},
   "outputs": [],
   "source": [
    "with open(\"../../intermediate_data/la_planning_dept_cases_geocodes.json\", 'w') as f:\n",
    "    f.write(json.dumps(out_dict))"
   ]
  },
  {
   "cell_type": "code",
   "execution_count": 6,
   "id": "68983a30-10fc-41dc-97aa-65eb79e8a594",
   "metadata": {},
   "outputs": [],
   "source": [
    "with open(\"../../intermediate_data/la_planning_dept_cases_geocodes.json\", 'r') as f:\n",
    "    j = json.loads(f.read())"
   ]
  },
  {
   "cell_type": "code",
   "execution_count": 7,
   "id": "4a68ac3c-d07b-479f-9b06-1c086f402c36",
   "metadata": {},
   "outputs": [
    {
     "data": {
      "text/plain": [
       "8102"
      ]
     },
     "execution_count": 7,
     "metadata": {},
     "output_type": "execute_result"
    }
   ],
   "source": [
    "len(j)"
   ]
  }
 ],
 "metadata": {
  "kernelspec": {
   "display_name": "Python 3 (ipykernel)",
   "language": "python",
   "name": "python3"
  },
  "language_info": {
   "codemirror_mode": {
    "name": "ipython",
    "version": 3
   },
   "file_extension": ".py",
   "mimetype": "text/x-python",
   "name": "python",
   "nbconvert_exporter": "python",
   "pygments_lexer": "ipython3",
   "version": "3.12.7"
  }
 },
 "nbformat": 4,
 "nbformat_minor": 5
}

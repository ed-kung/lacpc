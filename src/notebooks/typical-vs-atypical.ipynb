{
 "cells": [
  {
   "cell_type": "code",
   "execution_count": 20,
   "id": "453d2659-707e-4355-83cb-7c8f5734c52d",
   "metadata": {},
   "outputs": [],
   "source": [
    "import os\n",
    "import sys\n",
    "import time\n",
    "import yaml\n",
    "import pandas as pd\n",
    "import numpy as np\n",
    "import re\n",
    "\n",
    "with open('../../config.local.yaml', 'r') as f:\n",
    "    local_config = yaml.safe_load(f)\n",
    "\n",
    "LOCAL_PATH = local_config['LOCAL_PATH']\n",
    "DATA_PATH = os.path.join(LOCAL_PATH, 'intermediate_data', 'cpc')\n",
    "\n",
    "sys.path.append(os.path.join(LOCAL_PATH, \"src/python\"))\n",
    "\n",
    "import data_tools as dt\n",
    "from utils import parse_casenum\n",
    "from llm import get_embeddings\n",
    "\n",
    "from matplotlib import pyplot as plt\n",
    "from sklearn.linear_model import LogisticRegression\n",
    "from IPython.core.display import HTML\n",
    "from sklearn.linear_model import LogisticRegression\n",
    "from sklearn.decomposition import PCA\n",
    "from sklearn.cluster import KMeans\n",
    "import statsmodels.api as sm\n",
    "from stargazer.stargazer import Stargazer\n",
    "\n",
    "rng = np.random.default_rng(12898)\n"
   ]
  },
  {
   "cell_type": "code",
   "execution_count": 21,
   "id": "f5ead300",
   "metadata": {},
   "outputs": [
    {
     "name": "stdout",
     "output_type": "stream",
     "text": [
      "No data found for 2021-01-14\n",
      "No data found for 2022-03-17\n",
      "No data found for 2022-10-13\n"
     ]
    }
   ],
   "source": [
    "df = pd.read_csv(os.path.join(DATA_PATH, 'working_file.csv'))\n",
    "dfa = dt.get_agenda_items()"
   ]
  },
  {
   "cell_type": "code",
   "execution_count": 22,
   "id": "82dadc23",
   "metadata": {},
   "outputs": [],
   "source": [
    "dfa['dateitem_no'] = dfa['date'] + dfa['item_no']\n",
    "df = df.merge(\n",
    "    dfa[['dateitem_no', 'agenda_content', 'project_summary']],\n",
    "    on='dateitem_no', how='left'\n",
    ").reset_index(drop=True)\n"
   ]
  },
  {
   "cell_type": "code",
   "execution_count": 23,
   "id": "2f4fe410",
   "metadata": {},
   "outputs": [
    {
     "name": "stdout",
     "output_type": "stream",
     "text": [
      "Cluster 0 - Mahalanobis distance: 1.2563\n",
      "\n",
      "\n",
      "The proposed project involves the construction of a new 73-unit mixed-use development at 418 N. Alvarado Street. The development will include approximately 52,000 square feet of space, with 500 square feet dedicated to ground floor commercial use. The project will feature a five-story building with two levels of parking, one of which is subterranean, providing a total of 81 parking spaces. Six units will be designated for Very Low-Income households. The project requests a 35% Density Bonus, a Floor Area Ratio (FAR) increase to 2.85:1, and an increase in height to allow a 69-foot, five-story building.\n"
     ]
    }
   ],
   "source": [
    "# most typical item, cluster 0\n",
    "cluster = 0\n",
    "row = df[df['cluster']==cluster].sort_values(by='mahalanobis', ascending=True).iloc[0]\n",
    "mahalanobis = row['mahalanobis']\n",
    "agenda_content = row['agenda_content']\n",
    "project_summary = row['project_summary']\n",
    "print(f\"Cluster {cluster} - Mahalanobis distance: {mahalanobis:.4f}\\n\")\n",
    "print('')\n",
    "print(project_summary)"
   ]
  },
  {
   "cell_type": "code",
   "execution_count": 24,
   "id": "b4fbdd0b",
   "metadata": {},
   "outputs": [
    {
     "name": "stdout",
     "output_type": "stream",
     "text": [
      "Cluster 0 - Mahalanobis distance: 7.0405\n",
      "\n",
      "\n",
      "The project involves converting a new 4,868 square-foot single-family dwelling into a congregate living health facility with 18 beds. The facility will operate 24 hours with a staff of four employees per shift. The project also requests a reduction in onsite parking, providing four parking spaces instead of the required 10 in the R1 Zone.\n"
     ]
    }
   ],
   "source": [
    "# most atypical item, cluster 0\n",
    "cluster = 0\n",
    "row = df[df['cluster']==cluster].sort_values(by='mahalanobis', ascending=False).iloc[0]\n",
    "mahalanobis = row['mahalanobis']\n",
    "agenda_content = row['agenda_content']\n",
    "project_summary = row['project_summary']\n",
    "print(f\"Cluster {cluster} - Mahalanobis distance: {mahalanobis:.4f}\\n\")\n",
    "print('')\n",
    "print(project_summary)"
   ]
  },
  {
   "cell_type": "code",
   "execution_count": 25,
   "id": "636d0bbd",
   "metadata": {},
   "outputs": [
    {
     "name": "stdout",
     "output_type": "stream",
     "text": [
      "Cluster 1 - Mahalanobis distance: 1.1474\n",
      "\n",
      "\n",
      "The project involves an ordinance to amend portions of the Warner Center 2035 Specific Plan. The amendments aim to update and clarify the assessment and calculation of mobility fees as outlined in Section 7 of the Plan. The amendments will affect Sections 4, 5, and 7, as well as Appendices D and E of the Plan. The project has been assessed in a previously certified Environmental Impact Report, and no further environmental documentation is required.\n"
     ]
    }
   ],
   "source": [
    "# most typical item, cluster 1\n",
    "cluster = 1\n",
    "row = df[df['cluster']==cluster].sort_values(by='mahalanobis', ascending=True).iloc[0]\n",
    "mahalanobis = row['mahalanobis']\n",
    "agenda_content = row['agenda_content']\n",
    "project_summary = row['project_summary']\n",
    "print(f\"Cluster {cluster} - Mahalanobis distance: {mahalanobis:.4f}\\n\")\n",
    "print('')\n",
    "print(project_summary)"
   ]
  },
  {
   "cell_type": "code",
   "execution_count": 26,
   "id": "8f9bae10",
   "metadata": {},
   "outputs": [
    {
     "name": "stdout",
     "output_type": "stream",
     "text": [
      "Cluster 1 - Mahalanobis distance: 6.1616\n",
      "\n",
      "\n",
      "The project involves a Plan Approval to expand the Alcohol Use Approval for the sale and dispensing of a full line of alcoholic beverages for on-site consumption at the JW Marriott/Ritz Carlton Hotel. This expansion includes the new hotel tower and expanded conference facilities. The project was assessed in a previously certified Environmental Impact Report, and an Addendum and Joint Analysis dated December 2021 has been adopted.\n"
     ]
    }
   ],
   "source": [
    "# most atypical item, cluster 1\n",
    "cluster = 1\n",
    "row = df[df['cluster']==cluster].sort_values(by='mahalanobis', ascending=False).iloc[0]\n",
    "mahalanobis = row['mahalanobis']\n",
    "agenda_content = row['agenda_content']\n",
    "project_summary = row['project_summary']\n",
    "print(f\"Cluster {cluster} - Mahalanobis distance: {mahalanobis:.4f}\\n\")\n",
    "print('')\n",
    "print(project_summary)"
   ]
  },
  {
   "cell_type": "code",
   "execution_count": 27,
   "id": "17c6a071",
   "metadata": {},
   "outputs": [
    {
     "name": "stdout",
     "output_type": "stream",
     "text": [
      "Cluster 2 - Mahalanobis distance: 1.4632\n",
      "\n",
      "\n",
      "The project involves the construction, use, and maintenance of a new public charter middle school, Valley Charter Middle School, with a maximum enrollment of 450 students in Grades 6 through 8 on a currently vacant site. The proposed improvements include a two-story building of approximately 22,729 square feet with a maximum height of 33 feet, a surface parking lot with 50 vehicle spaces, a basketball court, and a half-football field. The requested actions include exemptions from CEQA, a Conditional Use Permit for deviations in height and area requirements, a Zoning Administrator’s Determination for a higher fence, and an amendment to remove the T Classification on the property.\n"
     ]
    }
   ],
   "source": [
    "# most typical item, cluster 2\n",
    "cluster = 2\n",
    "row = df[df['cluster']==cluster].sort_values(by='mahalanobis', ascending=True).iloc[0]\n",
    "mahalanobis = row['mahalanobis']\n",
    "agenda_content = row['agenda_content']\n",
    "project_summary = row['project_summary']\n",
    "print(f\"Cluster {cluster} - Mahalanobis distance: {mahalanobis:.4f}\\n\")\n",
    "print('')\n",
    "print(project_summary)"
   ]
  },
  {
   "cell_type": "code",
   "execution_count": 28,
   "id": "ddbeb073",
   "metadata": {},
   "outputs": [
    {
     "name": "stdout",
     "output_type": "stream",
     "text": [
      "Cluster 2 - Mahalanobis distance: 5.1712\n",
      "\n",
      "\n",
      "The project involves the merger and re-subdivision of six lots into three lots to accommodate a Sanctuary, an Eldercare Facility, and a Childcare Facility, along with ten commercial condominium units. It also includes the designation of yards as shown on the proposed map and the approval of a haul route for exporting approximately 62,000 cubic yards of earth on a 70,558 square-foot lot in the [Q]R5-3-O and R1-1 Zones.\n"
     ]
    }
   ],
   "source": [
    "# most atypical item, cluster 2\n",
    "cluster = 2\n",
    "row = df[df['cluster']==cluster].sort_values(by='mahalanobis', ascending=False).iloc[0]\n",
    "mahalanobis = row['mahalanobis']\n",
    "agenda_content = row['agenda_content']\n",
    "project_summary = row['project_summary']\n",
    "print(f\"Cluster {cluster} - Mahalanobis distance: {mahalanobis:.4f}\\n\")\n",
    "print('')\n",
    "print(project_summary)"
   ]
  }
 ],
 "metadata": {
  "kernelspec": {
   "display_name": "Python 3",
   "language": "python",
   "name": "python3"
  },
  "language_info": {
   "codemirror_mode": {
    "name": "ipython",
    "version": 3
   },
   "file_extension": ".py",
   "mimetype": "text/x-python",
   "name": "python",
   "nbconvert_exporter": "python",
   "pygments_lexer": "ipython3",
   "version": "3.9.6"
  }
 },
 "nbformat": 4,
 "nbformat_minor": 5
}

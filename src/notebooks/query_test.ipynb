{
 "cells": [
  {
   "cell_type": "code",
   "execution_count": 1,
   "id": "53f03c2c-2af6-45ed-b179-309869a60a85",
   "metadata": {},
   "outputs": [],
   "source": [
    "import os\n",
    "import sys\n",
    "sys.path.append('../python')\n",
    "\n",
    "import pandas as pd\n",
    "import numpy as np\n",
    "import yaml\n",
    "import time\n",
    "import api\n",
    "import text_tools as tt\n",
    "\n",
    "DOCID = 'lamunicipalcode'\n",
    "data = pd.read_pickle(f\"../../intermediate_data/{DOCID}_main.pkl\")\n",
    "\n",
    "query = \"What are the sections in Chapter 1 Article 1 of the LA municipal code?\"\n"
   ]
  },
  {
   "cell_type": "code",
   "execution_count": 2,
   "id": "ea0150da-909a-4f7e-855a-09a10764e392",
   "metadata": {},
   "outputs": [],
   "source": [
    "\"\"\"\n",
    "Generate a context block for the prompt to feed into ChatGPT.\n",
    "\"\"\"\n",
    "relevant_items = api.get_relevant_items(\n",
    "    query=query, \n",
    "    namespace='fullpassages', \n",
    "    item_type='passage_full', \n",
    "    top_k=5\n",
    ")    \n",
    "ids = []\n",
    "for match in relevant_items.matches:\n",
    "    ids.append(match.id)\n",
    "context = tt.get_all_vertical_text(ids, data)"
   ]
  },
  {
   "cell_type": "code",
   "execution_count": 3,
   "id": "be78069d-9fc5-4931-83cd-2807c85a0030",
   "metadata": {},
   "outputs": [
    {
     "name": "stdout",
     "output_type": "stream",
     "text": [
      "\n",
      "CONTEXT:\n",
      "CHAPTER 1A CITY OF LOS ANGELES ZONING CODE\n",
      "      To view Chapter 1A in PDF format, click HERE .\n",
      "        Article\n",
      "          1. Introductory Provisions\n",
      "          2. Form\n",
      "          13. Administration\n",
      "  Article 1. Introductory Provisions\n",
      "      [Reserved]\n",
      "  Article 13. Administration\n",
      "      Note: To view Article 13, click HERE (pdf)\n",
      "\n",
      "\n",
      "QUESTION:\n",
      "What are the sections in Chapter 1 Article 1 of the LA municipal code?\n",
      "\n",
      "Cite the relevant chapters, article, and section that proves your answer.\n",
      "\n"
     ]
    }
   ],
   "source": [
    "\"\"\"\n",
    "Generate the prompt for ChatGPT\n",
    "\"\"\"\n",
    "prompt = f\"\"\"\n",
    "CONTEXT:\n",
    "{context}\n",
    "\n",
    "QUESTION:\n",
    "{query}\n",
    "\n",
    "Cite the relevant chapters, article, and section that proves your answer.\n",
    "\"\"\"\n",
    "print(prompt)"
   ]
  },
  {
   "cell_type": "code",
   "execution_count": 4,
   "id": "4457035f-b5e5-429b-ab81-b7fc6c762821",
   "metadata": {},
   "outputs": [
    {
     "name": "stdout",
     "output_type": "stream",
     "text": [
      "The sections in Chapter 1 Article 1 of the LA municipal code are as follows:\n",
      "\n",
      "- Chapter: Chapter 1\n",
      "- Article: Article 1\n",
      "- Section: [Reserved]\n"
     ]
    }
   ],
   "source": [
    "response = api.get_gpt_completion(prompt)\n",
    "print(response)"
   ]
  }
 ],
 "metadata": {
  "kernelspec": {
   "display_name": "Python 3 (ipykernel)",
   "language": "python",
   "name": "python3"
  },
  "language_info": {
   "codemirror_mode": {
    "name": "ipython",
    "version": 3
   },
   "file_extension": ".py",
   "mimetype": "text/x-python",
   "name": "python",
   "nbconvert_exporter": "python",
   "pygments_lexer": "ipython3",
   "version": "3.10.6"
  }
 },
 "nbformat": 4,
 "nbformat_minor": 5
}

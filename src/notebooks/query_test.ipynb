{
 "cells": [
  {
   "cell_type": "code",
   "execution_count": null,
   "id": "53f03c2c-2af6-45ed-b179-309869a60a85",
   "metadata": {},
   "outputs": [],
   "source": [
    "import os\n",
    "import sys\n",
    "sys.path.append('../python')\n",
    "\n",
    "import pandas as pd\n",
    "import numpy as np\n",
    "import yaml\n",
    "import time\n",
    "import api\n",
    "\n",
    "#query = \"What regulations determine the maximum floor area ratio of residential buildings?\"\n",
    "#chapters = pd.read_csv(\"../../intermediate_data/los_angeles_chapter_data.csv\", index_col='id')\n",
    "#articles = pd.read_csv(\"../../intermediate_data/los_angeles_article_data.csv\", index_col='id')\n",
    "#sections = pd.read_csv(\"../../intermediate_data/los_angeles_section_data.csv\", index_col='id')\n",
    "#passages = pd.read_csv(\"../../intermediate_data/los_angeles_passage_data.csv\", index_col='id')"
   ]
  },
  {
   "cell_type": "code",
   "execution_count": null,
   "id": "49def637-96ba-4dba-ad87-0e4b0ac6b5c8",
   "metadata": {},
   "outputs": [],
   "source": []
  },
  {
   "cell_type": "code",
   "execution_count": 2,
   "id": "1582aa7b-98eb-47a1-9fc3-db0b8e2bbee7",
   "metadata": {},
   "outputs": [],
   "source": [
    "#relevant_sections = api.get_relevant_sections(query)\n",
    "#relevant_chunks = api.get_relevant_chunks(query)"
   ]
  },
  {
   "cell_type": "code",
   "execution_count": null,
   "id": "0b00189f-4d4e-4ed7-9f35-9926db37557a",
   "metadata": {},
   "outputs": [],
   "source": [
    "#metadata = relevant_chunks['matches'][0]['metadata']\n",
    "#chapter_id = metadata['doc_id'] + '_' + metadata['chapter_id']\n",
    "#article_id = metadata['doc_id'] + '_' + metadata['article_id']\n",
    "#passage_id = metadata['doc_id'] + '_' + metadata['passage_id']\n",
    "#section_id = metadata['doc_id'] + '_' + metadata['section_id']\n",
    "#print(chapters.loc[chapter_id, 'text'])\n",
    "#print(articles.loc[article_id, 'text'])\n",
    "#print(sections.loc[section_id, 'text'])\n",
    "#print(passages.loc[passage_id, 'text'])"
   ]
  },
  {
   "cell_type": "code",
   "execution_count": 42,
   "id": "da96b8ff-d2ff-4160-86b2-df61da9c4227",
   "metadata": {},
   "outputs": [
    {
     "data": {
      "text/plain": [
       "3163"
      ]
     },
     "execution_count": 42,
     "metadata": {},
     "output_type": "execute_result"
    }
   ],
   "source": [
    "#len(passages.loc[id_get,'text'].split())"
   ]
  }
 ],
 "metadata": {
  "kernelspec": {
   "display_name": "Python 3 (ipykernel)",
   "language": "python",
   "name": "python3"
  },
  "language_info": {
   "codemirror_mode": {
    "name": "ipython",
    "version": 3
   },
   "file_extension": ".py",
   "mimetype": "text/x-python",
   "name": "python",
   "nbconvert_exporter": "python",
   "pygments_lexer": "ipython3",
   "version": "3.9.6"
  }
 },
 "nbformat": 4,
 "nbformat_minor": 5
}

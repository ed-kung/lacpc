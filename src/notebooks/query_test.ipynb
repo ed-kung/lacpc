{
 "cells": [
  {
   "cell_type": "code",
   "execution_count": 64,
   "id": "53f03c2c-2af6-45ed-b179-309869a60a85",
   "metadata": {},
   "outputs": [],
   "source": [
    "import os\n",
    "import sys\n",
    "sys.path.append('../python')\n",
    "\n",
    "import pandas as pd\n",
    "import numpy as np\n",
    "import yaml\n",
    "import time\n",
    "import api\n",
    "import text_tools as tt\n",
    "\n",
    "DOCID = 'lamunicipalcode'\n",
    "data = pd.read_pickle(f\"../../intermediate_data/{DOCID}_all.pkl\")\n",
    "\n",
    "query = \"Which agency is responsible for approving building permits?\"\n"
   ]
  },
  {
   "cell_type": "code",
   "execution_count": 65,
   "id": "49def637-96ba-4dba-ad87-0e4b0ac6b5c8",
   "metadata": {},
   "outputs": [],
   "source": [
    "relevant_passages = api.get_relevant_passages(query, 5)"
   ]
  },
  {
   "cell_type": "code",
   "execution_count": 66,
   "id": "4f3de91d-0928-4ce2-8514-820598d7c8e8",
   "metadata": {},
   "outputs": [
    {
     "name": "stdout",
     "output_type": "stream",
     "text": [
      "CHAPTER IX BUILDING REGULATIONS\n",
      "  ARTICLE 1 BUILDINGS [BUILDING CODE]\n",
      "    SEC. 91.106. PERMITS.\n",
      "      91.106.1.3.1.4. Requirements.\n",
      "        4. There shall be concurrence from the Department of City Planning, Police Department, Public Works, Fire Department, or other applicable City regulatory agency prior to the Department issuing a permit.\n",
      "      91.106.4.1. Issuance. When the department determines that the information on the application and plans is in conformance with this Code and other relevant codes and ordinances, the department shall issue a permit upon receipt of the total fees.\n",
      "        EXCEPTIONS:\n",
      "          15. (Amended by Ord. No. 179,324, Eff. 12/10/07, Oper. 1/1/08.) The Department of Building and Safety shall have the authority to withhold grading and/or building permits for developments until:\n",
      "            A. The applicant incorporates into the development to the satisfaction of the Bureau of Sanitation of the Department of Public Works, best management practices necessary to control storm water pollution in accordance with the \"Low Impact Development Ordinance\" (Ord. No. 181,899) and the \"Planning and Land Development Best Management Practices Handbook, Low Impact Development Manual, Part B Planning Activities\" adopted by the Board of Public Works as authorized by LAMC Section 64.72; and (Amended by Ord. No. 186,488, Eff. 12/27/19.)\n",
      "            C. The applicant submits to the Bureau of Sanitation of the Department of Public Works, a set of plans and specifications showing compliance with the Standard Urban Stormwater Mitigation Plan or Site Specific Mitigation Plan.\n",
      "    SEC. 91.110. RESPONSIBILITY OF PERMITTEE.\n",
      "      Building permits shall be presumed to incorporate the provision that the applicant, the applicant's agent, employees or contractors shall carry out the proposed work in accordance with the approved plans and with all requirements of this Code and any other laws or regulations applicable thereto, whether specified or not.\n",
      "    SEC. 91.1703. APPROVALS.\n",
      "      91.1703.1. Approved Agency. (Amended by Ord. No. 185,587, Eff. 7/16/18.) Pursuant to LAMC Section 98.0503, a testing agency shall provide all information required by the Superintendent of Building to determine whether the agency shall become an approved testing agency.\n",
      "\n"
     ]
    }
   ],
   "source": [
    "ids = []\n",
    "for match in relevant_passages.matches:\n",
    "    ids.append(match.id)\n",
    "print(tt.get_all_vertical_text(ids, data))"
   ]
  }
 ],
 "metadata": {
  "kernelspec": {
   "display_name": "Python 3 (ipykernel)",
   "language": "python",
   "name": "python3"
  },
  "language_info": {
   "codemirror_mode": {
    "name": "ipython",
    "version": 3
   },
   "file_extension": ".py",
   "mimetype": "text/x-python",
   "name": "python",
   "nbconvert_exporter": "python",
   "pygments_lexer": "ipython3",
   "version": "3.10.5"
  }
 },
 "nbformat": 4,
 "nbformat_minor": 5
}

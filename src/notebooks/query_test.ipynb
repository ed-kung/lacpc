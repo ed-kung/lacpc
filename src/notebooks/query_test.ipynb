{
 "cells": [
  {
   "cell_type": "code",
   "execution_count": 48,
   "id": "53f03c2c-2af6-45ed-b179-309869a60a85",
   "metadata": {},
   "outputs": [],
   "source": [
    "import os\n",
    "import sys\n",
    "sys.path.append('../python')\n",
    "\n",
    "import pandas as pd\n",
    "import numpy as np\n",
    "import yaml\n",
    "import time\n",
    "import api\n",
    "\n",
    "query = \"What regulations determine the maximum floor area ratio of residential buildings?\"\n",
    "chapters = pd.read_csv(\"../../intermediate_data/los_angeles_chapter_data.csv\", index_col='id')\n",
    "articles = pd.read_csv(\"../../intermediate_data/los_angeles_article_data.csv\", index_col='id')\n",
    "sections = pd.read_csv(\"../../intermediate_data/los_angeles_section_data.csv\", index_col='id')\n",
    "passages = pd.read_csv(\"../../intermediate_data/los_angeles_passage_data.csv\", index_col='id')"
   ]
  },
  {
   "cell_type": "code",
   "execution_count": 2,
   "id": "1582aa7b-98eb-47a1-9fc3-db0b8e2bbee7",
   "metadata": {},
   "outputs": [],
   "source": [
    "relevant_sections = api.get_relevant_sections(query)\n",
    "relevant_chunks = api.get_relevant_chunks(query)"
   ]
  },
  {
   "cell_type": "code",
   "execution_count": 49,
   "id": "0b00189f-4d4e-4ed7-9f35-9926db37557a",
   "metadata": {},
   "outputs": [
    {
     "name": "stdout",
     "output_type": "stream",
     "text": [
      "CHAPTER I GENERAL PROVISIONS AND ZONING\n",
      "ARTICLE 2 SPECIFIC PLANNING - ZONING - COMPREHENSIVE ZONING PLAN\n",
      "SEC. 12.08. \"R1\" ONE-FAMILY ZONE.\n",
      "The following regulations shall apply in the \"R1\" One-Family Zone: A. Use. No building, structure or land shall be used and no building or structure shall be erected, structurally altered, enlarged or maintained except for the following uses, and when a \" Supplemental Use District \" is created by the provisions of Article 3 of this chapter, for such uses as may be permitted therein: 1. One-family dwelling. 2. Parks, playgrounds or community centers, owned and operated by a governmental agency. 3. (Amended by Ord. No. 181,188, Eff. 7/18/10.) Truck gardening; the keeping of equines, poultry, rabbits and chinchillas in conjunction with the residential use of the lot, provided that: (a) Such animal keeping is not for commercial purposes. (b) The keeping of equines shall be permitted only on lots having an area of 20,000 square feet or more. Where equines are being kept, the number of such animals being kept shall not exceed one for each 5,000 square feet of lot area. 4. Two-family dwellings on lots having a side lot line adjoining a lot in a commercial or industrial zone, provided that: (Amended by Ord. No. 171,427, Eff. 1/4/97, Oper. 3/5/97.) (a) The lot on which the use is located does not extend more than 65 feet from the boundary of the less restrictive zone which it adjoins; and (b) There is a minimum lot area of 5,000 square feet for each two-family dwelling. 5. (Deleted by Ord. No. 171,687, Eff. 8/19/97.) 6. Conditional uses enumerated in Sec. 12.24 when the location is approved pursuant to the provisions of said section. (Amended by Ord. No. 117,450, Eff. 12/18/60.) 7. Accessory buildings, including private garages, accessory living quarters, servant's quarters, recreation rooms, or private stables, provided that: (a) No accessory living quarters nor servant's quarters are located or maintained on a lot having an area less than 10,000 square feet; (b) No stable is located or maintained on a lot having an area of less than 20,000 square feet and its capacity does not exceed one equine for each 5,000 square feet of lot area. (Amended by Ord. No. 157,144, Eff. 11/22/82.) (c) An accessory living quarters, servant's quarters, recreation room or private garage or any combination of said uses may be included in one building not exceeding two stories in height; (d) Automobile parking space is required in connection with permitted uses and additional space may be provided in accordance with the provisions of Sec. 12.21 A. For the location of accessory buildings, refer to Sec. 12.21 C. and Sec. 12.22 C. (Amended by Ord. No. 107,884, Eff. 9/23/56.) 8. Accessory uses and home occupations, subject to the conditions specified in Section 12.05 A.16. of this Code. (Amended by Ord. No. 171,427, Eff. 1/4/97, Oper. 3/5/97.) 9. Name plates and signs as provided for in Sec. 12.21 A.7. 10. Backyard beekeeping, as an accessory use, provided that the activity complies with the performance standards established in Section 12.07 A.13. of this Code. (Added by Ord. No. 183,920, Eff. 12/6/15.) B. Restriction. (Amended by Ord. No. 173,268, Eff. 7/1/00, Oper. 7/1/00.) For any lot designated as Public, Quasi-Public, Public/Quasi-Public Use, Other Public, or Open Space on the land use map of the applicable community or district plan; any lot shown on the map as having existing lakes, waterways, reservoirs, debris basins, or similar facilities; any lot shown on the map as the location of a freeway right-of-way; and any property annexed to the City of Los Angeles where a plan amendment was not adopted as part of the annexation proceedings: Any of the uses permitted by Subsection A. of this section shall require prior approval in accordance with the provisions of Section 12.24.1 of this Code. C. Area (Development Standards). No building or structure nor the enlargement of any building or structure shall be erected or maintained unless the following yards, lot areas, and floor area limitations are provided and maintained in connection with the building, structure, or enlargement: (Amended by Ord. No. 179,883, Eff. 6/29/08.) 1. Front Yard. There shall be a front yard of not less than 20% of the depth of the lot, but such front yard need not exceed 20 feet; provided, however that where all of the developed lots which have front yards that vary in depth by not more than ten feet comprise 40% or more of the frontage, the minimum front yard shall be the average depth of the front yard of such lots. Where there are two or more possible combinations of developed lots comprising 40% or more of the frontage, each of which as front yards that vary in depth by not more than ten feet, the minimum front yard depth shall be the average depth of the front yards of that combination which has the shallowest average depth. In determining the required front yard, buildings located on key lots, entirely on the rear half of lots, or on lots in the \"C\" or \"M\" Zones, shall not be counted; provided, however, that nothing contained in this paragraph shall be deemed to require front yards which exceed 40 feet in depth. (Amended by Ord. No. 139,155, Eff. 10/16/69.) On key lots the minimum front yard may be the average of the required front yard for the adjoining interior lot and the required side yard along the street side of a reversed corner lot, but such minimum front yard may apply for a distance of not more than 65 feet from the rear lot line of the reversed corner lot, beyond which point the front yard specified in the above paragraph shall apply. Where existing buildings on either or both of said adjoining lots are located nearer to the front or side lot lines than the yards required by this article, the yards established by such existing buildings may be used in computing the required front yard for a key lot. 2. Side Yards. (Amended by Ord. No. 184,802, Eff. 3/17/17.) (a) For a main building not more than two stories in height, there shall be a side yard on each side of the building of not less than 5 feet, except that where the lot is less than 50 feet in width, the side yard may be reduced to 10 percent of the width of the lot, but in no event to less than 3 feet in width. For a building more than two stories in height, 1 foot shall be added to the width of each yard for each additional story above the second story. All portions of a building that have a side wall exceeding 14 feet in height and a continuous length greater than 45 feet shall have an offset/plane break that is a minimum depth of five feet beyond the required yard and a minimum length of 10 feet. For the purpose of this Subdivision, height shall be measured from the existing or finished grade, whichever is lower, at each point along the perimeter of the building.  Figure 12.08 C.2.(a): Plane break diagram. (b) In lieu of the additional one-foot side yard for each story above the second story as required above, for new construction of a main building or a ground floor addition to the main building on a lot not located in a Hillside Area or Coastal Zone, one-foot shall be added to each required side yard for each increment of ten feet or fraction thereof above the first 18 feet. (c) Side yard requirements in specific plans, Historic Preservation Overlay Zones or in subdivision approvals shall take precedence over this subdivision. This subdivision shall apply in these areas, however, when there are no such side yard requirements. (d) Any occupied rooftop deck shall be set back at least three feet from the minimum required side yard. This provision shall not apply to any rooftop deck located on the street side of a Corner Lot. 3. Rear Yard. There shall be a rear yard of not less than 15 feet in depth. (Amended by Ord. No. 121,925, Eff. 6/4/62.) 4. Lot Area. (Amended by Ord. No. 153,478, Eff. 4/12/80.). Every lot shall have a minimum width of 50 feet and a minimum area of 5,000 square feet. The minimum lot area per dwelling unit shall also be 5,000 square feet, except for two-family dwellings on lots having a side lot line adjoining a lot in a commercial or industrial zone as provided for in Subsection A. of this section. There may be lots with less than the minimum required area and there may be a single dwelling on each such lot if the lot is shown with a separate letter or lot number on a recorded Subdivision Tract Map or a Parcel Map. There may be lots with less than the minimum width and area as provided for in Section 17.05 H.7. Further exceptions to area regulations are provided for in Section 12.22 C. 5. Maximum Residential Floor Area and Massing. (Amended by Ord. No. 184,802, Eff. 3/17/17.) (a) R1. For a lot located in a Hillside Area or Coastal Zone, the maximum floor area shall comply with Section 12.21.1 A.1. of this Code. For lots outside of a Hillside Area or Coastal Zone, the maximum Residential Floor Area contained in all buildings and accessory buildings shall not exceed 45 percent of the lot area (a Residential Floor Area ratio of 0.45). The encroachment plane shall originate from a point that is 20 feet in height from the existing or finished grade, whichever is lower, along the required front and side yard setbacks. (b) R1V, Variable-Mass. These zones are intended to address issues of neighborhood character and to facilitate the compatibility of new construction, additions, and alterations in single-family neighborhoods having an existing variety of building forms. The intent of this variation is to allow flexibility in the location of massing within a maximum building envelope that respects the scale of other houses in the vicinity. The maximum Residential Floor Area contained in all buildings on a lot shall not exceed the specified Residential Floor Area ratio for the corresponding zone per size of the lot as listed in Table 12.08 C.5.(b). The maximum lot coverage, maximum Height of Building, and maximum height at which the encroachment plane begins shall not exceed the amounts specified for each zone in Table 12.08 C.5.(b). Table 12.08 C.5.(b) R1 VARIABLE-MASS VARIATION ZONES DEVELOPMENT STANDARDS Lot Size and Residential Floor Area Ratio R1V1 R1V2 R1V3 R1V4 Max Lot Coverage Up to 6,000 SF .65 .55 .45 .40 50% 6,001 to 7,000 SF .63 .53 .43 .38 48% 7,001 to 8,000 SF .61 .51 .41 .36 46% 8,001 to 9,000 SF .59 .49 .39 .34 44% 9,001 to 10,000 SF .57 .47 .37 .32 42% Over 10,000 SF .55 .45 .35 .30 40% Mass (A) Height of Building (max) 30' 30' 28' 20' (B) Encroachment Plane Origin Height 22' 22' 20' 14' Angle of Encroachment Plane 45deg 45deg 45deg 45deg (c) R1F, Front-Mass. These zones are intended to address issues of neighborhood character and to facilitate the compatibility of new construction, additions and alterations in single-family neighborhoods where the predominate building form includes a two-story mass at the front of the lot and a one-story mass at the rear of the lot. The intent of this variation is to allow taller massing at the front of the lot and mandate shorter massing at the rear of the lot that respects the scale and form of other houses in the vicinity. The maximum Residential Floor Area contained in all buildings shall not exceed the specified Residential Floor Area ratio for the corresponding zone per size of the lot as listed in Table 12.08 C.5.(c). The maximum lot coverage, the maximum height of the front and rear masses, and the maximum height at which the encroachment plane begins for the front and rear masses shall not exceed the amounts specified for each zone in Table 12.08 C.5.(c). Table 12.08 C.5.(c) R1 FRONT-MASS VARIATION ZONES DEVELOPMENT STANDARDS Lot Size and Residential Floor Area Ratio R1F1 R1F2 R1F3 R1F4 Max Lot Coverage Up to 6,000 SF .65 .55 .45 .40 50% 6,001 to 7,000 SF .63 .53 .43 .38 48% 7,001 to 8,000 SF .61 .51 .41 .36 46% 8,001 to 9,000 SF .59 .49 .39 .34 44% 9,001 to 10,000 SF .57 .47 .37 .32 42% Over 10,000 SF .55 .45 .35 .30 40% Front Mass (A) Front envelope depth, from front yard setback (min) - - - - (B) Height of Mass (max) 30' 30' 28' 26' (C) Encroachment Plane Origin Height 22' 22' 20' 18' Angle of Encroachment Plane 45deg 45deg 45deg 45deg Rear Mass (D) Rear envelope depth, from rear yard setback (min) 25' 25' 25' 25' (E) Height of Mass (max) 24' 24' 20' 18' (F) Encroachment Plane Origin Height 16' 16' 14' 14' Angle of Encroachment Plane 45deg 45deg 45deg 45deg (d) R1R, Rear-Mass. These zones are intended to address issues of neighborhood character and to facilitate the compatibility of new construction, additions and alterations in single-family neighborhoods where the predominate building form includes a one-story mass at the front of the lot and a two-story mass at the rear of the lot. The intent of this variation is to mandate shorter massing at the front of the lot and allow taller massing at the rear of the lot that respects the scale and form of other houses in the vicinity. The maximum Residential Floor Area contained in all buildings shall not exceed the specified Residential Floor Area ratio for the corresponding zone per size of the lot as listed in Table 12.08 C.5.(d). The maximum lot coverage, the maximum height of the front and rear masses, and the maximum height at which the encroachment plane begins for the front and rear masses shall not exceed the amounts specified for each zone in Table 12.08 C.5.(d). (1) Exceptions. (i) Lots that are 90 feet or less in depth shall not be subject to two different massing requirements. Said lots shall be exempt from the Front Mass development standards listed in Table 12.08 C.5.(d), and instead the Rear Mass massing requirements specified in Table 12.08 C.5.(d) shall apply to the entire building. Table 12.08 C.5.(d) R1 REAR-MASS VARIATION ZONES DEVELOPMENT STANDARDS Lot Size and Residential Floor Area Ratio R1R1 R1R2 R1R3 R1R4 Max Lot Coverage Up to 6,000 SF .65 .55 .45 .40 50% 6,001 to 7,000 SF .63 .53 .43 .38 48% 7,001 to 8,000 SF .61 .51 .41 .36 46% 8,001 to 9,000 SF .59 .49 .39 .34 44% 9,001 to 10,000 SF .57 .47 .37 .32 42% Over 10,000 SF .55 .45 .35 .30 40% Front Mass (A) Front envelope depth, from front yard setback (min) 30' 30' 30' 30' (B) Height of Mass (max) 24' 24' 20' 18' (C) Encroachment Plane Origin Height 16' 16' 12' 12' Angle of Encroachment Plane 45deg 45deg 45deg 45deg Rear Mass (D) Rear envelope depth, from rear yard setback (min) - - - - (E) Height of Mass (max) 30' 30' 28' 26' (F) Encroachment Plane Origin Height 22' 22' 20' 18' Angle of Encroachment Plane 45deg 45deg 45deg 45deg (e) R1H, Hillside Area. These zones are intended to address issues of neighborhood character and to facilitate the compatibility of new construction, additions and alterations to one-family houses in Hillside Areas having an existing variety of building forms. The intent of this variation is to allow flexibility in the location of massing within a maximum building envelope that respects the scale of other houses in the vicinity. A lot designated an R1H Zone shall comply with all of the R1 Hillside Area Development Standards pursuant to Section 12.21 C.10., except that R1H lots shall be subject to the Residential Floor Area ratios in Table 12.21 C.10-2b of their corresponding zone. 6. Verification of Existing Residential Floor Area. (Amended by Ord. No. 184,802, Eff. 3/17/17.) For additions with cumulative Residential Floor Area of less than 1,000 square feet constructed after January 1, 2008, or remodels of buildings built prior to January 1, 2008, the existing Residential Floor Area shall be determined based on the building records or the building square footage shown on the most recent Los Angeles County Tax Assessor's records at the time the plans are submitted to the Department of Building and Safety and a plan check fee is paid. Except that Residential Floor Area may be calculated as defined in Section 12.03 of this Code when a complete set of fully dimensioned plans with area calculations of all the structures on the lot, prepared by a licensed architect or engineer, is submitted by the applicant. Any work that does not qualify as a remodel, as defined in the paragraph below, or additions that are 1,000 square feet or larger shall require a complete set of fully dimensioned plans with area calculations of all the structures on the lot prepared by a licensed architect or engineer. For the purposes of implementing this subdivision, a remodel shall mean the alteration of an existing building or structure provided that at least 50 percent of the perimeter length of the contiguous exterior walls and 50 percent of the roof are retained. 7. Definitions and Standards. (Added by Ord. No. 184,802, Eff. 3/17/17.) For the purposes of this Subsection the following definitions and standards shall apply: a. Height of Mass, Front or Rear. The height of the front mass is the vertical distance above Grade measured to the highest point of the roof, structure, or parapet wall, whichever is highest of the front mass. The height of the rear mass is the vertical distance above Grade measured to the highest point of the roof, structure, or parapet wall, whichever is highest of the rear mass. Retaining walls shall not be used for the purpose of raising the effective elevation of the finished grade for purposes of measuring the height of either mass. However, whenever the highest point of elevation of the adjoining sidewalk or ground surface within a 5-foot horizontal distance measured from the exterior wall of a building exceeds grade level by more than 20 feet, a building or structure may exceed the maximum front or rear mass height in number of feet prescribed in this section by not more than 12 feet. However, such additional height shall not be permitted to the extent that such additional height causes any portion of the building or structure to exceed a front or rear mass height in number of feet as prescribed by this section as measured from the highest point of the front or rear mass roof structure or parapet wall to the elevation of the ground surface which is vertically below this point of measurement. b. Lot Coverage is the area of a parcel covered by any structures extending more than six feet above grade. However, 400 square feet of required covered parking that is detached and located within the rear half of the lot shall be exempt from lot coverage calculations. \n"
     ]
    }
   ],
   "source": [
    "metadata = relevant_chunks['matches'][0]['metadata']\n",
    "chapter_id = metadata['doc_id'] + '_' + metadata['chapter_id']\n",
    "article_id = metadata['doc_id'] + '_' + metadata['article_id']\n",
    "passage_id = metadata['doc_id'] + '_' + metadata['passage_id']\n",
    "section_id = metadata['doc_id'] + '_' + metadata['section_id']\n",
    "print(chapters.loc[chapter_id, 'text'])\n",
    "print(articles.loc[article_id, 'text'])\n",
    "print(sections.loc[section_id, 'text'])\n",
    "print(passages.loc[passage_id, 'text'])"
   ]
  },
  {
   "cell_type": "code",
   "execution_count": 42,
   "id": "da96b8ff-d2ff-4160-86b2-df61da9c4227",
   "metadata": {},
   "outputs": [
    {
     "data": {
      "text/plain": [
       "3163"
      ]
     },
     "execution_count": 42,
     "metadata": {},
     "output_type": "execute_result"
    }
   ],
   "source": [
    "len(passages.loc[id_get,'text'].split())"
   ]
  }
 ],
 "metadata": {
  "kernelspec": {
   "display_name": "Python 3 (ipykernel)",
   "language": "python",
   "name": "python3"
  },
  "language_info": {
   "codemirror_mode": {
    "name": "ipython",
    "version": 3
   },
   "file_extension": ".py",
   "mimetype": "text/x-python",
   "name": "python",
   "nbconvert_exporter": "python",
   "pygments_lexer": "ipython3",
   "version": "3.10.5"
  }
 },
 "nbformat": 4,
 "nbformat_minor": 5
}

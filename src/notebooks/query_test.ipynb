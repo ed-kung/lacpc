{
 "cells": [
  {
   "cell_type": "code",
   "execution_count": 1,
   "id": "53f03c2c-2af6-45ed-b179-309869a60a85",
   "metadata": {},
   "outputs": [],
   "source": [
    "import os\n",
    "import sys\n",
    "sys.path.append('../python')\n",
    "\n",
    "import pandas as pd\n",
    "import numpy as np\n",
    "import yaml\n",
    "import time\n",
    "import api\n",
    "import text_tools as tt\n",
    "\n",
    "DOCID = 'lamunicipalcode'\n",
    "data = pd.read_pickle(f\"../../intermediate_data/{DOCID}_main.pkl\")\n",
    "\n",
    "query = \"What is the minimum yard setback for the R1 Zone?  Cite the chapter, article, and section which proves your answer.\"\n"
   ]
  },
  {
   "cell_type": "code",
   "execution_count": 2,
   "id": "ea0150da-909a-4f7e-855a-09a10764e392",
   "metadata": {},
   "outputs": [],
   "source": [
    "\"\"\"\n",
    "Generate a context block for the prompt to feed into ChatGPT.\n",
    "\"\"\"\n",
    "relevant_items = api.get_relevant_items(\n",
    "    query=query, \n",
    "    namespace='fullpassages', \n",
    "    item_type='passage_full', \n",
    "    top_k=5\n",
    ")    \n",
    "ids = []\n",
    "for match in relevant_items.matches:\n",
    "    ids.append(match.id)\n",
    "context = tt.get_all_vertical_text(ids, data)"
   ]
  },
  {
   "cell_type": "code",
   "execution_count": 3,
   "id": "be78069d-9fc5-4931-83cd-2807c85a0030",
   "metadata": {},
   "outputs": [
    {
     "name": "stdout",
     "output_type": "stream",
     "text": [
      "\n",
      "CONTEXT:\n",
      "CHAPTER I GENERAL PROVISIONS AND ZONING\n",
      "  ARTICLE 2 SPECIFIC PLANNING - ZONING - COMPREHENSIVE ZONING PLAN\n",
      "    SEC. 12.08. \"R1\" ONE-FAMILY ZONE.\n",
      "      The following regulations shall apply in the \"R1\" One-Family Zone:\n",
      "        C. Area (Development Standards). No building or structure nor the enlargement of any building or structure shall be erected or maintained unless the following yards, lot areas, and floor area limitations are provided and maintained in connection with the building, structure, or enlargement: (Amended by Ord. No. 179,883, Eff. 6/29/08.)\n",
      "          2. Side Yards. (Amended by Ord. No. 184,802, Eff. 3/17/17.)\n",
      "            (a) For a main building not more than two stories in height, there shall be a side yard on each side of the building of not less than 5 feet, except that where the lot is less than 50 feet in width, the side yard may be reduced to 10 percent of the width of the lot, but in no event to less than 3 feet in width. For a building more than two stories in height, 1 foot shall be added to the width of each yard for each additional story above the second story.\n",
      "            All portions of a building that have a side wall exceeding 14 feet in height and a continuous length greater than 45 feet shall have an offset/plane break that is a minimum depth of five feet beyond the required yard and a minimum length of 10 feet. For the purpose of this Subdivision, height shall be measured from the existing or finished grade, whichever is lower, at each point along the perimeter of the building.\n",
      "            (c) Side yard requirements in specific plans, Historic Preservation Overlay Zones or in subdivision approvals shall take precedence over this subdivision. This subdivision shall apply in these areas, however, when there are no such side yard requirements.\n",
      "            (d) Any occupied rooftop deck shall be set back at least three feet from the minimum required side yard. This provision shall not apply to any rooftop deck located on the street side of a Corner Lot.\n",
      "  ARTICLE 7 DIVISION OF LAND REGULATIONS\n",
      "    SEC. 17.05. DESIGN STANDARDS.\n",
      "      [Zone] Minimum to Which Lot Width May Be Reduced Minimum to Which Area May Be Reduced Average Requirement RA-H 63 feet 14,000 17,500 RE40-H No Reduction 32,000 40,000 RE20-H 72 feet 16,000 20,000 RE15-H 72 feet 12,000 15,000 RE11-H 63 feet 8,800 11,000 RE9-H 60 feet 7,200 9,000\n",
      "        8. Notwithstanding any other provision of this Chapter, where the Advisory Agency finds that there will be no increase in density and that the density provisions of the General Plan will not be exceeded, it may approve subdivisions in the R2, RD, R3, R4 and R5 zones, meeting the requirements of Section 12.22 C.25. (Exceptions; Area; Zero Side and Rear Yard Development in Multiple Residential Zones) of this Chapter. The minimum lot area of lots in any such subdivision shall be 2,500 square feet.\n",
      "\n",
      "\n",
      "QUESTION:\n",
      "What is the minimum yard setback for the R1 Zone?  Cite the chapter, article, and section which proves your answer.\n",
      "\n"
     ]
    }
   ],
   "source": [
    "\"\"\"\n",
    "Generate the prompt for ChatGPT\n",
    "\"\"\"\n",
    "prompt = f\"\"\"\n",
    "CONTEXT:\n",
    "{context}\n",
    "\n",
    "QUESTION:\n",
    "{query}\n",
    "\"\"\"\n",
    "print(prompt)"
   ]
  },
  {
   "cell_type": "code",
   "execution_count": 4,
   "id": "4457035f-b5e5-429b-ab81-b7fc6c762821",
   "metadata": {},
   "outputs": [
    {
     "name": "stdout",
     "output_type": "stream",
     "text": [
      "The minimum yard setback for the R1 Zone is 5 feet on each side of the building for a main building not more than two stories in height. This information can be found in Chapter I, Article 2, Section 12.08.C.2.a of the provided text.\n"
     ]
    }
   ],
   "source": [
    "response = api.get_gpt_completion(prompt)\n",
    "print(response)"
   ]
  }
 ],
 "metadata": {
  "kernelspec": {
   "display_name": "Python 3 (ipykernel)",
   "language": "python",
   "name": "python3"
  },
  "language_info": {
   "codemirror_mode": {
    "name": "ipython",
    "version": 3
   },
   "file_extension": ".py",
   "mimetype": "text/x-python",
   "name": "python",
   "nbconvert_exporter": "python",
   "pygments_lexer": "ipython3",
   "version": "3.10.6"
  }
 },
 "nbformat": 4,
 "nbformat_minor": 5
}

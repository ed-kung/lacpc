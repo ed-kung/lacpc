{
 "cells": [
  {
   "cell_type": "code",
   "execution_count": 8,
   "id": "53f03c2c-2af6-45ed-b179-309869a60a85",
   "metadata": {},
   "outputs": [],
   "source": [
    "import os\n",
    "import sys\n",
    "sys.path.append('../python')\n",
    "\n",
    "import pandas as pd\n",
    "import numpy as np\n",
    "import yaml\n",
    "import time\n",
    "import api\n",
    "import text_tools as tt\n",
    "\n",
    "DOCID = 'lamunicipalcode'\n",
    "data = pd.read_pickle(f\"../../intermediate_data/{DOCID}_main.pkl\")\n",
    "\n",
    "query = \"Which agency is responsible for traffic violations?\"\n"
   ]
  },
  {
   "cell_type": "code",
   "execution_count": 9,
   "id": "49def637-96ba-4dba-ad87-0e4b0ac6b5c8",
   "metadata": {},
   "outputs": [],
   "source": [
    "relevant_items = api.get_relevant_items(\n",
    "    query=query, \n",
    "    namespace='fullpassages', \n",
    "    item_type='passage_full', \n",
    "    top_k=5\n",
    ")"
   ]
  },
  {
   "cell_type": "code",
   "execution_count": 10,
   "id": "4f3de91d-0928-4ce2-8514-820598d7c8e8",
   "metadata": {},
   "outputs": [
    {
     "name": "stdout",
     "output_type": "stream",
     "text": [
      "CHAPTER VIII TRAFFIC\n",
      "  DIVISION \"A\" OBEDIENCE TO TRAFFIC REGULATIONS\n",
      "    SEC. 80.06.1. ADMINISTRATIVE PROCEDURES FOR VIOLATIONS OF SECTION 62.61, WORK WITHIN OR ON A PUBLIC STREET OR RIGHT-OF-WAY, OBSTRUCTION OF A PUBLIC STREET OR RIGHT-OF-WAY, PEAK TRAFFIC HOURS RESTRICTIONS.\n",
      "      (a) Service Procedures for Issuing Administrative Citations.\n",
      "        2. Service of Citation by Mail. If the enforcement officer is unable to locate the responsible person for the violation, the administrative citation shall be mailed to the responsible person by certified mail, postage prepaid, return receipt requested. Simultaneously, the same notice may be sent by regular mail. If a notice sent by certified mail is returned unsigned, then service shall be deemed effective pursuant to regular mail, provided the notice that was sent by regular mail is not returned.\n",
      "      (c) Satisfaction of Administrative Citation.\n",
      "        1. Upon receipt of a citation, the responsible party shall either:\n",
      "          In the event the responsible party fails or refuses to select and satisfy any of the alternatives set forth in Paragraphs (i), (ii) or (iii) above, then the penalty shall be immediately due and owing to the City and may be collected in any manner allowed by law for collection of a debt. Commencement of an action to collect the delinquent penalty shall not preclude issuance of additional citations to the responsible party should the violations persist.\n",
      "      (d) Administrative Hearings and Appeal Process.\n",
      "        7. Decision of Administrative Hearing Officer. At the conclusion of the hearing or within 15 days thereafter, the Administrative Hearing Officer shall render a decision as follows:\n",
      "          (i) Determine that the violation for which the citation was issued occurred, and impose a fine in the amount set forth in the penalty schedule, inclusive of the administrative reimbursement portion, and if the violation has not been corrected as of the date of the hearing, order correction of the violation; or\n",
      "          (ii) Determine that the violation for which the citation was issued occurred, but that the responsible party has introduced credible evidence of mitigating circumstances warranting imposition of a lesser penalty than that prescribed in the penalty schedule, or no penalty at all, and impose a lesser fine, if any, and if the violation has not been corrected as of the date of the hearing, order that the violation be corrected; or\n",
      "          (iii) Determine that the violation for which the citation was issued did not occur or that the condition did not constitute a violation of the code.\n",
      "\n"
     ]
    }
   ],
   "source": [
    "ids = []\n",
    "for match in relevant_items.matches:\n",
    "    ids.append(match.id)\n",
    "print(tt.get_all_vertical_text(ids, data))"
   ]
  }
 ],
 "metadata": {
  "kernelspec": {
   "display_name": "Python 3 (ipykernel)",
   "language": "python",
   "name": "python3"
  },
  "language_info": {
   "codemirror_mode": {
    "name": "ipython",
    "version": 3
   },
   "file_extension": ".py",
   "mimetype": "text/x-python",
   "name": "python",
   "nbconvert_exporter": "python",
   "pygments_lexer": "ipython3",
   "version": "3.10.5"
  }
 },
 "nbformat": 4,
 "nbformat_minor": 5
}

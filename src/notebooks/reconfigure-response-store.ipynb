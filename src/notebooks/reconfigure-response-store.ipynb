{
 "cells": [
  {
   "cell_type": "code",
   "execution_count": 1,
   "id": "453d2659-707e-4355-83cb-7c8f5734c52d",
   "metadata": {},
   "outputs": [],
   "source": [
    "import os\n",
    "import sys\n",
    "import time\n",
    "import yaml\n",
    "import pandas as pd\n",
    "import numpy as np\n",
    "import pickle\n",
    "\n",
    "with open('../../config.local.yaml', 'r') as f:\n",
    "    local_config = yaml.safe_load(f)\n",
    "\n",
    "LOCAL_PATH = local_config['LOCAL_PATH']\n",
    "\n",
    "sys.path.append(os.path.join(LOCAL_PATH, \"src/python\"))\n",
    "\n",
    "import data_tools as dt\n",
    "\n",
    "RESPONSE_STORE = os.path.join(LOCAL_PATH, 'response_store/response_store.pkl')\n"
   ]
  },
  {
   "cell_type": "code",
   "execution_count": 2,
   "id": "ec3ebf46-bc03-4ad2-80df-5843a212770b",
   "metadata": {},
   "outputs": [],
   "source": [
    "with open(RESPONSE_STORE, 'rb') as f:\n",
    "    store = pickle.load(f)"
   ]
  },
  {
   "cell_type": "code",
   "execution_count": 3,
   "id": "49cb5c31-0357-4569-974a-c5bcd0d27ef0",
   "metadata": {},
   "outputs": [],
   "source": [
    "new_store = {}\n",
    "for k, v in store.items():\n",
    "    try:\n",
    "        new_store[k] = {\n",
    "            'message': v['message'],\n",
    "            'total_logprob': v['total_logprob'],\n",
    "            'n_tokens': v['n_tokens'],\n",
    "            'perplexity': v['perplexity']\n",
    "        }\n",
    "    except:\n",
    "        pass"
   ]
  },
  {
   "cell_type": "code",
   "execution_count": 4,
   "id": "d246723f-dd8f-404f-bf03-1668f634d6b4",
   "metadata": {},
   "outputs": [],
   "source": [
    "with open(RESPONSE_STORE, 'wb') as f:\n",
    "    pickle.dump(new_store, f)"
   ]
  }
 ],
 "metadata": {
  "kernelspec": {
   "display_name": "Python 3 (ipykernel)",
   "language": "python",
   "name": "python3"
  },
  "language_info": {
   "codemirror_mode": {
    "name": "ipython",
    "version": 3
   },
   "file_extension": ".py",
   "mimetype": "text/x-python",
   "name": "python",
   "nbconvert_exporter": "python",
   "pygments_lexer": "ipython3",
   "version": "3.12.10"
  }
 },
 "nbformat": 4,
 "nbformat_minor": 5
}

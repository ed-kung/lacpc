{
 "cells": [
  {
   "cell_type": "code",
   "execution_count": 1,
   "id": "8b6dd8a9-5ef3-41f2-843f-d473c654fde0",
   "metadata": {},
   "outputs": [
    {
     "name": "stderr",
     "output_type": "stream",
     "text": [
      "/Users/ekung/Library/Python/3.9/lib/python/site-packages/urllib3/__init__.py:35: NotOpenSSLWarning: urllib3 v2 only supports OpenSSL 1.1.1+, currently the 'ssl' module is compiled with 'LibreSSL 2.8.3'. See: https://github.com/urllib3/urllib3/issues/3020\n",
      "  warnings.warn(\n",
      "/Users/ekung/Library/Python/3.9/lib/python/site-packages/pinecone/data/index.py:1: TqdmWarning: IProgress not found. Please update jupyter and ipywidgets. See https://ipywidgets.readthedocs.io/en/stable/user_install.html\n",
      "  from tqdm.autonotebook import tqdm\n"
     ]
    }
   ],
   "source": [
    "import os\n",
    "import sys\n",
    "import re\n",
    "import time\n",
    "from pathlib import Path\n",
    "import pdfplumber\n",
    "import pytesseract\n",
    "from pdf2image import convert_from_path\n",
    "import warnings\n",
    "import logging\n",
    "import pandas as pd\n",
    "import numpy as np\n",
    "import json\n",
    "from matplotlib import pyplot as plt\n",
    "\n",
    "sys.path.append('../python')\n",
    "warnings.filterwarnings('default')\n",
    "logging.getLogger(\"pdfminer\").setLevel(logging.ERROR)\n",
    "\n",
    "DATA_DIR = Path('../../raw_data/cpc')\n",
    "\n",
    "import api\n",
    "\n",
    "rng = np.random.default_rng(1234)"
   ]
  },
  {
   "cell_type": "code",
   "execution_count": 2,
   "id": "70359f37-c41c-4b26-b7b2-1631b8e15fa5",
   "metadata": {},
   "outputs": [],
   "source": [
    "meta_df = pd.read_csv(\"../../intermediate_data/cpc/meetings_metadata.csv\")"
   ]
  },
  {
   "cell_type": "code",
   "execution_count": 3,
   "id": "f78ca7df-08f4-4f45-b4be-902a3f3b5e20",
   "metadata": {},
   "outputs": [],
   "source": [
    "for idx, row in meta_df.sample(30, random_state=rng).iterrows():\n",
    "    year = row['year']\n",
    "    date = row['date']\n",
    "    with open(f\"../../intermediate_data/cpc/{year}/{date}/agenda-item-summaries.txt\", 'r') as f:\n",
    "        text = f.read()\n",
    "    with open(f\"../../evals/agenda_item_summaries/{date}.txt\", 'w') as f:\n",
    "        f.write(text)"
   ]
  }
 ],
 "metadata": {
  "kernelspec": {
   "display_name": "Python 3 (ipykernel)",
   "language": "python",
   "name": "python3"
  },
  "language_info": {
   "codemirror_mode": {
    "name": "ipython",
    "version": 3
   },
   "file_extension": ".py",
   "mimetype": "text/x-python",
   "name": "python",
   "nbconvert_exporter": "python",
   "pygments_lexer": "ipython3",
   "version": "3.9.6"
  }
 },
 "nbformat": 4,
 "nbformat_minor": 5
}

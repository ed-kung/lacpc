{
 "cells": [
  {
   "cell_type": "code",
   "execution_count": 1,
   "id": "8b6dd8a9-5ef3-41f2-843f-d473c654fde0",
   "metadata": {},
   "outputs": [
    {
     "name": "stderr",
     "output_type": "stream",
     "text": [
      "/Users/ekung/Library/Python/3.9/lib/python/site-packages/urllib3/__init__.py:35: NotOpenSSLWarning: urllib3 v2 only supports OpenSSL 1.1.1+, currently the 'ssl' module is compiled with 'LibreSSL 2.8.3'. See: https://github.com/urllib3/urllib3/issues/3020\n",
      "  warnings.warn(\n",
      "/Users/ekung/Library/Python/3.9/lib/python/site-packages/pinecone/data/index.py:1: TqdmWarning: IProgress not found. Please update jupyter and ipywidgets. See https://ipywidgets.readthedocs.io/en/stable/user_install.html\n",
      "  from tqdm.autonotebook import tqdm\n"
     ]
    }
   ],
   "source": [
    "import os\n",
    "import sys\n",
    "import re\n",
    "import time\n",
    "from pathlib import Path\n",
    "import pdfplumber\n",
    "import pytesseract\n",
    "from pdf2image import convert_from_path\n",
    "import warnings\n",
    "import logging\n",
    "import pandas as pd\n",
    "import numpy as np\n",
    "import json\n",
    "from matplotlib import pyplot as plt\n",
    "\n",
    "sys.path.append('../python')\n",
    "warnings.filterwarnings('default')\n",
    "logging.getLogger(\"pdfminer\").setLevel(logging.ERROR)\n",
    "\n",
    "DATA_DIR = Path('../../raw_data/cpc')\n",
    "\n",
    "import api\n",
    "\n",
    "rng = np.random.default_rng(1234)"
   ]
  },
  {
   "cell_type": "code",
   "execution_count": 2,
   "id": "70359f37-c41c-4b26-b7b2-1631b8e15fa5",
   "metadata": {},
   "outputs": [],
   "source": [
    "meta_df = pd.read_csv(\"../../intermediate_data/cpc/meetings_metadata.csv\")"
   ]
  },
  {
   "cell_type": "code",
   "execution_count": 3,
   "id": "167250c7-74c3-4214-9d93-1f2cc013d4e3",
   "metadata": {},
   "outputs": [],
   "source": [
    "for idx, row in meta_df.sample(30, random_state=rng).iterrows():\n",
    "    year = row['year']\n",
    "    date = row['date']\n",
    "    with open(f\"../../intermediate_data/cpc/{year}/{date}/agenda-item-summaries.txt\", 'r') as f:\n",
    "        text = f.read()\n",
    "    with open(f\"../../evals/agenda_item_summaries/{date}.txt\", 'w') as f:\n",
    "        f.write(text)"
   ]
  },
  {
   "cell_type": "code",
   "execution_count": 4,
   "id": "3ef59770-29a4-46ac-94ba-dbd29d39e8f3",
   "metadata": {},
   "outputs": [],
   "source": [
    "for idx, row in meta_df.sample(30, random_state=rng).iterrows():\n",
    "    year = row['year']\n",
    "    date = row['date']\n",
    "    df = pd.read_pickle(f\"../../intermediate_data/cpc/{year}/{date}/minutes-summaries.pkl\")\n",
    "    row2 = df.sample(1, random_state=rng).iloc[0]\n",
    "    item_no = row2['item_no']\n",
    "    title = row2['title']\n",
    "    text = row2['response'].replace('---- YOUR RESPONSE FORMAT ----\\n\\n', '')\n",
    "    text = f\"ITEM NO. {item_no}\\n{title}\\n\\n\" + text\n",
    "    with open(f\"../../evals/minutes_summaries/{date}-{item_no}.txt\", 'w') as f:\n",
    "        f.write(text)"
   ]
  },
  {
   "cell_type": "code",
   "execution_count": 5,
   "id": "38c63455-7b03-41a0-a57e-9af037b27fb4",
   "metadata": {},
   "outputs": [],
   "source": [
    "for idx, row in meta_df.sample(50, random_state=rng).iterrows():\n",
    "    year = row['year']\n",
    "    date = row['date']\n",
    "    df = pd.read_pickle(f\"../../intermediate_data/cpc/{year}/{date}/supplemental-docs-summaries.pkl\")\n",
    "    row2 = df.sample(1, random_state=rng).iloc[0]\n",
    "    start_page = row2['start_page']\n",
    "    end_page = row2['end_page']\n",
    "    text = row2['response'].replace('==== YOUR RESPONSE FORMAT ====\\n\\n','')\n",
    "    text = f\"MEETING DATE: {date}\\nSTART PAGE: {start_page}\\nEND PAGE: {end_page}\\n\" + text\n",
    "    with open(f\"../../evals/supplemental_docs_summaries/{date}-{start_page}-{end_page}.txt\", 'w') as f:\n",
    "        f.write(text)"
   ]
  },
  {
   "cell_type": "code",
   "execution_count": null,
   "id": "b9fba777-fb8c-4651-b192-56627fe83259",
   "metadata": {},
   "outputs": [],
   "source": []
  }
 ],
 "metadata": {
  "kernelspec": {
   "display_name": "Python 3 (ipykernel)",
   "language": "python",
   "name": "python3"
  },
  "language_info": {
   "codemirror_mode": {
    "name": "ipython",
    "version": 3
   },
   "file_extension": ".py",
   "mimetype": "text/x-python",
   "name": "python",
   "nbconvert_exporter": "python",
   "pygments_lexer": "ipython3",
   "version": "3.9.6"
  }
 },
 "nbformat": 4,
 "nbformat_minor": 5
}

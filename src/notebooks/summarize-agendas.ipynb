{
 "cells": [
  {
   "cell_type": "code",
   "execution_count": 1,
   "id": "8b6dd8a9-5ef3-41f2-843f-d473c654fde0",
   "metadata": {},
   "outputs": [],
   "source": [
    "import os\n",
    "import sys\n",
    "import time\n",
    "import yaml\n",
    "import pandas as pd\n",
    "import numpy as np\n",
    "\n",
    "with open('../../config.local.yaml', 'r') as f:\n",
    "    local_config = yaml.safe_load(f)\n",
    "\n",
    "LOCAL_PATH = local_config['LOCAL_PATH']\n",
    "\n",
    "sys.path.append(os.path.join(LOCAL_PATH, \"src/python\"))\n",
    "\n",
    "from llm import get_response\n",
    "\n",
    "LLM_OVERWRITE = False"
   ]
  },
  {
   "cell_type": "code",
   "execution_count": 2,
   "id": "5088ef7c-b00f-4c09-8ffc-18b4aeffab44",
   "metadata": {},
   "outputs": [],
   "source": [
    "meetings_df = pd.read_csv(os.path.join(LOCAL_PATH, \"intermediate_data/cpc/meetings-manifest.csv\"))\n",
    "DATES = sorted(list(meetings_df['date']))"
   ]
  },
  {
   "cell_type": "code",
   "execution_count": 3,
   "id": "9a507892-730b-4f75-95d0-c41a94a7e0b7",
   "metadata": {},
   "outputs": [],
   "source": [
    "PROMPT = \"\"\"\n",
    "The following extracted PDF text contains the agenda for a LA City Planning Commission meeting. \n",
    "\n",
    "For each agenda item, return a summary in the following format:\n",
    "\n",
    "ITEM NO: <agenda item number>\n",
    "TITLE: <title of agenda item>\n",
    "SUMMARY: <short summary of agenda item>\n",
    "\n",
    "Separate each response by \"------\"\n",
    "\n",
    "AGENDA:\n",
    "\n",
    "{}\n",
    "\"\"\""
   ]
  },
  {
   "cell_type": "code",
   "execution_count": 4,
   "id": "9a21ba81-273d-4637-b88b-3f1c9ef161c3",
   "metadata": {},
   "outputs": [
    {
     "name": "stdout",
     "output_type": "stream",
     "text": [
      "2018-05-10... 2018-05-23... 2018-06-14... 2018-07-12... 2018-07-26... 2018-08-09... 2018-08-23... 2018-09-13... 2018-09-27... 2018-10-11... 2018-10-25... 2018-11-08... 2018-11-29... 2018-12-13... 2018-12-20... 2019-01-10... 2019-01-24... 2019-02-14... 2019-02-28... 2019-03-14... 2019-03-28... 2019-04-11... 2019-05-09... 2019-05-23... 2019-06-13... 2019-06-27... 2019-07-11... 2019-07-25... 2019-08-08... 2019-08-22... 2019-09-12... 2019-09-26... 2019-10-10... 2019-10-24... 2019-11-14... 2019-11-21... 2019-12-12... 2019-12-19... 2020-01-09... 2020-01-23... 2020-02-13... 2020-03-12... 2020-04-23... 2020-05-14... 2020-05-28... 2020-06-04... 2020-06-11... 2020-06-25... 2020-07-09... 2020-07-23... 2020-08-13... 2020-08-27... 2020-09-10... 2020-09-17... 2020-09-24... 2020-10-08... 2020-10-15... 2020-10-22... 2020-11-05... 2020-11-19... 2020-12-03... 2020-12-10... 2020-12-17... 2021-01-14... 2021-01-28... 2021-02-11... 2021-02-18... 2021-02-25... 2021-03-11... 2021-03-25... 2021-04-08... 2021-04-22... 2021-05-13... 2021-05-27... 2021-06-10... 2021-06-17... 2021-07-08... 2021-07-22... 2021-08-12... 2021-08-26... 2021-09-09... 2021-09-23... 2021-09-30... 2021-10-14... 2021-10-21... 2021-10-28... 2021-11-04... 2021-11-18... 2021-12-09... 2022-01-13... 2022-01-27... 2022-02-10... 2022-02-24... 2022-03-10... 2022-03-17... 2022-03-24... 2022-04-14... 2022-04-28... 2022-05-12... 2022-05-19... 2022-05-26... 2022-06-09... 2022-06-23... 2022-07-14... 2022-07-28... 2022-08-11... 2022-08-25... 2022-09-08... 2022-09-22... 2022-10-13... 2022-10-27... 2022-11-03... 2022-11-17... 2022-12-08... 2022-12-15... 2023-02-09... 2023-02-23... 2023-03-09... 2023-03-23... 2023-04-20... 2023-04-27... 2023-05-11... 2023-05-25... 2023-06-08... 2023-07-13... 2023-07-27... 2023-08-10... 2023-08-24... 2023-09-14... 2023-09-28... 2023-10-12... 2023-10-26... 2023-11-02... 2023-11-16... 2023-12-14... 2024-01-11... 2024-01-25... 2024-02-22... 2024-03-14... 2024-03-28... 2024-04-11... 2024-05-09... 2024-05-23... 2024-06-13... 2024-06-27... 2024-07-11... 2024-07-25... 2024-08-08... 2024-09-12... 2024-09-26... 2024-10-10... 2024-10-24... 2024-11-14... 2024-11-21... 2024-12-12... 2024-12-19... "
     ]
    }
   ],
   "source": [
    "# Use ChatGPT to separate agenda items\n",
    "\n",
    "for date in DATES:\n",
    "    year = date[0:4]\n",
    "    PATH = os.path.join(LOCAL_PATH, f\"intermediate_data/cpc/{year}/{date}\")\n",
    "    print(date, end='... ')\n",
    "    try:\n",
    "        with open(os.path.join(PATH, \"agenda-manual-override.txt\"), 'r', encoding='utf-8') as f:\n",
    "            text = f.read()\n",
    "    except:\n",
    "        with open(os.path.join(PATH, \"agenda.txt\"), 'r', encoding='utf-8') as f:\n",
    "            text = f.read()\n",
    "    prompt = PROMPT.format(text)\n",
    "    response = get_response(prompt, overwrite=LLM_OVERWRITE)\n",
    "    message = response['message']\n",
    "    output_file = os.path.join(PATH, \"agenda-summary.txt\")\n",
    "    with open(output_file, 'w', encoding='utf-8') as f:\n",
    "        f.write(message)"
   ]
  },
  {
   "cell_type": "code",
   "execution_count": 5,
   "id": "11efa3f2-24c3-4977-b9d5-5fd6c13372dd",
   "metadata": {},
   "outputs": [
    {
     "name": "stdout",
     "output_type": "stream",
     "text": [
      "ITEM NO: 1  \n",
      "TITLE: DIRECTOR’S REPORT AND COMMISSION BUSINESS  \n",
      "SUMMARY: The Director's Report includes updates on legal actions and issues, items of interest, the advance calendar, commission requests, and the approval of meeting minutes from January 25, 2024.  \n",
      "\n",
      "------  \n",
      "\n",
      "ITEM NO: 2  \n",
      "TITLE: NEIGHBORHOOD COUNCIL POSITION STATEMENTS ON AGENDA ITEMS  \n",
      "SUMMARY: Neighborhood Council representatives will present resolutions or community impact statements related to agenda items. These presentations may occur at the Chair's discretion when the relevant agenda item is considered.  \n",
      "\n",
      "------  \n",
      "\n",
      "ITEM NO: 3  \n",
      "TITLE: GENERAL PUBLIC COMMENT  \n",
      "SUMMARY: The Commission will provide a 30-minute opportunity for the public to address non-agenda items of interest within the Commission's jurisdiction.  \n",
      "\n",
      "------  \n",
      "\n",
      "ITEM NO: 4  \n",
      "TITLE: RECONSIDERATIONS  \n",
      "SUMMARY: The Commission may reconsider actions taken on previous agenda items if a motion to reconsider is approved. The merits of any item voted to be reconsidered will be addressed.  \n",
      "\n",
      "------  \n",
      "\n",
      "ITEM NO: 5  \n",
      "TITLE: CONSENT CALENDAR (NO ITEMS)  \n",
      "SUMMARY: There are no items on the Consent Calendar, which typically includes non-controversial items treated as one agenda item.  \n",
      "\n",
      "------  \n",
      "\n",
      "ITEM NO: 6  \n",
      "TITLE: CPC-2022-7045-CU3-DB-DRB-SPPC-HCA  \n",
      "SUMMARY: The proposed project involves demolishing three existing multi-family dwellings and constructing a new six-story building with 47 units and one ADU, including five Very Low Income units. The project requests several actions, including a CEQA exemption, a Conditional Use Permit for increased density, and various waivers and incentives related to building height, FAR, and setbacks.  \n",
      "\n",
      "------  \n",
      "\n",
      "ITEM NO: 7  \n",
      "TITLE: CPC-2023-6389-CU-DB-WDI-HCA-PHP  \n",
      "SUMMARY: The project proposes a new five-story residential building with 35 units, including seven affordable units for Very Low Income Households. The project requests a CEQA exemption, a Conditional Use Permit for increased density, and several incentives and waivers related to side yards, FAR, and building height.  \n",
      "\n",
      "------  \n",
      "\n",
      "ITEM NO: 8  \n",
      "TITLE: CPC-2023-891-GPA-ZC-BL-CUB-CUX  \n",
      "SUMMARY: The project involves expanding the Holy Trinity Armenian Church with new facilities, including a daycare, lobby, courtyard, and accessory building with a banquet hall. The project requests actions such as a General Plan Amendment, Zone Change, Building Line Removal, and Conditional Use Permits for alcohol sales and patron dancing.  \n",
      "\n",
      "------  \n",
      "\n",
      "ITEM NO: 9  \n",
      "TITLE: DIR-2023-8208-TOC-HCA-1A  \n",
      "SUMMARY: The project proposes a new seven-story residential development with 45 units, including five for Extremely Low-Income Households. The appeal challenges the Planning Director's Determination, which approved the project under CEQA exemptions and the Transit Oriented Communities Affordable Housing Incentive Program. The project includes incentives for reduced setbacks, increased height, and decreased open space.\n"
     ]
    }
   ],
   "source": [
    "print(message)"
   ]
  }
 ],
 "metadata": {
  "kernelspec": {
   "display_name": "Python 3 (ipykernel)",
   "language": "python",
   "name": "python3"
  },
  "language_info": {
   "codemirror_mode": {
    "name": "ipython",
    "version": 3
   },
   "file_extension": ".py",
   "mimetype": "text/x-python",
   "name": "python",
   "nbconvert_exporter": "python",
   "pygments_lexer": "ipython3",
   "version": "3.12.10"
  }
 },
 "nbformat": 4,
 "nbformat_minor": 5
}

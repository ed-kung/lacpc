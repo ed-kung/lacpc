{
 "cells": [
  {
   "cell_type": "code",
   "execution_count": 1,
   "id": "6ea910c0-4c30-4002-9c4d-db68ec649cd6",
   "metadata": {},
   "outputs": [
    {
     "name": "stderr",
     "output_type": "stream",
     "text": [
      "/Users/ekung/Library/Python/3.9/lib/python/site-packages/urllib3/__init__.py:35: NotOpenSSLWarning: urllib3 v2 only supports OpenSSL 1.1.1+, currently the 'ssl' module is compiled with 'LibreSSL 2.8.3'. See: https://github.com/urllib3/urllib3/issues/3020\n",
      "  warnings.warn(\n",
      "/Users/ekung/Library/Python/3.9/lib/python/site-packages/pinecone/data/index.py:1: TqdmWarning: IProgress not found. Please update jupyter and ipywidgets. See https://ipywidgets.readthedocs.io/en/stable/user_install.html\n",
      "  from tqdm.autonotebook import tqdm\n"
     ]
    }
   ],
   "source": [
    "import os\n",
    "import sys\n",
    "import re\n",
    "from pathlib import Path\n",
    "import pdfplumber\n",
    "\n",
    "sys.path.append('../python')\n",
    "\n",
    "import api\n",
    "\n",
    "FILEPATH = \"../../intermediate_data/cpc/2025-02-13/supplemental-docs-10.txt\""
   ]
  },
  {
   "cell_type": "code",
   "execution_count": 2,
   "id": "a52aa1ca-c41f-45f5-8a48-03005d14fb85",
   "metadata": {},
   "outputs": [],
   "source": [
    "with open(FILEPATH) as f:\n",
    "    text = f.read()\n",
    "\n",
    "PROMPT = f\"\"\"\n",
    "CONTEXT:\n",
    "{text}\n",
    "\n",
    "QUERY:\n",
    "{{}}\n",
    "\"\"\""
   ]
  },
  {
   "cell_type": "code",
   "execution_count": 3,
   "id": "e57207c1-b36c-4305-a586-12ac817b963f",
   "metadata": {},
   "outputs": [
    {
     "name": "stdout",
     "output_type": "stream",
     "text": [
      "```json\n",
      "{\n",
      "  \"name\": \"Azeen Khanmalek and Tami Kagan-Abrams\",\n",
      "  \"organization\": \"Abundant Housing LA\"\n",
      "}\n",
      "```\n"
     ]
    }
   ],
   "source": [
    "query = \"Who wrote the document and what organization did they work for? Output your response as JSON key-value pairs, with the keys being name and organization.\"\n",
    "response = api.get_gpt_completion(PROMPT.format(query))\n",
    "print(response)"
   ]
  },
  {
   "cell_type": "code",
   "execution_count": 4,
   "id": "67855efa-854e-4c1f-9c7e-32fcf57f9c92",
   "metadata": {},
   "outputs": [
    {
     "name": "stdout",
     "output_type": "stream",
     "text": [
      "CPC-2022-6064-DB-MCUP-CDO-SPR-HCA-PHP\n"
     ]
    }
   ],
   "source": [
    "query = \"What planning department case numbers are referenced? Planning department case numbers are of the format <PREFIX>-<YEAR>-<SERIAL NUMBER>-<ONE OR MORE SUFFIXES>. Output your response as a comma delimited list.\"\n",
    "response = api.get_gpt_completion(PROMPT.format(query))\n",
    "print(response)"
   ]
  },
  {
   "cell_type": "code",
   "execution_count": 5,
   "id": "dd11bb3c-4873-49e3-a705-84635642a8c8",
   "metadata": {},
   "outputs": [
    {
     "name": "stdout",
     "output_type": "stream",
     "text": [
      "```json\n",
      "[\n",
      "    {\n",
      "        \"name\": \"6136 W Manchester Avenue Development\",\n",
      "        \"address\": \"6136 W Manchester Avenue, Los Angeles, CA\"\n",
      "    }\n",
      "]\n",
      "```\n"
     ]
    }
   ],
   "source": [
    "query = \"What is/are the names and addresses of the developments referenced? Output your response as a JSON list of key-value pairs where the keys are name and address.\"\n",
    "response = api.get_gpt_completion(PROMPT.format(query))\n",
    "print(response)"
   ]
  },
  {
   "cell_type": "code",
   "execution_count": 6,
   "id": "bf818e9f-825a-4ba1-87cd-b15e16271aa2",
   "metadata": {},
   "outputs": [
    {
     "name": "stdout",
     "output_type": "stream",
     "text": [
      "None.\n"
     ]
    }
   ],
   "source": [
    "query = \"What is/are the names of the developers of the projects referenced? Output your response as a comma delimited list. If there are no developers referenced, say none.\"\n",
    "response = api.get_gpt_completion(PROMPT.format(query))\n",
    "print(response)"
   ]
  }
 ],
 "metadata": {
  "kernelspec": {
   "display_name": "Python 3 (ipykernel)",
   "language": "python",
   "name": "python3"
  },
  "language_info": {
   "codemirror_mode": {
    "name": "ipython",
    "version": 3
   },
   "file_extension": ".py",
   "mimetype": "text/x-python",
   "name": "python",
   "nbconvert_exporter": "python",
   "pygments_lexer": "ipython3",
   "version": "3.9.6"
  }
 },
 "nbformat": 4,
 "nbformat_minor": 5
}

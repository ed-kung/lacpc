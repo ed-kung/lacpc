{
 "cells": [
  {
   "cell_type": "code",
   "execution_count": 4,
   "id": "6ea910c0-4c30-4002-9c4d-db68ec649cd6",
   "metadata": {},
   "outputs": [],
   "source": [
    "import os\n",
    "import sys\n",
    "import re\n",
    "from pathlib import Path\n",
    "import pdfplumber\n",
    "\n",
    "sys.path.append('../python')\n",
    "\n",
    "import api\n",
    "\n",
    "FILEPATH = \"../../intermediate_data/cpc/2025-02-13/supplemental-docs-1.txt\""
   ]
  },
  {
   "cell_type": "code",
   "execution_count": 7,
   "id": "a52aa1ca-c41f-45f5-8a48-03005d14fb85",
   "metadata": {},
   "outputs": [],
   "source": [
    "with open(FILEPATH) as f:\n",
    "    text = f.read()\n",
    "\n",
    "PROMPT = f\"\"\"\n",
    "CONTEXT:\n",
    "{text}\n",
    "\n",
    "QUERY:\n",
    "{{}}\n",
    "\"\"\""
   ]
  },
  {
   "cell_type": "code",
   "execution_count": 13,
   "id": "e57207c1-b36c-4305-a586-12ac817b963f",
   "metadata": {},
   "outputs": [
    {
     "name": "stdout",
     "output_type": "stream",
     "text": [
      "The document supports the development. It urges the Los Angeles City Planning Commission to approve the proposed 112-unit housing development project, emphasizing the project's compliance with relevant state laws and its benefits, such as providing affordable housing and contributing to the mitigation of the state's housing crisis.\n"
     ]
    }
   ],
   "source": [
    "query = \"Does the document support or oppose the development?\"\n",
    "\n",
    "response = api.get_gpt_completion(PROMPT.format(query))\n",
    "\n",
    "print(response)"
   ]
  }
 ],
 "metadata": {
  "kernelspec": {
   "display_name": "Python 3 (ipykernel)",
   "language": "python",
   "name": "python3"
  },
  "language_info": {
   "codemirror_mode": {
    "name": "ipython",
    "version": 3
   },
   "file_extension": ".py",
   "mimetype": "text/x-python",
   "name": "python",
   "nbconvert_exporter": "python",
   "pygments_lexer": "ipython3",
   "version": "3.9.6"
  }
 },
 "nbformat": 4,
 "nbformat_minor": 5
}

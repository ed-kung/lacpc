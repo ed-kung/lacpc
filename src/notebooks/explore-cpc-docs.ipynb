{
 "cells": [
  {
   "cell_type": "code",
   "execution_count": 1,
   "id": "453d2659-707e-4355-83cb-7c8f5734c52d",
   "metadata": {},
   "outputs": [],
   "source": [
    "import os\n",
    "import sys\n",
    "import time\n",
    "import yaml\n",
    "import pandas as pd\n",
    "import numpy as np\n",
    "\n",
    "with open('../../config.local.yaml', 'r') as f:\n",
    "    local_config = yaml.safe_load(f)\n",
    "\n",
    "LOCAL_PATH = local_config['LOCAL_PATH']\n",
    "\n",
    "sys.path.append(os.path.join(LOCAL_PATH, \"src/python\"))"
   ]
  },
  {
   "cell_type": "code",
   "execution_count": 2,
   "id": "a5bd281f-dc57-4b1c-a541-13450fdb4ff0",
   "metadata": {},
   "outputs": [],
   "source": [
    "meetings_df = pd.read_csv(os.path.join(LOCAL_PATH, \"intermediate_data/cpc/meetings-manifest.csv\"))\n",
    "DATES = sorted(list(meetings_df['date']))\n",
    "meta_df = meetings_df.copy()"
   ]
  },
  {
   "cell_type": "code",
   "execution_count": 3,
   "id": "64e54188-dbd6-4196-a838-8b215bc02042",
   "metadata": {},
   "outputs": [],
   "source": [
    "meta_df['total_pages'] = meta_df['agenda_pages'] + meta_df['minutes_pages'] + meta_df['supdocs_pages']"
   ]
  },
  {
   "cell_type": "code",
   "execution_count": 4,
   "id": "547e6341-cdfe-4219-ba31-6f5ea7599542",
   "metadata": {},
   "outputs": [],
   "source": [
    "meta_df['total_supplemental_docs'] = 0\n",
    "for idx, row in meta_df.iterrows():\n",
    "    year = row['year']\n",
    "    date = row['date']\n",
    "    filepath = os.path.join(LOCAL_PATH, f\"intermediate_data/cpc/{year}/{date}/supplemental-docs.pkl\")\n",
    "    if os.path.exists(filepath):\n",
    "        supplemental_docs_df = pd.read_pickle(filepath)\n",
    "        meta_df.loc[idx, 'total_supplemental_docs'] = len(supplemental_docs_df)"
   ]
  },
  {
   "cell_type": "code",
   "execution_count": 5,
   "id": "d3ddae29-7c49-4b90-a493-206485a840af",
   "metadata": {},
   "outputs": [],
   "source": [
    "meta_df['total_agenda_items'] = 0\n",
    "meta_df['total_agenda_cases'] = 0\n",
    "for idx, row in meta_df.iterrows():\n",
    "    year = row['year']\n",
    "    date = row['date']\n",
    "    filepath = os.path.join(LOCAL_PATH, f\"intermediate_data/cpc/{year}/{date}/agenda-items.pkl\")\n",
    "    if os.path.exists(filepath):\n",
    "        agenda_items_df = pd.read_pickle(filepath)\n",
    "        meta_df.loc[idx, 'total_agenda_items'] = len(agenda_items_df)\n",
    "        meta_df.loc[idx, 'total_agenda_cases'] = len(agenda_items_df.loc[agenda_items_df['is_casenum']])"
   ]
  },
  {
   "cell_type": "code",
   "execution_count": 6,
   "id": "8ea1cfd4-9413-4b65-84af-e1570be51837",
   "metadata": {},
   "outputs": [
    {
     "name": "stdout",
     "output_type": "stream",
     "text": [
      "156 meetings\n",
      "across 7 years from 2018 to 2024\n",
      "totaling 1,506 agenda items\n",
      "and 732 planning department cases on the agenda\n",
      "and 6,482 supplemental documents\n",
      "total pages of documents: 23,712\n"
     ]
    }
   ],
   "source": [
    "n_meetings = len(meta_df)\n",
    "n_years = len(meta_df['year'].unique())\n",
    "min_year = meta_df['year'].astype('int').min()\n",
    "max_year = meta_df['year'].astype('int').max()\n",
    "n_pages = meta_df['total_pages'].sum()\n",
    "n_supplemental_docs = meta_df['total_supplemental_docs'].sum()\n",
    "n_agenda_items = meta_df['total_agenda_items'].sum()\n",
    "n_agenda_cases = meta_df['total_agenda_cases'].sum()\n",
    "\n",
    "print(f\"{n_meetings} meetings\")\n",
    "print(f\"across {n_years} years from {min_year} to {max_year}\")\n",
    "print(f\"totaling {n_agenda_items:,g} agenda items\")\n",
    "print(f\"and {n_agenda_cases:,g} planning department cases on the agenda\")\n",
    "print(f\"and {n_supplemental_docs:,g} supplemental documents\")\n",
    "print(f\"total pages of documents: {n_pages:,g}\")\n"
   ]
  }
 ],
 "metadata": {
  "kernelspec": {
   "display_name": "Python 3 (ipykernel)",
   "language": "python",
   "name": "python3"
  },
  "language_info": {
   "codemirror_mode": {
    "name": "ipython",
    "version": 3
   },
   "file_extension": ".py",
   "mimetype": "text/x-python",
   "name": "python",
   "nbconvert_exporter": "python",
   "pygments_lexer": "ipython3",
   "version": "3.12.10"
  }
 },
 "nbformat": 4,
 "nbformat_minor": 5
}

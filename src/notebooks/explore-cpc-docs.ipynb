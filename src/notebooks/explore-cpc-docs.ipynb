{
 "cells": [
  {
   "cell_type": "code",
   "execution_count": 1,
   "id": "453d2659-707e-4355-83cb-7c8f5734c52d",
   "metadata": {},
   "outputs": [
    {
     "name": "stderr",
     "output_type": "stream",
     "text": [
      "/Users/ekung/Library/Python/3.9/lib/python/site-packages/urllib3/__init__.py:35: NotOpenSSLWarning: urllib3 v2 only supports OpenSSL 1.1.1+, currently the 'ssl' module is compiled with 'LibreSSL 2.8.3'. See: https://github.com/urllib3/urllib3/issues/3020\n",
      "  warnings.warn(\n",
      "/Users/ekung/Library/Python/3.9/lib/python/site-packages/pinecone/data/index.py:1: TqdmWarning: IProgress not found. Please update jupyter and ipywidgets. See https://ipywidgets.readthedocs.io/en/stable/user_install.html\n",
      "  from tqdm.autonotebook import tqdm\n"
     ]
    }
   ],
   "source": [
    "import os\n",
    "import sys\n",
    "import re\n",
    "from pathlib import Path\n",
    "import pdfplumber\n",
    "import pytesseract\n",
    "from pdf2image import convert_from_path\n",
    "import warnings\n",
    "import logging\n",
    "import pandas as pd\n",
    "import numpy as np\n",
    "from matplotlib import pyplot as plt\n",
    "\n",
    "sys.path.append('../python')\n",
    "warnings.filterwarnings('default')\n",
    "logging.getLogger(\"pdfminer\").setLevel(logging.ERROR)\n",
    "\n",
    "import api\n"
   ]
  },
  {
   "cell_type": "code",
   "execution_count": 2,
   "id": "a5bd281f-dc57-4b1c-a541-13450fdb4ff0",
   "metadata": {},
   "outputs": [],
   "source": [
    "meta_df2 = pd.read_csv(\"../../intermediate_data/cpc/meetings_metadata.csv\")"
   ]
  },
  {
   "cell_type": "code",
   "execution_count": 3,
   "id": "547e6341-cdfe-4219-ba31-6f5ea7599542",
   "metadata": {},
   "outputs": [],
   "source": [
    "meta_df2['total_supplemental_docs'] = 0\n",
    "for idx, row in meta_df2.iterrows():\n",
    "    year = row['year']\n",
    "    date = row['date']\n",
    "    if row['supplemental_pages']>0:\n",
    "        supplemental_docs_df = pd.read_pickle(f\"../../intermediate_data/cpc/{year}/{date}/supplemental-docs.pkl\")\n",
    "        meta_df2.loc[idx, 'total_supplemental_docs'] = len(supplemental_docs_df)    "
   ]
  },
  {
   "cell_type": "code",
   "execution_count": 4,
   "id": "d3ddae29-7c49-4b90-a493-206485a840af",
   "metadata": {},
   "outputs": [],
   "source": [
    "meta_df2['total_agenda_items'] = 0\n",
    "for idx, row in meta_df2.iterrows():\n",
    "    year = row['year']\n",
    "    date = row['date']\n",
    "    has_all = row['has_all']\n",
    "    if has_all:\n",
    "        agenda_items_df = pd.read_pickle(f\"../../intermediate_data/cpc/{year}/{date}/agenda-items.pkl\")\n",
    "        meta_df2.loc[idx, 'total_agenda_items'] = len(agenda_items_df)\n",
    "        meta_df2.loc[idx, 'total_agenda_cases'] = len(agenda_items_df.loc[agenda_items_df['is_casenum']])"
   ]
  },
  {
   "cell_type": "code",
   "execution_count": 5,
   "id": "8ea1cfd4-9413-4b65-84af-e1570be51837",
   "metadata": {},
   "outputs": [
    {
     "name": "stdout",
     "output_type": "stream",
     "text": [
      "150 meetings\n",
      "across 7 years from 2018 to 2024\n",
      "totaling 1,442 agenda items\n",
      "and 700 planning department cases on the agenda\n",
      "and 6,423 supplemental documents across 21,189 pages\n",
      "total pages of documents: 23,430\n"
     ]
    }
   ],
   "source": [
    "idx = meta_df2['has_all']\n",
    "n_meetings = len(meta_df2.loc[idx])\n",
    "n_years = len(meta_df2.loc[idx,'year'].unique())\n",
    "min_year = meta_df2.loc[idx,'year'].astype('int').min()\n",
    "max_year = meta_df2.loc[idx,'year'].astype('int').max()\n",
    "n_supplemental_pages = meta_df2.loc[idx, 'supplemental_pages'].sum()\n",
    "n_supplemental_docs = meta_df2.loc[idx, 'total_supplemental_docs'].sum()\n",
    "n_agenda_items = meta_df2.loc[idx, 'total_agenda_items'].sum()\n",
    "n_agenda_cases = meta_df2.loc[idx, 'total_agenda_cases'].sum()\n",
    "n_pages = meta_df2.loc[idx, 'total_pages'].sum()\n",
    "\n",
    "print(f\"{n_meetings} meetings\")\n",
    "print(f\"across {n_years} years from {min_year} to {max_year}\")\n",
    "print(f\"totaling {n_agenda_items:,g} agenda items\")\n",
    "print(f\"and {n_agenda_cases:,g} planning department cases on the agenda\")\n",
    "print(f\"and {n_supplemental_docs:,g} supplemental documents across {n_supplemental_pages:,g} pages\")\n",
    "print(f\"total pages of documents: {n_pages:,g}\")\n"
   ]
  }
 ],
 "metadata": {
  "kernelspec": {
   "display_name": "Python 3 (ipykernel)",
   "language": "python",
   "name": "python3"
  },
  "language_info": {
   "codemirror_mode": {
    "name": "ipython",
    "version": 3
   },
   "file_extension": ".py",
   "mimetype": "text/x-python",
   "name": "python",
   "nbconvert_exporter": "python",
   "pygments_lexer": "ipython3",
   "version": "3.9.6"
  }
 },
 "nbformat": 4,
 "nbformat_minor": 5
}

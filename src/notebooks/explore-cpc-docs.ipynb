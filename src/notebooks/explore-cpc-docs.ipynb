{
 "cells": [
  {
   "cell_type": "code",
   "execution_count": 1,
   "id": "453d2659-707e-4355-83cb-7c8f5734c52d",
   "metadata": {},
   "outputs": [
    {
     "name": "stderr",
     "output_type": "stream",
     "text": [
      "/Users/ekung/Library/Python/3.9/lib/python/site-packages/urllib3/__init__.py:35: NotOpenSSLWarning: urllib3 v2 only supports OpenSSL 1.1.1+, currently the 'ssl' module is compiled with 'LibreSSL 2.8.3'. See: https://github.com/urllib3/urllib3/issues/3020\n",
      "  warnings.warn(\n",
      "/Users/ekung/Library/Python/3.9/lib/python/site-packages/pinecone/data/index.py:1: TqdmWarning: IProgress not found. Please update jupyter and ipywidgets. See https://ipywidgets.readthedocs.io/en/stable/user_install.html\n",
      "  from tqdm.autonotebook import tqdm\n"
     ]
    }
   ],
   "source": [
    "import os\n",
    "import sys\n",
    "import re\n",
    "from pathlib import Path\n",
    "import pdfplumber\n",
    "import pytesseract\n",
    "from pdf2image import convert_from_path\n",
    "import warnings\n",
    "import logging\n",
    "import pandas as pd\n",
    "import numpy as np\n",
    "from matplotlib import pyplot as plt\n",
    "\n",
    "sys.path.append('../python')\n",
    "warnings.filterwarnings('default')\n",
    "logging.getLogger(\"pdfminer\").setLevel(logging.ERROR)\n",
    "\n",
    "import api\n"
   ]
  },
  {
   "cell_type": "code",
   "execution_count": 2,
   "id": "a5bd281f-dc57-4b1c-a541-13450fdb4ff0",
   "metadata": {},
   "outputs": [],
   "source": [
    "meta_df = pd.read_csv(\"../../intermediate_data/cpc/metadata.csv\")"
   ]
  },
  {
   "cell_type": "code",
   "execution_count": 3,
   "id": "93660f6e-b4cd-4cfd-9ac1-9857d6221ec8",
   "metadata": {},
   "outputs": [],
   "source": [
    "meta_df['agenda_pages'] = (meta_df['filename']=='agenda')*(meta_df['pages'])\n",
    "meta_df['supplemental_pages'] = (meta_df['filename']=='supplemental-docs')*(meta_df['pages'])\n",
    "meta_df['minutes_pages'] = (meta_df['filename']=='minutes')*(meta_df['pages'])\n",
    "meta_df2 = meta_df.groupby(['year','date']).agg(\n",
    "    agenda_pages = ('agenda_pages','sum'),\n",
    "    supplemental_pages = ('supplemental_pages','sum'),\n",
    "    minutes_pages = ('minutes_pages','sum')\n",
    ").reset_index()\n",
    "meta_df2['has_all'] = (meta_df2['agenda_pages']>0) & (meta_df2['supplemental_pages']>0) & (meta_df2['minutes_pages']>0)\n",
    "meta_df2['total_pages'] = meta_df2['agenda_pages'] + meta_df2['supplemental_pages'] + meta_df2['minutes_pages']"
   ]
  },
  {
   "cell_type": "code",
   "execution_count": 6,
   "id": "8ea1cfd4-9413-4b65-84af-e1570be51837",
   "metadata": {},
   "outputs": [
    {
     "name": "stdout",
     "output_type": "stream",
     "text": [
      "150 meetings\n",
      "across 7 years from 2018 to 2024\n",
      "totaling 23,430 pages of documents\n"
     ]
    }
   ],
   "source": [
    "idx = meta_df2['has_all']\n",
    "n_meetings = len(meta_df2.loc[idx])\n",
    "n_years = len(meta_df2.loc[idx,'year'].unique())\n",
    "min_year = meta_df2.loc[idx,'year'].astype('int').min()\n",
    "max_year = meta_df2.loc[idx,'year'].astype('int').max()\n",
    "n_pages = meta_df2.loc[idx, 'total_pages'].sum()\n",
    "\n",
    "print(f\"{n_meetings} meetings\")\n",
    "print(f\"across {n_years} years from {min_year} to {max_year}\")\n",
    "print(f\"totaling {n_pages:,g} pages of documents\")"
   ]
  }
 ],
 "metadata": {
  "kernelspec": {
   "display_name": "Python 3 (ipykernel)",
   "language": "python",
   "name": "python3"
  },
  "language_info": {
   "codemirror_mode": {
    "name": "ipython",
    "version": 3
   },
   "file_extension": ".py",
   "mimetype": "text/x-python",
   "name": "python",
   "nbconvert_exporter": "python",
   "pygments_lexer": "ipython3",
   "version": "3.9.6"
  }
 },
 "nbformat": 4,
 "nbformat_minor": 5
}

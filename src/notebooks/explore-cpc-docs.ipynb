{
 "cells": [
  {
   "cell_type": "code",
   "execution_count": 1,
   "id": "453d2659-707e-4355-83cb-7c8f5734c52d",
   "metadata": {},
   "outputs": [
    {
     "name": "stderr",
     "output_type": "stream",
     "text": [
      "/Users/ekung/Library/Python/3.9/lib/python/site-packages/urllib3/__init__.py:35: NotOpenSSLWarning: urllib3 v2 only supports OpenSSL 1.1.1+, currently the 'ssl' module is compiled with 'LibreSSL 2.8.3'. See: https://github.com/urllib3/urllib3/issues/3020\n",
      "  warnings.warn(\n",
      "/Users/ekung/Library/Python/3.9/lib/python/site-packages/pinecone/data/index.py:1: TqdmWarning: IProgress not found. Please update jupyter and ipywidgets. See https://ipywidgets.readthedocs.io/en/stable/user_install.html\n",
      "  from tqdm.autonotebook import tqdm\n"
     ]
    }
   ],
   "source": [
    "import os\n",
    "import sys\n",
    "import re\n",
    "from pathlib import Path\n",
    "import pdfplumber\n",
    "import pytesseract\n",
    "from pdf2image import convert_from_path\n",
    "import warnings\n",
    "import logging\n",
    "import pandas as pd\n",
    "import numpy as np\n",
    "from matplotlib import pyplot as plt\n",
    "\n",
    "sys.path.append('../python')\n",
    "warnings.filterwarnings('default')\n",
    "logging.getLogger(\"pdfminer\").setLevel(logging.ERROR)\n",
    "\n",
    "import api\n",
    "\n",
    "DATA_DIR = Path('../../raw_data/cpc')\n"
   ]
  },
  {
   "cell_type": "code",
   "execution_count": 2,
   "id": "43c1a43d-074e-4e07-b553-20fc6bc67dd8",
   "metadata": {},
   "outputs": [
    {
     "name": "stdout",
     "output_type": "stream",
     "text": [
      "Files: 1526\n",
      "['2018-05-10', '2018-05-23', '2018-06-14', '2018-07-12', '2018-07-26', '2018-08-09', '2018-08-23', '2018-09-13', '2018-09-27', '2018-10-11', '2018-10-25', '2018-11-08', '2018-11-29', '2018-12-13', '2018-12-20', '2019-01-10', '2019-01-24', '2019-02-14', '2019-02-28', '2019-03-14', '2019-03-28', '2019-04-11', '2019-05-09', '2019-05-23', '2019-06-13', '2019-06-27', '2019-07-11', '2019-07-25', '2019-08-08', '2019-08-22', '2019-09-12', '2019-09-26', '2019-10-10', '2019-10-24', '2019-11-14', '2019-11-21', '2019-12-12', '2019-12-19', '2020-01-09', '2020-01-23', '2020-02-13', '2020-03-12', '2020-04-23', '2020-05-14', '2020-05-28', '2020-06-04', '2020-06-11', '2020-06-25', '2020-07-09', '2020-07-23', '2020-08-13', '2020-08-27', '2020-09-10', '2020-09-17', '2020-09-24', '2020-10-08', '2020-10-15', '2020-10-22', '2020-11-05', '2020-11-19', '2020-12-03', '2020-12-10', '2020-12-17', '2021-01-14', '2021-01-21', '2021-01-28', '2021-02-11', '2021-02-18', '2021-02-25', '2021-03-11', '2021-03-18', '2021-03-25', '2021-04-08', '2021-04-22', '2021-05-13', '2021-05-27', '2021-06-10', '2021-06-17', '2021-07-08', '2021-07-22', '2021-08-12', '2021-08-26', '2021-09-09', '2021-09-23', '2021-09-30', '2021-10-14', '2021-10-21', '2021-10-28', '2021-11-04', '2021-11-18', '2021-12-09', '2021-12-16', '2022-01-13', '2022-01-27', '2022-02-10', '2022-02-24', '2022-03-10', '2022-03-17', '2022-03-24', '2022-04-14', '2022-04-28', '2022-05-12', '2022-05-19', '2022-05-26', '2022-06-09', '2022-06-23', '2022-07-14', '2022-07-28', '2022-08-11', '2022-08-25', '2022-09-08', '2022-09-22', '2022-10-13', '2022-10-27', '2022-11-03', '2022-11-17', '2022-12-08', '2022-12-15', '2023-02-09', '2023-02-23', '2023-03-09', '2023-03-23', '2023-04-20', '2023-04-27', '2023-05-11', '2023-05-25', '2023-06-08', '2023-07-13', '2023-07-27', '2023-08-10', '2023-08-24', '2023-09-14', '2023-09-28', '2023-10-12', '2023-10-26', '2023-11-02', '2023-11-16', '2023-12-14', '2024-01-11', '2024-01-25', '2024-02-08', '2024-02-22', '2024-03-14', '2024-03-28', '2024-04-11', '2024-05-09', '2024-05-23', '2024-06-13', '2024-06-27', '2024-07-11', '2024-07-25', '2024-08-08', '2024-09-12', '2024-09-26', '2024-10-10', '2024-10-24', '2024-11-14', '2024-11-21', '2024-12-12', '2024-12-19', '2025-01-23', '2025-02-13', '2025-02-27', '2025-03-13', '2025-03-27', '2025-04-10']\n"
     ]
    }
   ],
   "source": [
    "# Count files and determine which meetings have supplemental-docs.pdf\n",
    "\n",
    "file_count = 0\n",
    "supp_doc_dirs = []\n",
    "years = sorted([d.name for d in DATA_DIR.iterdir() if d.is_dir()])\n",
    "for year in years:\n",
    "    path = Path(f'../../raw_data/cpc/{year}')\n",
    "    dates = sorted([d.name for d in path.iterdir() if d.is_dir()])\n",
    "    for date in dates:\n",
    "        path = Path(f'../../raw_data/cpc/{year}/{date}')\n",
    "        files = [f.name for f in path.iterdir()]\n",
    "        file_count += len(files)\n",
    "        if 'supplemental-docs.pdf' in files:\n",
    "            supp_doc_dirs.append(date)\n",
    "\n",
    "print(f'Files: {file_count}')\n",
    "print(supp_doc_dirs)"
   ]
  },
  {
   "cell_type": "code",
   "execution_count": 3,
   "id": "32a40142-d966-4eda-8d9b-3b18c639dfbd",
   "metadata": {},
   "outputs": [
    {
     "data": {
      "text/plain": [
       "<matplotlib.collections.PathCollection at 0x12c5ee700>"
      ]
     },
     "execution_count": 3,
     "metadata": {},
     "output_type": "execute_result"
    },
    {
     "data": {
      "image/png": "[encoded data removed]",
      "text/plain": [
       "<Figure size 640x480 with 1 Axes>"
      ]
     },
     "metadata": {},
     "output_type": "display_data"
    }
   ],
   "source": [
    "# check file size over time for supp docs\n",
    "dates = []\n",
    "sizes = []\n",
    "for d in supp_doc_dirs:\n",
    "    y = d[0:4]\n",
    "    dates.append(pd.to_datetime(d))\n",
    "    size = os.path.getsize(f'../../raw_data/cpc/{y}/{d}/supplemental-docs.pdf')\n",
    "    sizes.append(size)\n",
    "plt.scatter(dates, sizes)"
   ]
  },
  {
   "cell_type": "code",
   "execution_count": 6,
   "id": "d1c3b2db-7365-41dc-8426-7cdc73bb9a87",
   "metadata": {},
   "outputs": [
    {
     "data": {
      "text/html": [
       "<div>\n",
       "<style scoped>\n",
       "    .dataframe tbody tr th:only-of-type {\n",
       "        vertical-align: middle;\n",
       "    }\n",
       "\n",
       "    .dataframe tbody tr th {\n",
       "        vertical-align: top;\n",
       "    }\n",
       "\n",
       "    .dataframe thead th {\n",
       "        text-align: right;\n",
       "    }\n",
       "</style>\n",
       "<table border=\"1\" class=\"dataframe\">\n",
       "  <thead>\n",
       "    <tr style=\"text-align: right;\">\n",
       "      <th></th>\n",
       "      <th>date</th>\n",
       "      <th>size</th>\n",
       "    </tr>\n",
       "  </thead>\n",
       "  <tbody>\n",
       "    <tr>\n",
       "      <th>105</th>\n",
       "      <td>2022-06-23</td>\n",
       "      <td>139016535</td>\n",
       "    </tr>\n",
       "    <tr>\n",
       "      <th>100</th>\n",
       "      <td>2022-04-28</td>\n",
       "      <td>100461722</td>\n",
       "    </tr>\n",
       "    <tr>\n",
       "      <th>163</th>\n",
       "      <td>2025-03-13</td>\n",
       "      <td>89966514</td>\n",
       "    </tr>\n",
       "    <tr>\n",
       "      <th>153</th>\n",
       "      <td>2024-09-26</td>\n",
       "      <td>87887831</td>\n",
       "    </tr>\n",
       "    <tr>\n",
       "      <th>126</th>\n",
       "      <td>2023-06-08</td>\n",
       "      <td>73254779</td>\n",
       "    </tr>\n",
       "    <tr>\n",
       "      <th>...</th>\n",
       "      <td>...</td>\n",
       "      <td>...</td>\n",
       "    </tr>\n",
       "    <tr>\n",
       "      <th>135</th>\n",
       "      <td>2023-11-02</td>\n",
       "      <td>557766</td>\n",
       "    </tr>\n",
       "    <tr>\n",
       "      <th>84</th>\n",
       "      <td>2021-09-30</td>\n",
       "      <td>432693</td>\n",
       "    </tr>\n",
       "    <tr>\n",
       "      <th>83</th>\n",
       "      <td>2021-09-23</td>\n",
       "      <td>432693</td>\n",
       "    </tr>\n",
       "    <tr>\n",
       "      <th>97</th>\n",
       "      <td>2022-03-17</td>\n",
       "      <td>383524</td>\n",
       "    </tr>\n",
       "    <tr>\n",
       "      <th>142</th>\n",
       "      <td>2024-03-14</td>\n",
       "      <td>183383</td>\n",
       "    </tr>\n",
       "  </tbody>\n",
       "</table>\n",
       "<p>166 rows × 2 columns</p>\n",
       "</div>"
      ],
      "text/plain": [
       "          date       size\n",
       "105 2022-06-23  139016535\n",
       "100 2022-04-28  100461722\n",
       "163 2025-03-13   89966514\n",
       "153 2024-09-26   87887831\n",
       "126 2023-06-08   73254779\n",
       "..         ...        ...\n",
       "135 2023-11-02     557766\n",
       "84  2021-09-30     432693\n",
       "83  2021-09-23     432693\n",
       "97  2022-03-17     383524\n",
       "142 2024-03-14     183383\n",
       "\n",
       "[166 rows x 2 columns]"
      ]
     },
     "execution_count": 6,
     "metadata": {},
     "output_type": "execute_result"
    }
   ],
   "source": [
    "df = pd.DataFrame({'date':dates, 'size':sizes})\n",
    "df.sort_values(by='size', ascending=False)"
   ]
  }
 ],
 "metadata": {
  "kernelspec": {
   "display_name": "Python 3 (ipykernel)",
   "language": "python",
   "name": "python3"
  },
  "language_info": {
   "codemirror_mode": {
    "name": "ipython",
    "version": 3
   },
   "file_extension": ".py",
   "mimetype": "text/x-python",
   "name": "python",
   "nbconvert_exporter": "python",
   "pygments_lexer": "ipython3",
   "version": "3.9.6"
  }
 },
 "nbformat": 4,
 "nbformat_minor": 5
}

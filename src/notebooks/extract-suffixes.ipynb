{
 "cells": [
  {
   "cell_type": "code",
   "execution_count": 11,
   "id": "453d2659-707e-4355-83cb-7c8f5734c52d",
   "metadata": {},
   "outputs": [],
   "source": [
    "import os\n",
    "import sys\n",
    "import time\n",
    "import yaml\n",
    "import pandas as pd\n",
    "import numpy as np\n",
    "import re\n",
    "\n",
    "with open('../../config.local.yaml', 'r') as f:\n",
    "    local_config = yaml.safe_load(f)\n",
    "\n",
    "LOCAL_PATH = local_config['LOCAL_PATH']\n",
    "\n",
    "sys.path.append(os.path.join(LOCAL_PATH, \"src/python\"))\n",
    "\n",
    "import data_tools as dt\n",
    "from utils import parse_casenum\n",
    "\n",
    "from matplotlib import pyplot as plt\n",
    "from sklearn.linear_model import LogisticRegression\n",
    "from IPython.core.display import HTML\n",
    "from sklearn.linear_model import LogisticRegression\n",
    "import statsmodels.api as sm\n",
    "from stargazer.stargazer import Stargazer\n",
    "\n",
    "rng = np.random.default_rng(12898)\n",
    "\n"
   ]
  },
  {
   "cell_type": "code",
   "execution_count": 12,
   "id": "2065f71b-2cdf-482a-bad6-aac9611ce725",
   "metadata": {},
   "outputs": [],
   "source": [
    "dfm = dt.get_minutes(verbose=False)"
   ]
  },
  {
   "cell_type": "code",
   "execution_count": null,
   "id": "ee00476b",
   "metadata": {},
   "outputs": [],
   "source": [
    "sfx_df = {}\n",
    "for idx, row in dfm.iterrows():\n",
    "    title = row['title']\n",
    "    parsed_casenum = parse_casenum(title)\n",
    "    suffixes = parsed_casenum['suffixes']\n",
    "    for sfx in suffixes:\n",
    "        if sfx not in sfx_df:\n",
    "            sfx_df[sfx] = 0\n",
    "        sfx_df[sfx] += 1\n",
    "sfx_df = pd.DataFrame.from_dict(sfx_df, orient='index', columns=['count'])\n",
    "sfx_df = sfx_df.sort_values('count', ascending=False)\n",
    "sfx_df.to_csv(\n",
    "    os.path.join(LOCAL_PATH, 'intermediate_data/cpc', 'case_suffixes.csv'), \n",
    "    header=True, \n",
    "    index=False\n",
    ")"
   ]
  }
 ],
 "metadata": {
  "kernelspec": {
   "display_name": "Python 3",
   "language": "python",
   "name": "python3"
  },
  "language_info": {
   "codemirror_mode": {
    "name": "ipython",
    "version": 3
   },
   "file_extension": ".py",
   "mimetype": "text/x-python",
   "name": "python",
   "nbconvert_exporter": "python",
   "pygments_lexer": "ipython3",
   "version": "3.9.6"
  }
 },
 "nbformat": 4,
 "nbformat_minor": 5
}

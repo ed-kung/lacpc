{
 "cells": [
  {
   "cell_type": "code",
   "execution_count": 13,
   "id": "ff5255bf-e7dd-408b-9164-275b1a015a75",
   "metadata": {},
   "outputs": [
    {
     "name": "stdout",
     "output_type": "stream",
     "text": [
      "{[{agenda.AgendaLink}]}\n",
      "{[{agenda.AddDocsLink}]}\n",
      "{[{agenda.AudioLink}]}\n",
      "{[{agenda.MinutesLink}]}\n",
      "{[{board.AgendaLink}]}\n",
      "{[{hearing.AgendaLink}]}\n",
      "{[{hearing.HearingLink}]}\n"
     ]
    }
   ],
   "source": [
    "# the links to what we want are within a table, so tr tags. \n",
    "\n",
    "import requests\n",
    "from bs4 import BeautifulSoup\n",
    "\n",
    "url = 'https://planning.lacity.gov/about/commissions-boards-hearings#commissions'\n",
    "html_page = requests.get(url)\n",
    "soup = BeautifulSoup(html_page.text, 'html.parser')\n",
    "\n",
    "tables = soup.find_all('table')\n",
    "\n",
    "for table in tables:\n",
    "    rows = table.find_all('tr')\n",
    "    for row in rows:\n",
    "        data = row.find_all('td')\n",
    "        for cell in data:\n",
    "            link = cell.find('a')\n",
    "            if link and link.has_attr('href'):\n",
    "                print(link['href'])\n",
    "\n",
    "        \n",
    "\n"
   ]
  },
  {
   "cell_type": "code",
   "execution_count": null,
   "id": "a3cd115e-749f-402f-afbb-f12a7c3d85a5",
   "metadata": {},
   "outputs": [],
   "source": []
  },
  {
   "cell_type": "code",
   "execution_count": null,
   "id": "9f538a73-66a9-4142-ae5c-cb6dc9504dae",
   "metadata": {},
   "outputs": [],
   "source": []
  }
 ],
 "metadata": {
  "kernelspec": {
   "display_name": "Python 3 (ipykernel)",
   "language": "python",
   "name": "python3"
  },
  "language_info": {
   "codemirror_mode": {
    "name": "ipython",
    "version": 3
   },
   "file_extension": ".py",
   "mimetype": "text/x-python",
   "name": "python",
   "nbconvert_exporter": "python",
   "pygments_lexer": "ipython3",
   "version": "3.12.9"
  }
 },
 "nbformat": 4,
 "nbformat_minor": 5
}

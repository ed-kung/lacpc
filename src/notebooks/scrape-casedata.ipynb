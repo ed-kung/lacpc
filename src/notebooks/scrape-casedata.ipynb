{
 "cells": [
  {
   "cell_type": "code",
   "execution_count": 1,
   "id": "453d2659-707e-4355-83cb-7c8f5734c52d",
   "metadata": {},
   "outputs": [],
   "source": [
    "import os\n",
    "import sys\n",
    "import time\n",
    "import yaml\n",
    "import pandas as pd\n",
    "import numpy as np\n",
    "import json\n",
    "import pickle\n",
    "\n",
    "with open('../../config.local.yaml', 'r') as f:\n",
    "    local_config = yaml.safe_load(f)\n",
    "\n",
    "LOCAL_PATH = local_config['LOCAL_PATH']\n",
    "\n",
    "sys.path.append(os.path.join(LOCAL_PATH, \"src/python\"))\n",
    "\n",
    "from scrapers import request_url_text\n",
    "from utils import canonicalize_casenum, is_casenum\n",
    "import data_tools as dt\n",
    "\n",
    "rng = np.random.default_rng(20250611)\n",
    "\n",
    "OVERWRITE = False\n",
    "VERBOSE = True\n",
    "WAIT_MIN = 1\n",
    "WAIT_MAX = 2\n",
    "\n",
    "SEARCH_URL = \"https://planning.lacity.org/pdiscaseinfo/api/Service/SearchCaseNumber\"\n",
    "INFO_URL = \"https://planning.lacity.org/pdiscaseinfo/api/Service/GetCaseInfoDataEncoded\"\n",
    "\n",
    "TEMPFILE = \"temp.pkl\""
   ]
  },
  {
   "cell_type": "code",
   "execution_count": 2,
   "id": "b2223c3a-d0a0-4333-80c8-39f21b2aa255",
   "metadata": {},
   "outputs": [],
   "source": [
    "def get_id_from_caseno(caseno):\n",
    "    # get PDIS internal caseid from planning dept case number\n",
    "    caseno1 = caseno\n",
    "    caseno2 = '-'.join(caseno.split('-')[0:3])\n",
    "    caseno3 = canonicalize_casenum(caseno)\n",
    "    try_urls = [\n",
    "        f\"{SEARCH_URL}?caseNo={caseno1}\",\n",
    "        f\"{SEARCH_URL}?caseNo={caseno2}\",\n",
    "        f\"{SEARCH_URL}?caseNo={caseno3}\"\n",
    "    ]\n",
    "    for url in try_urls:\n",
    "        response = request_url_text(\n",
    "            url, overwrite=OVERWRITE, verbose=VERBOSE, wait=rng.uniform(WAIT_MIN, WAIT_MAX)\n",
    "        )\n",
    "        j = json.loads(response)\n",
    "        for item in j:\n",
    "            if canonicalize_casenum(caseno)==canonicalize_casenum(item['caseNbr']):\n",
    "                return item['encodedCaseId']\n",
    "    print(f\"Warning: failed to retrieve data for {caseno}\")\n",
    "    return None"
   ]
  },
  {
   "cell_type": "code",
   "execution_count": 3,
   "id": "d0c0f922-a098-4138-a61e-3e2da5125289",
   "metadata": {},
   "outputs": [],
   "source": [
    "def get_case_info(caseno):\n",
    "    caseid = get_id_from_caseno(caseno)\n",
    "    url = f\"{INFO_URL}?encodedCaseId={caseid}\"\n",
    "    response = request_url_text(\n",
    "        url, overwrite=OVERWRITE, verbose=VERBOSE, wait=rng.uniform(WAIT_MIN, WAIT_MAX)\n",
    "    )\n",
    "    if response is None:\n",
    "        return None\n",
    "    j = json.loads(response)\n",
    "    if (j is None) or (len(j)==0) or (j['caseNbr']==None):\n",
    "        return None\n",
    "    return j"
   ]
  },
  {
   "cell_type": "code",
   "execution_count": 4,
   "id": "d934abc7-67cd-4b4b-95d0-7fc958d48b44",
   "metadata": {},
   "outputs": [],
   "source": [
    "df = dt.get_minutes(verbose=False)"
   ]
  },
  {
   "cell_type": "code",
   "execution_count": 5,
   "id": "d34ae5e9-0ace-40b5-8043-c89e2e053847",
   "metadata": {},
   "outputs": [
    {
     "data": {
      "text/plain": [
       "1124"
      ]
     },
     "execution_count": 5,
     "metadata": {},
     "output_type": "execute_result"
    }
   ],
   "source": [
    "case_list = []\n",
    "for idx, row in df.iterrows():\n",
    "    title = row['title']\n",
    "    cases = row['related_cases'].split(',')\n",
    "    for caseno in [title]+cases:\n",
    "        if is_casenum(caseno.strip()):\n",
    "            case_list.append(caseno.strip())\n",
    "case_list = sorted(list(set(case_list)))\n",
    "len(case_list)"
   ]
  },
  {
   "cell_type": "code",
   "execution_count": 6,
   "id": "9469facb-c98d-4926-ba01-78648fccec9f",
   "metadata": {},
   "outputs": [
    {
     "name": "stdout",
     "output_type": "stream",
     "text": [
      "curr_count = 0\n"
     ]
    }
   ],
   "source": [
    "try:\n",
    "    with open(TEMPFILE, 'rb') as f:\n",
    "        curr_count = pickle.load(f)\n",
    "except:\n",
    "    curr_count = 0\n",
    "print(f\"curr_count = {curr_count}\")"
   ]
  },
  {
   "cell_type": "code",
   "execution_count": 7,
   "id": "e676c1f9-938d-43d8-899a-a70585fb4280",
   "metadata": {},
   "outputs": [
    {
     "name": "stdout",
     "output_type": "stream",
     "text": [
      "Warning: failed to retrieve data for ADM-2018-5752-DB-SIP\n",
      "Warning: failed to retrieve data for ADM-2021-10304-DB-HCA-1A\n",
      "Warning: failed to retrieve data for ADM-2021-3739-DB-HCA-1A\n",
      "Warning: failed to retrieve data for ADM-2022-6793-DB-HCA-1A\n",
      "Warning: failed to retrieve data for ADM-2023-5502-DB-HCA-1A\n",
      "Warning: failed to retrieve data for ADM-2023-6116-SLD\n",
      "Warning: failed to retrieve data for ENV-2017-724-CE\n",
      "Warning: failed to retrieve data for ENV-2019-6170-CE\n",
      "Warning: failed to retrieve data for ENV-2020-6800-CE\n",
      "Warning: failed to retrieve data for ENV-2022-8256-CE\n",
      "Warning: failed to retrieve data for ENV-2024-2013-622-EIR\n",
      "curr_count = 1124\n"
     ]
    }
   ],
   "source": [
    "out_df = []\n",
    "count = 0\n",
    "for case in case_list:\n",
    "    j = get_case_info(case)\n",
    "    count+=1\n",
    "    if j is not None:\n",
    "        j['casenum'] = case\n",
    "        out_df.append(j)\n",
    "    if count>(curr_count+2000):\n",
    "        break\n",
    "\n",
    "curr_count = count\n",
    "with open(TEMPFILE, 'wb') as f:\n",
    "    pickle.dump(curr_count, f)\n",
    "print(f\"curr_count = {curr_count}\")"
   ]
  },
  {
   "cell_type": "code",
   "execution_count": 8,
   "id": "02a4a63a-afbc-4402-9376-b016ab9aebe7",
   "metadata": {},
   "outputs": [
    {
     "data": {
      "text/plain": [
       "1113"
      ]
     },
     "execution_count": 8,
     "metadata": {},
     "output_type": "execute_result"
    }
   ],
   "source": [
    "out_df = pd.DataFrame.from_dict(out_df)\n",
    "out_df.to_pickle(os.path.join(LOCAL_PATH, \"intermediate_data/cpc/case-data.pkl\"))\n",
    "len(out_df)"
   ]
  },
  {
   "cell_type": "code",
   "execution_count": 9,
   "id": "58a26ea3-9647-4110-84a9-4ccb1f1896ff",
   "metadata": {},
   "outputs": [],
   "source": [
    "# Ensure the case numbers line up\n",
    "out_df['bad'] = False\n",
    "for idx, row in out_df.iterrows():\n",
    "    caseNbr = row['caseNbr']\n",
    "    casenum = row['casenum']\n",
    "    if canonicalize_casenum(caseNbr)!=canonicalize_casenum(casenum):\n",
    "        out_df.loc[idx, 'bad'] = True\n",
    "assert out_df['bad'].sum()==0"
   ]
  },
  {
   "cell_type": "code",
   "execution_count": 10,
   "id": "a824f644-d532-48be-bdcf-65759a018674",
   "metadata": {
    "scrolled": true
   },
   "outputs": [
    {
     "data": {
      "text/html": [
       "<div>\n",
       "<style scoped>\n",
       "    .dataframe tbody tr th:only-of-type {\n",
       "        vertical-align: middle;\n",
       "    }\n",
       "\n",
       "    .dataframe tbody tr th {\n",
       "        vertical-align: top;\n",
       "    }\n",
       "\n",
       "    .dataframe thead th {\n",
       "        text-align: right;\n",
       "    }\n",
       "</style>\n",
       "<table border=\"1\" class=\"dataframe\">\n",
       "  <thead>\n",
       "    <tr style=\"text-align: right;\">\n",
       "      <th></th>\n",
       "      <th>date</th>\n",
       "      <th>item_no</th>\n",
       "      <th>title</th>\n",
       "      <th>related_cases</th>\n",
       "      <th>caseNbr</th>\n",
       "    </tr>\n",
       "  </thead>\n",
       "  <tbody>\n",
       "    <tr>\n",
       "      <th>83</th>\n",
       "      <td>2019-01-10</td>\n",
       "      <td>6</td>\n",
       "      <td>ADM-2018-5752-DB-SIP</td>\n",
       "      <td>ADM-2018-5752-DB-SIP</td>\n",
       "      <td>NaN</td>\n",
       "    </tr>\n",
       "    <tr>\n",
       "      <th>415</th>\n",
       "      <td>2021-12-09</td>\n",
       "      <td>10</td>\n",
       "      <td>ADM-2021-3739-DB-HCA-1A</td>\n",
       "      <td>ADM-2021-3739-DB-HCA-1A</td>\n",
       "      <td>NaN</td>\n",
       "    </tr>\n",
       "    <tr>\n",
       "      <th>478</th>\n",
       "      <td>2022-07-14</td>\n",
       "      <td>8</td>\n",
       "      <td>ADM-2021-10304-DB-HCA-1A</td>\n",
       "      <td>ADM-2021-10304-DB-HCA-1A</td>\n",
       "      <td>NaN</td>\n",
       "    </tr>\n",
       "    <tr>\n",
       "      <th>553</th>\n",
       "      <td>2023-04-27</td>\n",
       "      <td>6</td>\n",
       "      <td>ADM-2022-6793-DB-HCA-1A</td>\n",
       "      <td>ADM-2022-6793-DB-HCA-1A</td>\n",
       "      <td>NaN</td>\n",
       "    </tr>\n",
       "    <tr>\n",
       "      <th>643</th>\n",
       "      <td>2024-02-22</td>\n",
       "      <td>8</td>\n",
       "      <td>ADM-2023-5502-DB-HCA-1A</td>\n",
       "      <td>ADM-2023-5502-DB-HCA-1A</td>\n",
       "      <td>NaN</td>\n",
       "    </tr>\n",
       "  </tbody>\n",
       "</table>\n",
       "</div>"
      ],
      "text/plain": [
       "           date item_no                     title             related_cases  \\\n",
       "83   2019-01-10       6      ADM-2018-5752-DB-SIP      ADM-2018-5752-DB-SIP   \n",
       "415  2021-12-09      10   ADM-2021-3739-DB-HCA-1A   ADM-2021-3739-DB-HCA-1A   \n",
       "478  2022-07-14       8  ADM-2021-10304-DB-HCA-1A  ADM-2021-10304-DB-HCA-1A   \n",
       "553  2023-04-27       6   ADM-2022-6793-DB-HCA-1A   ADM-2022-6793-DB-HCA-1A   \n",
       "643  2024-02-22       8   ADM-2023-5502-DB-HCA-1A   ADM-2023-5502-DB-HCA-1A   \n",
       "\n",
       "    caseNbr  \n",
       "83      NaN  \n",
       "415     NaN  \n",
       "478     NaN  \n",
       "553     NaN  \n",
       "643     NaN  "
      ]
     },
     "execution_count": 10,
     "metadata": {},
     "output_type": "execute_result"
    }
   ],
   "source": [
    "# List agenda items where the case number wasn't found during scraping\n",
    "df2 = df.merge(\n",
    "    out_df[['caseNbr','currentCaseStatus','casenum']],\n",
    "    left_on='title',\n",
    "    right_on='casenum',\n",
    "    how='left'\n",
    ")\n",
    "idx = df2['caseNbr'].isna()\n",
    "df2.loc[idx, ['date', 'item_no', 'title', 'related_cases', 'caseNbr']]"
   ]
  },
  {
   "cell_type": "code",
   "execution_count": 14,
   "id": "b03db790-e459-4190-b19c-6cd3534c11ac",
   "metadata": {},
   "outputs": [
    {
     "data": {
      "text/plain": [
       "primaryCnclDistNbr\n",
       "NA           264\n",
       "CD 13        143\n",
       "CD 14        105\n",
       "CD 5          89\n",
       "CD 11         72\n",
       "CD 10         63\n",
       "CD 4          60\n",
       "CD 2          49\n",
       "CD 1          47\n",
       "CD 3          35\n",
       "CD 12         33\n",
       "CD 6          31\n",
       "CD 8          30\n",
       "CD 9          30\n",
       "CD 7          26\n",
       "CD 15         20\n",
       "MULTIPLE       4\n",
       "CITYWIDE       3\n",
       "CD 4,CD 5      3\n",
       "CITYW          3\n",
       "CD 8,CD 9      3\n",
       "Name: count, dtype: int64"
      ]
     },
     "execution_count": 14,
     "metadata": {},
     "output_type": "execute_result"
    }
   ],
   "source": [
    "out_df['filing_date'] = pd.to_datetime(out_df['filingDt'], errors='coerce')\n",
    "out_df['primaryCnclDistNbr'].fillna('NA').value_counts()"
   ]
  }
 ],
 "metadata": {
  "kernelspec": {
   "display_name": "Python 3 (ipykernel)",
   "language": "python",
   "name": "python3"
  },
  "language_info": {
   "codemirror_mode": {
    "name": "ipython",
    "version": 3
   },
   "file_extension": ".py",
   "mimetype": "text/x-python",
   "name": "python",
   "nbconvert_exporter": "python",
   "pygments_lexer": "ipython3",
   "version": "3.12.10"
  }
 },
 "nbformat": 4,
 "nbformat_minor": 5
}

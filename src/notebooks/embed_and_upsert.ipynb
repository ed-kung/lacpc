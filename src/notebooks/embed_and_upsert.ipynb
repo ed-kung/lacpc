{
 "cells": [
  {
   "cell_type": "code",
   "execution_count": 1,
   "id": "98419a4b-6134-45e2-a1db-1db7ec293985",
   "metadata": {},
   "outputs": [],
   "source": [
    "import os\n",
    "import sys\n",
    "sys.path.append('../python')\n",
    "\n",
    "import pandas as pd\n",
    "import numpy as np\n",
    "import yaml\n",
    "import time\n",
    "import json\n",
    "import ast\n",
    "\n",
    "from matplotlib import pyplot as plt\n",
    "\n",
    "import api\n",
    "import data_tools\n",
    "import text_tools\n"
   ]
  },
  {
   "cell_type": "markdown",
   "id": "8c69d63d-b047-4dbb-af43-35de66323b1e",
   "metadata": {},
   "source": [
    "## LA Planning Department Cases"
   ]
  },
  {
   "cell_type": "code",
   "execution_count": 2,
   "id": "6a5e633f-4541-48e2-a86c-0f5cd7023150",
   "metadata": {},
   "outputs": [],
   "source": [
    "namespace = 'la_planning_dept_cases_1'\n",
    "df = data_tools.get_la_planning_dept_cases(sheet=1)\n",
    "df = df.fillna('')"
   ]
  },
  {
   "cell_type": "code",
   "execution_count": 3,
   "id": "6fe9f6a5-364d-43b3-adce-87fc8d7b9b56",
   "metadata": {},
   "outputs": [],
   "source": [
    "data_to_upsert = df[[\n",
    "    'Case Number','Address','Area Planning Commission','Plan Area','Council District',\n",
    "    'Neighborhood Council','Assigned To','Processing Unit','Special Groups','Case Action',\n",
    "    'Project Description','Requested Entitlement','text'\n",
    "]]"
   ]
  },
  {
   "cell_type": "code",
   "execution_count": 4,
   "id": "61003644-020f-4fc8-a5f2-c03f441e742e",
   "metadata": {},
   "outputs": [
    {
     "name": "stdout",
     "output_type": "stream",
     "text": [
      "0... 128... 256... 384... 512... 640... 768... 896... 1024... 1152... 1280... 1408... 1536... 1664... 1792... 1920... 2048... 2176... 2304... 2432... 2560... 2688... 2816... 2944... 3072... 3200... 3328... 3456... 3584... 3712... 3840... 3968... 4096... 4224... 4352... 4480... 4608... 4736... 4864... 4992... 5120... 5248... 5376... 5504... 5632... 5760... 5888... 6016... 6144... 6272... 6400... 6528... {'dimension': 1536,\n",
      " 'index_fullness': 0.0,\n",
      " 'namespaces': {'la_municipal_code': {'vector_count': 7967},\n",
      "                'la_planning_dept_cases': {'vector_count': 6366},\n",
      "                'la_planning_dept_cases_1': {'vector_count': 6366}},\n",
      " 'total_vector_count': 20699}\n"
     ]
    }
   ],
   "source": [
    "api.embed_and_upsert(data_to_upsert, namespace=namespace)"
   ]
  },
  {
   "cell_type": "code",
   "execution_count": 5,
   "id": "8dd086cc-95ec-43a8-ba03-2ccbbc73b62c",
   "metadata": {},
   "outputs": [],
   "source": [
    "namespace = 'la_planning_dept_cases_0'\n",
    "df = data_tools.get_la_planning_dept_cases(sheet=0)\n",
    "df = df.fillna('')"
   ]
  },
  {
   "cell_type": "code",
   "execution_count": 6,
   "id": "d6caad4a-5b67-4c89-b9c7-e3dce41668a2",
   "metadata": {},
   "outputs": [],
   "source": [
    "data_to_upsert = df[[\n",
    "    'Case Number','Address','Area Planning Commission','Plan Area','Council District',\n",
    "    'Neighborhood Council','Case Action','Project Description','Requested Entitlement','text'\n",
    "]]"
   ]
  },
  {
   "cell_type": "code",
   "execution_count": 7,
   "id": "2d3fa4da-22b8-4503-b61d-511b82555b73",
   "metadata": {},
   "outputs": [
    {
     "name": "stdout",
     "output_type": "stream",
     "text": [
      "0... 128... 256... 384... 512... 640... 768... 896... 1024... 1152... 1280... 1408... 1536... 1664... 1792... 1920... 2048... 2176... 2304... 2432... 2560... 2688... 2816... 2944... 3072... 3200... 3328... 3456... 3584... 3712... 3840... 3968... 4096... 4224... 4352... 4480... 4608... 4736... 4864... 4992... 5120... 5248... 5376... 5504... 5632... 5760... 5888... 6016... 6144... 6272... 6400... 6528... 6656... 6784... 6912... 7040... 7168... 7296... 7424... 7552... 7680... 7808... 7936... 8064... {'dimension': 1536,\n",
      " 'index_fullness': 0.0,\n",
      " 'namespaces': {'la_municipal_code': {'vector_count': 7967},\n",
      "                'la_planning_dept_cases': {'vector_count': 6366},\n",
      "                'la_planning_dept_cases_0': {'vector_count': 7763},\n",
      "                'la_planning_dept_cases_1': {'vector_count': 6366}},\n",
      " 'total_vector_count': 28462}\n"
     ]
    }
   ],
   "source": [
    "api.embed_and_upsert(data_to_upsert, namespace=namespace)"
   ]
  },
  {
   "cell_type": "markdown",
   "id": "e3d2b5a3-0ed3-4166-b853-d99ed61a7178",
   "metadata": {},
   "source": [
    "## LA Municipal Code Passage Chunks"
   ]
  },
  {
   "cell_type": "code",
   "execution_count": 8,
   "id": "ca66e469-a85a-4e41-9146-cb5e86859dd6",
   "metadata": {},
   "outputs": [],
   "source": [
    "namespace = 'la_municipal_code'\n",
    "df = pd.read_pickle(\"../../intermediate_data/lamunicipalcode_passagechunks.pkl\")\n",
    "df = df.loc[ df['text'].str.len()<9000] # drop if text size too large; only 2 outlier cases\n",
    "df = df.reset_index()"
   ]
  },
  {
   "cell_type": "code",
   "execution_count": 9,
   "id": "c1cc1bf9-9b0b-4e52-9623-746e1f597b77",
   "metadata": {},
   "outputs": [],
   "source": [
    "data_to_upsert = df[[\n",
    "    'id','doc_id','ids','chapter_id','article_id','section_id','item_type','text'\n",
    "]]"
   ]
  },
  {
   "cell_type": "code",
   "execution_count": 10,
   "id": "ccb04350-2aa6-4ed0-8c64-d634073b23c7",
   "metadata": {},
   "outputs": [],
   "source": [
    "#api.embed_and_upsert(data_to_upsert, namespace=namespace)"
   ]
  }
 ],
 "metadata": {
  "kernelspec": {
   "display_name": "Python 3 (ipykernel)",
   "language": "python",
   "name": "python3"
  },
  "language_info": {
   "codemirror_mode": {
    "name": "ipython",
    "version": 3
   },
   "file_extension": ".py",
   "mimetype": "text/x-python",
   "name": "python",
   "nbconvert_exporter": "python",
   "pygments_lexer": "ipython3",
   "version": "3.10.6"
  }
 },
 "nbformat": 4,
 "nbformat_minor": 5
}

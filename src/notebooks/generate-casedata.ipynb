{
 "cells": [
  {
   "cell_type": "code",
   "execution_count": 1,
   "id": "453d2659-707e-4355-83cb-7c8f5734c52d",
   "metadata": {},
   "outputs": [
    {
     "name": "stderr",
     "output_type": "stream",
     "text": [
      "/Users/ekung/Library/Python/3.9/lib/python/site-packages/urllib3/__init__.py:35: NotOpenSSLWarning: urllib3 v2 only supports OpenSSL 1.1.1+, currently the 'ssl' module is compiled with 'LibreSSL 2.8.3'. See: https://github.com/urllib3/urllib3/issues/3020\n",
      "  warnings.warn(\n",
      "/Users/ekung/Library/Python/3.9/lib/python/site-packages/pinecone/data/index.py:1: TqdmWarning: IProgress not found. Please update jupyter and ipywidgets. See https://ipywidgets.readthedocs.io/en/stable/user_install.html\n",
      "  from tqdm.autonotebook import tqdm\n"
     ]
    }
   ],
   "source": [
    "import os\n",
    "import sys\n",
    "import re\n",
    "from pathlib import Path\n",
    "import time\n",
    "import warnings\n",
    "import logging\n",
    "import pandas as pd\n",
    "import numpy as np\n",
    "import pickle\n",
    "import json\n",
    "from matplotlib import pyplot as plt\n",
    "\n",
    "sys.path.append('../python')\n",
    "\n",
    "import api\n",
    "import data_tools as dt\n",
    "import text_tools as tt\n",
    "\n",
    "rng = np.random.default_rng(12898)\n"
   ]
  },
  {
   "cell_type": "code",
   "execution_count": 2,
   "id": "d934abc7-67cd-4b4b-95d0-7fc958d48b44",
   "metadata": {},
   "outputs": [
    {
     "name": "stdout",
     "output_type": "stream",
     "text": [
      "\n"
     ]
    }
   ],
   "source": [
    "df = dt.get_minutes(verbose=False)"
   ]
  },
  {
   "cell_type": "code",
   "execution_count": 3,
   "id": "d34ae5e9-0ace-40b5-8043-c89e2e053847",
   "metadata": {},
   "outputs": [],
   "source": [
    "case_list = []\n",
    "for idx, row in df.iterrows():\n",
    "    title = row['title']\n",
    "    cases = row['related_cases'].split(',')\n",
    "    for caseno in [title]+cases:\n",
    "        if tt.is_casenum(caseno.strip()):\n",
    "            case_list.append(caseno.strip())\n",
    "case_list = sorted(list(set(case_list)))"
   ]
  },
  {
   "cell_type": "code",
   "execution_count": 4,
   "id": "e676c1f9-938d-43d8-899a-a70585fb4280",
   "metadata": {},
   "outputs": [
    {
     "name": "stdout",
     "output_type": "stream",
     "text": [
      "Warning: failed to retrieve data for ADM-2018-5752-DB-SIP\n",
      "Warning: failed to retrieve data for ADM-2021-10304-DB-HCA-1A\n",
      "Warning: failed to retrieve data for ADM-2021-3739-DB-HCA-1A\n",
      "Warning: failed to retrieve data for ADM-2022-6793-DB-HCA-1A\n",
      "Warning: failed to retrieve data for ADM-2023-5502-DB-HCA-1A\n",
      "Warning: failed to retrieve data for ADM-2023-6116-SLD\n",
      "Warning: failed to retrieve data for ENV-2017-724-CE\n",
      "Warning: failed to retrieve data for ENV-2019-6170-CE\n",
      "Warning: failed to retrieve data for ENV-2020-6800-CE\n",
      "Warning: failed to retrieve data for ENV-2022-8256-CE\n"
     ]
    }
   ],
   "source": [
    "out_df = []\n",
    "count=0\n",
    "for case in case_list:\n",
    "    j = api.get_case_info(case, verbose=True, wait_time=2)\n",
    "    if j is not None:\n",
    "        j['casenum'] = case\n",
    "        out_df.append(j)\n",
    "        count+=1\n",
    "\n",
    "out_df = pd.DataFrame.from_dict(out_df)\n",
    "out_df.to_pickle(\"../../intermediate_data/cpc/case-data.pkl\")    "
   ]
  },
  {
   "cell_type": "code",
   "execution_count": 7,
   "id": "85ad06c2-3b88-41c3-a798-933a8ada5ebd",
   "metadata": {},
   "outputs": [],
   "source": [
    "# Ensure the case numbers line up\n",
    "out_df['bad'] = False\n",
    "for idx, row in out_df.iterrows():\n",
    "    caseNbr = row['caseNbr']\n",
    "    casenum = row['casenum']\n",
    "    if api.canonicalize(caseNbr)!=api.canonicalize(casenum):\n",
    "        out_df.loc[idx, 'bad'] = True\n",
    "        \n",
    "assert out_df['bad'].sum()==0"
   ]
  },
  {
   "cell_type": "code",
   "execution_count": 19,
   "id": "954ef160-12a6-4489-abb6-3ead14d1d8de",
   "metadata": {},
   "outputs": [
    {
     "data": {
      "text/html": [
       "<div>\n",
       "<style scoped>\n",
       "    .dataframe tbody tr th:only-of-type {\n",
       "        vertical-align: middle;\n",
       "    }\n",
       "\n",
       "    .dataframe tbody tr th {\n",
       "        vertical-align: top;\n",
       "    }\n",
       "\n",
       "    .dataframe thead th {\n",
       "        text-align: right;\n",
       "    }\n",
       "</style>\n",
       "<table border=\"1\" class=\"dataframe\">\n",
       "  <thead>\n",
       "    <tr style=\"text-align: right;\">\n",
       "      <th></th>\n",
       "      <th>date</th>\n",
       "      <th>item_no</th>\n",
       "      <th>title</th>\n",
       "      <th>related_cases</th>\n",
       "    </tr>\n",
       "  </thead>\n",
       "  <tbody>\n",
       "    <tr>\n",
       "      <th>83</th>\n",
       "      <td>2019-01-10</td>\n",
       "      <td>6</td>\n",
       "      <td>ADM-2018-5752-DB-SIP</td>\n",
       "      <td>ADM-2018-5752-DB-SIP</td>\n",
       "    </tr>\n",
       "    <tr>\n",
       "      <th>415</th>\n",
       "      <td>2021-12-09</td>\n",
       "      <td>10</td>\n",
       "      <td>ADM-2021-3739-DB-HCA-1A</td>\n",
       "      <td>ADM-2021-3739-DB-HCA-1A</td>\n",
       "    </tr>\n",
       "    <tr>\n",
       "      <th>478</th>\n",
       "      <td>2022-07-14</td>\n",
       "      <td>8</td>\n",
       "      <td>ADM-2021-10304-DB-HCA-1A</td>\n",
       "      <td>ADM-2021-10304-DB-HCA-1A</td>\n",
       "    </tr>\n",
       "    <tr>\n",
       "      <th>553</th>\n",
       "      <td>2023-04-27</td>\n",
       "      <td>6</td>\n",
       "      <td>ADM-2022-6793-DB-HCA-1A</td>\n",
       "      <td>ADM-2022-6793-DB-HCA-1A</td>\n",
       "    </tr>\n",
       "    <tr>\n",
       "      <th>643</th>\n",
       "      <td>2024-02-22</td>\n",
       "      <td>8</td>\n",
       "      <td>ADM-2023-5502-DB-HCA-1A</td>\n",
       "      <td>ADM-2023-5502-DB-HCA-1A</td>\n",
       "    </tr>\n",
       "  </tbody>\n",
       "</table>\n",
       "</div>"
      ],
      "text/plain": [
       "           date item_no                     title             related_cases\n",
       "83   2019-01-10       6      ADM-2018-5752-DB-SIP      ADM-2018-5752-DB-SIP\n",
       "415  2021-12-09      10   ADM-2021-3739-DB-HCA-1A   ADM-2021-3739-DB-HCA-1A\n",
       "478  2022-07-14       8  ADM-2021-10304-DB-HCA-1A  ADM-2021-10304-DB-HCA-1A\n",
       "553  2023-04-27       6   ADM-2022-6793-DB-HCA-1A   ADM-2022-6793-DB-HCA-1A\n",
       "643  2024-02-22       8   ADM-2023-5502-DB-HCA-1A   ADM-2023-5502-DB-HCA-1A"
      ]
     },
     "execution_count": 19,
     "metadata": {},
     "output_type": "execute_result"
    }
   ],
   "source": [
    "# Ensure the agenda items can be found\n",
    "df2 = df.merge(\n",
    "    out_df[['caseNbr','currentCaseStatus','casenum']],\n",
    "    left_on='title',\n",
    "    right_on='casenum',\n",
    "    how='left'\n",
    ")\n",
    "\n",
    "idx = df2['caseNbr'].isna()\n",
    "df2.loc[idx, ['date', 'item_no', 'title', 'related_cases']]"
   ]
  },
  {
   "cell_type": "code",
   "execution_count": 24,
   "id": "5d04b742-881d-4ecb-bc5b-5c3e0a145909",
   "metadata": {},
   "outputs": [],
   "source": [
    "df2['level'] = ''\n",
    "for idx, row in df2.iterrows():\n",
    "    level = row['title'].split('-')[0]\n",
    "    df2.loc[idx,'level'] = level"
   ]
  },
  {
   "cell_type": "code",
   "execution_count": 25,
   "id": "f6f7d8fe-4f92-419b-aecf-04e3e7998a6d",
   "metadata": {},
   "outputs": [
    {
     "data": {
      "text/plain": [
       "level\n",
       "DIR    29\n",
       "VTT    18\n",
       "CPC     1\n",
       "ZA      1\n",
       "AA      1\n",
       "Name: count, dtype: int64"
      ]
     },
     "execution_count": 25,
     "metadata": {},
     "output_type": "execute_result"
    }
   ],
   "source": [
    "idx = (df2['currentCaseStatus']=='DENIED') & (df2['project_result']=='APPROVED')\n",
    "df2.loc[idx, 'level'].value_counts()"
   ]
  },
  {
   "cell_type": "code",
   "execution_count": null,
   "id": "73021766-c07c-4f37-b6a4-09a2480e54d3",
   "metadata": {},
   "outputs": [],
   "source": [
    "# In most of the disagreements between the PDIS data and the AI data, the AI is actually correct\n",
    "# The project was approved, but for some reason the PDIS says the case is DENIED.\n",
    "# I think the PDIS may be referencing the appeal(?)\n",
    "print(df2.loc[idx].sample(1,random_state=329).iloc[0]['prompt'])"
   ]
  }
 ],
 "metadata": {
  "kernelspec": {
   "display_name": "Python 3 (ipykernel)",
   "language": "python",
   "name": "python3"
  },
  "language_info": {
   "codemirror_mode": {
    "name": "ipython",
    "version": 3
   },
   "file_extension": ".py",
   "mimetype": "text/x-python",
   "name": "python",
   "nbconvert_exporter": "python",
   "pygments_lexer": "ipython3",
   "version": "3.9.6"
  }
 },
 "nbformat": 4,
 "nbformat_minor": 5
}

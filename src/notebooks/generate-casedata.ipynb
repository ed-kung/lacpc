{
 "cells": [
  {
   "cell_type": "code",
   "execution_count": 1,
   "id": "453d2659-707e-4355-83cb-7c8f5734c52d",
   "metadata": {},
   "outputs": [
    {
     "name": "stderr",
     "output_type": "stream",
     "text": [
      "/Users/ekung/Library/Python/3.9/lib/python/site-packages/urllib3/__init__.py:35: NotOpenSSLWarning: urllib3 v2 only supports OpenSSL 1.1.1+, currently the 'ssl' module is compiled with 'LibreSSL 2.8.3'. See: https://github.com/urllib3/urllib3/issues/3020\n",
      "  warnings.warn(\n",
      "/Users/ekung/Library/Python/3.9/lib/python/site-packages/pinecone/data/index.py:1: TqdmWarning: IProgress not found. Please update jupyter and ipywidgets. See https://ipywidgets.readthedocs.io/en/stable/user_install.html\n",
      "  from tqdm.autonotebook import tqdm\n"
     ]
    }
   ],
   "source": [
    "import os\n",
    "import sys\n",
    "import re\n",
    "from pathlib import Path\n",
    "import time\n",
    "import warnings\n",
    "import logging\n",
    "import pandas as pd\n",
    "import numpy as np\n",
    "from matplotlib import pyplot as plt\n",
    "\n",
    "sys.path.append('../python')\n",
    "\n",
    "import api\n",
    "import data_tools as dt\n",
    "import text_tools as tt\n",
    "\n",
    "rng = np.random.default_rng(12898)\n"
   ]
  },
  {
   "cell_type": "code",
   "execution_count": 2,
   "id": "d934abc7-67cd-4b4b-95d0-7fc958d48b44",
   "metadata": {},
   "outputs": [
    {
     "name": "stdout",
     "output_type": "stream",
     "text": [
      "\n"
     ]
    }
   ],
   "source": [
    "df = dt.get_minutes(verbose=False)"
   ]
  },
  {
   "cell_type": "code",
   "execution_count": 3,
   "id": "d34ae5e9-0ace-40b5-8043-c89e2e053847",
   "metadata": {},
   "outputs": [],
   "source": [
    "case_list = []\n",
    "for idx, row in df.iterrows():\n",
    "    title = row['title']\n",
    "    cases = row['related_cases'].split(',')\n",
    "    for caseno in [title]+cases:\n",
    "        if tt.is_casenum(caseno.strip()):\n",
    "            case_list.append(caseno.strip())\n",
    "case_list = sorted(list(set(case_list)))"
   ]
  },
  {
   "cell_type": "code",
   "execution_count": 4,
   "id": "e676c1f9-938d-43d8-899a-a70585fb4280",
   "metadata": {},
   "outputs": [
    {
     "name": "stdout",
     "output_type": "stream",
     "text": [
      "retrying as ADM-2018-5752... \n",
      "Warning: failed to retrieve data for ADM-2018-5752-DB-SIP\n",
      "Warning: no data found for caseid None... \n",
      "retrying as ADM-2021-10304... \n",
      "Warning: failed to retrieve data for ADM-2021-10304-DB-HCA-1A\n",
      "Warning: no data found for caseid None... \n",
      "retrying as ADM-2021-3739... \n",
      "Warning: failed to retrieve data for ADM-2021-3739-DB-HCA-1A\n",
      "Warning: no data found for caseid None... \n",
      "retrying as ADM-2022-6793... \n",
      "Warning: failed to retrieve data for ADM-2022-6793-DB-HCA-1A\n",
      "Warning: no data found for caseid None... \n",
      "retrying as ADM-2023-5502... \n",
      "Warning: failed to retrieve data for ADM-2023-5502-DB-HCA-1A\n",
      "Warning: no data found for caseid None... \n",
      "retrying as ADM-2023-6116... \n",
      "Warning: failed to retrieve data for ADM-2023-6116-SLD\n",
      "Warning: no data found for caseid None... \n",
      "retrying as CPC-2005-6118... \n",
      "Warning: failed to retrieve data for CPC-2005-6118-VCU-SPR\n",
      "Warning: no data found for caseid None... \n",
      "retrying as CPC-2015-2025... \n",
      "Warning: failed to retrieve data for CPC-2015-2025-DB-MCUP-CU-SPR\n",
      "Warning: no data found for caseid None... \n",
      "Requesting https://planning.lacity.org/pdiscaseinfo/api/Service/GetCaseInfoDataEncoded?encodedCaseId=MjA5NjM20...\n",
      "Requesting https://planning.lacity.org/pdiscaseinfo/api/Service/SearchCaseNumber?caseNo=CPC-2016-3182-CA...\n",
      "Requesting https://planning.lacity.org/pdiscaseinfo/api/Service/GetCaseInfoDataEncoded?encodedCaseId=MjA5NjM40...\n",
      "Requesting https://planning.lacity.org/pdiscaseinfo/api/Service/SearchCaseNumber?caseNo=CPC-2016-3182-CA-AMDT1...\n",
      "Requesting https://planning.lacity.org/pdiscaseinfo/api/Service/GetCaseInfoDataEncoded?encodedCaseId=MjY4NTE50...\n",
      "Requesting https://planning.lacity.org/pdiscaseinfo/api/Service/SearchCaseNumber?caseNo=CPC-2016-3182-CA-AMDT2...\n",
      "Requesting https://planning.lacity.org/pdiscaseinfo/api/Service/GetCaseInfoDataEncoded?encodedCaseId=MjcwMTA30...\n",
      "Requesting https://planning.lacity.org/pdiscaseinfo/api/Service/SearchCaseNumber?caseNo=CPC-2016-3182-CA-AMDT3...\n",
      "Requesting https://planning.lacity.org/pdiscaseinfo/api/Service/GetCaseInfoDataEncoded?encodedCaseId=Mjc1NTUw0...\n",
      "Requesting https://planning.lacity.org/pdiscaseinfo/api/Service/SearchCaseNumber?caseNo=CPC-2016-3412-VZC-HD-ZAA-SPR...\n",
      "Requesting https://planning.lacity.org/pdiscaseinfo/api/Service/GetCaseInfoDataEncoded?encodedCaseId=MjA5OTA50...\n",
      "Requesting https://planning.lacity.org/pdiscaseinfo/api/Service/SearchCaseNumber?caseNo=CPC-2016-3479-GPA-VZC-HD-SPR...\n",
      "Requesting https://planning.lacity.org/pdiscaseinfo/api/Service/GetCaseInfoDataEncoded?encodedCaseId=MjA5OTgz0...\n",
      "Requesting https://planning.lacity.org/pdiscaseinfo/api/Service/SearchCaseNumber?caseNo=CPC-2016-3575-GPA-VZC-HD-MCUP-DB-SPR-WDI...\n",
      "Requesting https://planning.lacity.org/pdiscaseinfo/api/Service/GetCaseInfoDataEncoded?encodedCaseId=MjEwMDk10...\n",
      "Requesting https://planning.lacity.org/pdiscaseinfo/api/Service/SearchCaseNumber?caseNo=CPC-2016-3630-ZC-HD-DB-MCUP-SPP-SPR-WDI...\n",
      "Requesting https://planning.lacity.org/pdiscaseinfo/api/Service/GetCaseInfoDataEncoded?encodedCaseId=MjEwMTU00...\n",
      "Requesting https://planning.lacity.org/pdiscaseinfo/api/Service/SearchCaseNumber?caseNo=CPC-2016-3662-CU-DB-SPR...\n",
      "Requesting https://planning.lacity.org/pdiscaseinfo/api/Service/GetCaseInfoDataEncoded?encodedCaseId=MjEwMjAw0...\n",
      "Requesting https://planning.lacity.org/pdiscaseinfo/api/Service/SearchCaseNumber?caseNo=CPC-2016-3689-GPA-VZC-HD-MCUP-DB-SPR...\n",
      "Requesting https://planning.lacity.org/pdiscaseinfo/api/Service/GetCaseInfoDataEncoded?encodedCaseId=MjEwMjMw0...\n",
      "Requesting https://planning.lacity.org/pdiscaseinfo/api/Service/SearchCaseNumber?caseNo=CPC-2016-3692-VZC-MCUP-SPR...\n",
      "Requesting https://planning.lacity.org/pdiscaseinfo/api/Service/GetCaseInfoDataEncoded?encodedCaseId=MjEwMjM00...\n",
      "Requesting https://planning.lacity.org/pdiscaseinfo/api/Service/SearchCaseNumber?caseNo=CPC-2016-3742-GPA-VZC-HD-DB-MCUP-SPR...\n",
      "Requesting https://planning.lacity.org/pdiscaseinfo/api/Service/GetCaseInfoDataEncoded?encodedCaseId=MjEwMjkw0...\n",
      "Requesting https://planning.lacity.org/pdiscaseinfo/api/Service/SearchCaseNumber?caseNo=CPC-2016-3750-VZC-HD-MCUP-ZAA-SPR...\n",
      "Requesting https://planning.lacity.org/pdiscaseinfo/api/Service/GetCaseInfoDataEncoded?encodedCaseId=MjEwMzAw0...\n",
      "Requesting https://planning.lacity.org/pdiscaseinfo/api/Service/SearchCaseNumber?caseNo=CPC-2016-3765-TDR-MCUP-CUX-ZAD-DD-SPR...\n",
      "Requesting https://planning.lacity.org/pdiscaseinfo/api/Service/GetCaseInfoDataEncoded?encodedCaseId=MjEwMzE40...\n",
      "Requesting https://planning.lacity.org/pdiscaseinfo/api/Service/SearchCaseNumber?caseNo=CPC-2016-3777-VZC-HD-BL-DB-MCUP-ZAD-SPR...\n",
      "Requesting https://planning.lacity.org/pdiscaseinfo/api/Service/GetCaseInfoDataEncoded?encodedCaseId=MjEwMzM40...\n",
      "Requesting https://planning.lacity.org/pdiscaseinfo/api/Service/SearchCaseNumber?caseNo=CPC-2016-3808-VZC-CDO-DD-SPR...\n",
      "Requesting https://planning.lacity.org/pdiscaseinfo/api/Service/GetCaseInfoDataEncoded?encodedCaseId=MjEwMzcx0...\n",
      "Requesting https://planning.lacity.org/pdiscaseinfo/api/Service/SearchCaseNumber?caseNo=CPC-2016-3853-GPA-VZC-HD-ZAD-SPR...\n",
      "Requesting https://planning.lacity.org/pdiscaseinfo/api/Service/GetCaseInfoDataEncoded?encodedCaseId=MjEwNDI40...\n",
      "Requesting https://planning.lacity.org/pdiscaseinfo/api/Service/SearchCaseNumber?caseNo=CPC-2016-3866-VZCJ-SPR...\n",
      "Requesting https://planning.lacity.org/pdiscaseinfo/api/Service/GetCaseInfoDataEncoded?encodedCaseId=MjEwNDQ10...\n",
      "Requesting https://planning.lacity.org/pdiscaseinfo/api/Service/SearchCaseNumber?caseNo=CPC-2016-3880-DA...\n",
      "Requesting https://planning.lacity.org/pdiscaseinfo/api/Service/GetCaseInfoDataEncoded?encodedCaseId=MjEwNDY20...\n"
     ]
    },
    {
     "ename": "KeyboardInterrupt",
     "evalue": "",
     "output_type": "error",
     "traceback": [
      "\u001b[0;31m---------------------------------------------------------------------------\u001b[0m",
      "\u001b[0;31mKeyboardInterrupt\u001b[0m                         Traceback (most recent call last)",
      "Cell \u001b[0;32mIn[4], line 3\u001b[0m\n\u001b[1;32m      1\u001b[0m out_df \u001b[38;5;241m=\u001b[39m []\n\u001b[1;32m      2\u001b[0m \u001b[38;5;28;01mfor\u001b[39;00m case \u001b[38;5;129;01min\u001b[39;00m case_list:\n\u001b[0;32m----> 3\u001b[0m     j \u001b[38;5;241m=\u001b[39m \u001b[43mapi\u001b[49m\u001b[38;5;241;43m.\u001b[39;49m\u001b[43mget_case_info\u001b[49m\u001b[43m(\u001b[49m\u001b[43mcase\u001b[49m\u001b[43m,\u001b[49m\u001b[43m \u001b[49m\u001b[43mverbose\u001b[49m\u001b[38;5;241;43m=\u001b[39;49m\u001b[38;5;28;43;01mTrue\u001b[39;49;00m\u001b[43m)\u001b[49m\n\u001b[1;32m      4\u001b[0m     \u001b[38;5;28;01mif\u001b[39;00m j \u001b[38;5;129;01mis\u001b[39;00m \u001b[38;5;129;01mnot\u001b[39;00m \u001b[38;5;28;01mNone\u001b[39;00m:\n\u001b[1;32m      5\u001b[0m         j[\u001b[38;5;124m'\u001b[39m\u001b[38;5;124mcasenum\u001b[39m\u001b[38;5;124m'\u001b[39m] \u001b[38;5;241m=\u001b[39m case\n",
      "File \u001b[0;32m~/projects/lur-lm/src/notebooks/../python/api.py:339\u001b[0m, in \u001b[0;36mget_case_info\u001b[0;34m(caseno, overwrite, verbose)\u001b[0m\n\u001b[1;32m    338\u001b[0m \u001b[38;5;28;01mdef\u001b[39;00m\u001b[38;5;250m \u001b[39m\u001b[38;5;21mget_case_info\u001b[39m(caseno, overwrite\u001b[38;5;241m=\u001b[39m\u001b[38;5;28;01mFalse\u001b[39;00m, verbose\u001b[38;5;241m=\u001b[39m\u001b[38;5;28;01mTrue\u001b[39;00m):\n\u001b[0;32m--> 339\u001b[0m     j \u001b[38;5;241m=\u001b[39m \u001b[43mget_case_info_from_caseid\u001b[49m\u001b[43m(\u001b[49m\u001b[43mget_id_from_caseno\u001b[49m\u001b[43m(\u001b[49m\u001b[43mcaseno\u001b[49m\u001b[43m,\u001b[49m\u001b[43m \u001b[49m\u001b[43moverwrite\u001b[49m\u001b[43m,\u001b[49m\u001b[43m \u001b[49m\u001b[43mverbose\u001b[49m\u001b[43m)\u001b[49m\u001b[43m,\u001b[49m\u001b[43m \u001b[49m\u001b[43moverwrite\u001b[49m\u001b[43m,\u001b[49m\u001b[43m \u001b[49m\u001b[43mverbose\u001b[49m\u001b[43m)\u001b[49m\n\u001b[1;32m    340\u001b[0m     \u001b[38;5;28;01mreturn\u001b[39;00m j\n",
      "File \u001b[0;32m~/projects/lur-lm/src/notebooks/../python/api.py:317\u001b[0m, in \u001b[0;36mget_case_info_from_caseid\u001b[0;34m(caseid, overwrite, verbose)\u001b[0m\n\u001b[1;32m    314\u001b[0m \u001b[38;5;28;01mdef\u001b[39;00m\u001b[38;5;250m \u001b[39m\u001b[38;5;21mget_case_info_from_caseid\u001b[39m(caseid, overwrite\u001b[38;5;241m=\u001b[39m\u001b[38;5;28;01mFalse\u001b[39;00m, verbose\u001b[38;5;241m=\u001b[39m\u001b[38;5;28;01mTrue\u001b[39;00m):\n\u001b[1;32m    315\u001b[0m     \u001b[38;5;66;03m# get case info from caseid\u001b[39;00m\n\u001b[1;32m    316\u001b[0m     url \u001b[38;5;241m=\u001b[39m \u001b[38;5;124mf\u001b[39m\u001b[38;5;124m\"\u001b[39m\u001b[38;5;124mhttps://planning.lacity.org/pdiscaseinfo/api/Service/GetCaseInfoDataEncoded?encodedCaseId=\u001b[39m\u001b[38;5;132;01m{\u001b[39;00mcaseid\u001b[38;5;132;01m}\u001b[39;00m\u001b[38;5;124m\"\u001b[39m\n\u001b[0;32m--> 317\u001b[0m     response \u001b[38;5;241m=\u001b[39m \u001b[43mrequest_url\u001b[49m\u001b[43m(\u001b[49m\u001b[43murl\u001b[49m\u001b[43m,\u001b[49m\u001b[43m \u001b[49m\u001b[43moverwrite\u001b[49m\u001b[43m,\u001b[49m\u001b[43m \u001b[49m\u001b[43mverbose\u001b[49m\u001b[43m)\u001b[49m\n\u001b[1;32m    319\u001b[0m     \u001b[38;5;28;01mif\u001b[39;00m response \u001b[38;5;129;01mis\u001b[39;00m \u001b[38;5;28;01mNone\u001b[39;00m:\n\u001b[1;32m    320\u001b[0m         \u001b[38;5;28;01mreturn\u001b[39;00m \u001b[38;5;28;01mNone\u001b[39;00m\n",
      "File \u001b[0;32m~/projects/lur-lm/src/notebooks/../python/api.py:256\u001b[0m, in \u001b[0;36mrequest_url\u001b[0;34m(url, overwrite, verbose, wait_time)\u001b[0m\n\u001b[1;32m    254\u001b[0m     \u001b[38;5;28mprint\u001b[39m(\u001b[38;5;124mf\u001b[39m\u001b[38;5;124m\"\u001b[39m\u001b[38;5;124mRequesting \u001b[39m\u001b[38;5;132;01m{\u001b[39;00murl\u001b[38;5;132;01m}\u001b[39;00m\u001b[38;5;124m...\u001b[39m\u001b[38;5;124m\"\u001b[39m)\n\u001b[1;32m    255\u001b[0m r \u001b[38;5;241m=\u001b[39m requests\u001b[38;5;241m.\u001b[39mget(url)\n\u001b[0;32m--> 256\u001b[0m \u001b[43mtime\u001b[49m\u001b[38;5;241;43m.\u001b[39;49m\u001b[43msleep\u001b[49m\u001b[43m(\u001b[49m\u001b[43mrng\u001b[49m\u001b[38;5;241;43m.\u001b[39;49m\u001b[43muniform\u001b[49m\u001b[43m(\u001b[49m\u001b[43mwait_time\u001b[49m\u001b[43m,\u001b[49m\u001b[43m \u001b[49m\u001b[43mwait_time\u001b[49m\u001b[38;5;241;43m+\u001b[39;49m\u001b[38;5;241;43m5\u001b[39;49m\u001b[43m)\u001b[49m\u001b[43m)\u001b[49m\n\u001b[1;32m    257\u001b[0m \u001b[38;5;28;01mif\u001b[39;00m r\u001b[38;5;241m.\u001b[39mstatus_code\u001b[38;5;241m!=\u001b[39m\u001b[38;5;241m200\u001b[39m:\n\u001b[1;32m    258\u001b[0m     \u001b[38;5;28;01mif\u001b[39;00m verbose:\n",
      "\u001b[0;31mKeyboardInterrupt\u001b[0m: "
     ]
    }
   ],
   "source": [
    "out_df = []\n",
    "for case in case_list:\n",
    "    j = api.get_case_info(case, verbose=True)\n",
    "    if j is not None:\n",
    "        j['casenum'] = case\n",
    "        out_df.append(j)\n",
    "\n",
    "out_df = pd.DataFrame.from_dict(out_df)\n",
    "out_df.to_pickle(\"../../intermediate_data/cpc/case-data.pkl\")    "
   ]
  },
  {
   "cell_type": "code",
   "execution_count": null,
   "id": "5c8c76ba-3aad-4228-97fc-ba54419fd002",
   "metadata": {},
   "outputs": [],
   "source": []
  },
  {
   "cell_type": "code",
   "execution_count": 9,
   "id": "c66827fd-3963-443b-b27f-3063c09a5250",
   "metadata": {},
   "outputs": [
    {
     "data": {
      "text/plain": [
       "228"
      ]
     },
     "execution_count": 9,
     "metadata": {},
     "output_type": "execute_result"
    }
   ],
   "source": [
    "import pickle\n",
    "import json \n",
    "\n",
    "with open(\"../../response_store/url_response_store.pkl\", 'rb') as f:\n",
    "    data = pickle.load(f)\n",
    "keys = list(data.keys())\n",
    "\n",
    "i=-2\n",
    "key = keys[i]\n",
    "j = json.loads(data[key])\n",
    "\n",
    "len(data)"
   ]
  }
 ],
 "metadata": {
  "kernelspec": {
   "display_name": "Python 3 (ipykernel)",
   "language": "python",
   "name": "python3"
  },
  "language_info": {
   "codemirror_mode": {
    "name": "ipython",
    "version": 3
   },
   "file_extension": ".py",
   "mimetype": "text/x-python",
   "name": "python",
   "nbconvert_exporter": "python",
   "pygments_lexer": "ipython3",
   "version": "3.9.6"
  }
 },
 "nbformat": 4,
 "nbformat_minor": 5
}

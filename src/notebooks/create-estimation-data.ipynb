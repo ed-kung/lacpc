{
 "cells": [
  {
   "cell_type": "code",
   "execution_count": 1,
   "id": "453d2659-707e-4355-83cb-7c8f5734c52d",
   "metadata": {},
   "outputs": [],
   "source": [
    "import os\n",
    "import sys\n",
    "import time\n",
    "import yaml\n",
    "import pandas as pd\n",
    "import numpy as np\n",
    "import re\n",
    "\n",
    "with open('../../config.local.yaml', 'r') as f:\n",
    "    local_config = yaml.safe_load(f)\n",
    "\n",
    "LOCAL_PATH = local_config['LOCAL_PATH']\n",
    "\n",
    "sys.path.append(os.path.join(LOCAL_PATH, \"src/python\"))\n",
    "\n",
    "import data_tools as dt\n",
    "from utils import parse_casenum\n",
    "\n",
    "from matplotlib import pyplot as plt\n",
    "from sklearn.linear_model import LogisticRegression\n",
    "from IPython.core.display import HTML\n",
    "from sklearn.linear_model import LogisticRegression\n",
    "import statsmodels.api as sm\n",
    "from stargazer.stargazer import Stargazer\n",
    "\n",
    "rng = np.random.default_rng(12898)\n",
    "\n",
    "SUPPORT_TAGS = ['DEFINITELY SUPPORT', 'SOMEWHAT SUPPORT']\n",
    "OPPOSE_TAGS = ['DEFINITELY OPPOSE', 'SOMEWHAT OPPOSE']\n",
    "ORDERED_TAGS = ['DEFINITELY SUPPORT', 'SOMEWHAT SUPPORT', 'SOMEWHAT OPPOSE', 'DEFINITELY OPPOSE']\n",
    "\n",
    "APPROVE_TAGS = ['APPROVED', 'APPROVED IN PART OR WITH MODIFICATIONS']\n",
    "\n"
   ]
  },
  {
   "cell_type": "markdown",
   "id": "6c5f4a39-10fc-479c-95d7-c74527b0b185",
   "metadata": {},
   "source": [
    "## Data Preparation"
   ]
  },
  {
   "cell_type": "code",
   "execution_count": 2,
   "id": "2065f71b-2cdf-482a-bad6-aac9611ce725",
   "metadata": {},
   "outputs": [],
   "source": [
    "dfa = dt.get_agenda_items(verbose=False)\n",
    "dfm = dt.get_minutes(verbose=False)\n",
    "dfl = dt.get_supplemental_docs(verbose=False)"
   ]
  },
  {
   "cell_type": "code",
   "execution_count": 3,
   "id": "197393a1-557f-40ab-aaad-6bfccbb36bdc",
   "metadata": {},
   "outputs": [],
   "source": [
    "# Keep only applications not withdrawn\n",
    "idx = dfm['project_result']!='APPLICATION WITHDRAWN'\n",
    "dfm = dfm.loc[idx].reset_index(drop=True)"
   ]
  },
  {
   "cell_type": "code",
   "execution_count": 4,
   "id": "4480fc36-7885-49c7-b225-f56b27c7eea7",
   "metadata": {},
   "outputs": [],
   "source": [
    "# Keep only supporting or opposing letters\n",
    "idx = dfl['support_or_oppose'].isin(SUPPORT_TAGS + OPPOSE_TAGS)\n",
    "dfl = dfl.loc[idx].reset_index(drop=True)"
   ]
  },
  {
   "cell_type": "code",
   "execution_count": 5,
   "id": "ae05f757-1bca-44d3-aabb-a8ec018b9199",
   "metadata": {},
   "outputs": [],
   "source": [
    "# Count support and opposition for minutes items\n",
    "for so in ['support', 'oppose']:\n",
    "    for typ in ['', 'individual', 'official', 'other']:\n",
    "        dfm[f'n_{typ}_{so}'] = 0\n",
    "        \n",
    "for idx, irow in dfm.iterrows():\n",
    "    date = irow['date']\n",
    "    item_no = irow['item_no']\n",
    "    for jdx, jrow in dfl.loc[dfl['date']==date].iterrows():\n",
    "        referenced_items = [s.strip() for s in jrow['referenced_items'].split(',')]\n",
    "        is_so = {}\n",
    "        is_so['support'] = jrow['support_or_oppose'] in SUPPORT_TAGS\n",
    "        is_so['oppose'] = jrow['support_or_oppose'] in OPPOSE_TAGS\n",
    "        is_type = {}\n",
    "        is_type[''] = 1\n",
    "        is_type['individual'] = 1*(jrow['author_type']=='INDIVIDUAL')\n",
    "        is_type['official'] = 1*(jrow['author_type']=='PUBLIC OFFICIAL')\n",
    "        is_type['other'] = 1 - is_type['individual'] - is_type['official']\n",
    "        if item_no in referenced_items:\n",
    "            for so in ['support', 'oppose']:\n",
    "                for typ in ['', 'individual', 'official', 'other']:\n",
    "                    dfm.loc[idx, f'n_{typ}_{so}'] += is_type[typ]*is_so[so]"
   ]
  },
  {
   "cell_type": "code",
   "execution_count": 6,
   "id": "3625358e-10fe-466c-989c-32dd58356582",
   "metadata": {},
   "outputs": [],
   "source": [
    "# Deliberation order for minutes items\n",
    "dfm['deliberation_order'] = dfm.groupby('date')[\n",
    "    'minutes_start_line'\n",
    "].rank(method='dense', ascending=True)"
   ]
  },
  {
   "cell_type": "code",
   "execution_count": 7,
   "id": "586f786e-f17b-4416-8582-f01c063d1805",
   "metadata": {},
   "outputs": [],
   "source": [
    "# Agenda item order\n",
    "def split_item_no(x):\n",
    "    match = re.match(r'(\\d+)([a-zA-Z]*)', x)\n",
    "    if match:\n",
    "        return int(match.group(1)), match.group(2)\n",
    "    else:\n",
    "        return int(match.group(1)), ''\n",
    "\n",
    "dfm[['item_no_num', 'item_no_sfx']] = dfm['item_no'].apply(lambda x: pd.Series(split_item_no(x)))\n",
    "\n",
    "dfm['agenda_order'] = (\n",
    "    dfm.sort_values(by=['date','item_no_num','item_no_sfx'])\n",
    "       .groupby(['date'])\n",
    "       .cumcount()+1\n",
    ")"
   ]
  },
  {
   "cell_type": "code",
   "execution_count": 8,
   "id": "e6961800-4a00-4d08-b6e8-26283ec76955",
   "metadata": {},
   "outputs": [],
   "source": [
    "# Total number of agenda items for each meeting\n",
    "tempdf = dfa.groupby('date').agg(num_agenda_items=('item_no','count')).reset_index()\n",
    "dfm = dfm.merge(tempdf, on='date', how='left')"
   ]
  },
  {
   "cell_type": "code",
   "execution_count": 9,
   "id": "74251e02-9fa6-4ab2-8183-6f8c0103fe6c",
   "metadata": {},
   "outputs": [],
   "source": [
    "# consent calendar indicator\n",
    "tempdf = dfa[['date', 'item_no', 'is_cc_part']]\n",
    "dfm = dfm.merge(tempdf, on=['date', 'item_no'], how='left')\n",
    "dfm['consent_calendar'] = 1*dfm['is_cc_part']"
   ]
  },
  {
   "cell_type": "code",
   "execution_count": 10,
   "id": "aa83b592-2be7-46c9-abed-e5a1cc21c406",
   "metadata": {},
   "outputs": [],
   "source": [
    "# agenda perplexity\n",
    "tempdf = dfa[['date', 'item_no', 'perplexity']].rename(columns={'perplexity': 'agenda_perplexity'})\n",
    "dfm = dfm.merge(tempdf, on=['date', 'item_no'], how='left')"
   ]
  },
  {
   "cell_type": "code",
   "execution_count": 11,
   "id": "12316a39-a6f8-4d6c-bad0-54b4e530b273",
   "metadata": {},
   "outputs": [],
   "source": [
    "# time to act\n",
    "tempdf = dfa[['date', 'item_no', 'last_day_to_act']].copy()\n",
    "tempdf['time_to_act'] = (tempdf['last_day_to_act'] - pd.to_datetime(tempdf['date'], errors='coerce')) / pd.to_timedelta(1,unit='D')\n",
    "dfm = dfm.merge(tempdf, on=['date', 'item_no'], how='left')"
   ]
  },
  {
   "cell_type": "code",
   "execution_count": 12,
   "id": "ac3cd993-593f-4a02-8b94-51e72ba205bc",
   "metadata": {},
   "outputs": [],
   "source": [
    "# appealed\n",
    "tempdf = dfa[['date', 'item_no', 'appealed']].copy()\n",
    "dfm = dfm.merge(tempdf, on=['date', 'item_no'], how='left')\n",
    "dfm['appealed'] = 1*dfm['appealed']"
   ]
  },
  {
   "cell_type": "code",
   "execution_count": 13,
   "id": "875a02f5-1b47-4451-a5ca-bd976a882be0",
   "metadata": {},
   "outputs": [],
   "source": [
    "# number laws\n",
    "tempdf = dfa[['date', 'item_no', 'relevant_laws']].copy()\n",
    "tempdf['num_referenced_laws'] = tempdf['relevant_laws'].apply(lambda x: len(x.split('\\n')))\n",
    "dfm = dfm.merge(tempdf, on=['date', 'item_no'], how='left')"
   ]
  },
  {
   "cell_type": "code",
   "execution_count": null,
   "id": "d0653ed6",
   "metadata": {},
   "outputs": [],
   "source": [
    "# case suffixes\n",
    "suffixes = set()\n",
    "for idx, row in dfm.iterrows():\n",
    "    parsed_casenum = parse_casenum(row['title'])\n",
    "    for sfx in parsed_casenum['suffixes']:\n",
    "        suffixes.add(sfx)\n",
    "sfx_cols = []\n",
    "for sfx in suffixes:\n",
    "    mycol = f'sfx_{sfx}'\n",
    "    sfx_cols.append(mycol)\n",
    "    dfm[mycol] = 0\n",
    "for idx, row in dfm.iterrows():\n",
    "    parsed_casenum = parse_casenum(row['title'])\n",
    "    for sfx in parsed_casenum['suffixes']:\n",
    "        dfm.loc[idx, f'sfx_{sfx}'] = 1"
   ]
  },
  {
   "cell_type": "code",
   "execution_count": null,
   "id": "24c745bc-5ad2-484a-b01e-f63528482578",
   "metadata": {},
   "outputs": [],
   "source": [
    "# Export data to CSV\n",
    "df_out = dfm.copy().rename(columns={\n",
    "    'perplexity': 'minutes_perplexity',\n",
    "})\n",
    "mycols = [\n",
    "    'year', 'date', 'item_no', 'title', 'related_cases',\n",
    "    'agenda_content', 'agenda_perplexity', 'agenda_order', 'num_agenda_items', 'consent_calendar',\n",
    "    'minutes_content', 'minutes_perplexity', 'agenda_item_summary', 'deliberations_summary', 'motion_summary',\n",
    "    'appealed', 'relevant_laws', 'num_referenced_laws',\n",
    "    'moved', 'seconded', 'ayes', 'nays', 'abstained', 'recused', 'absent', 'vote_result', \n",
    "    'n_ayes', 'n_nays', 'n_abstained', 'n_recused', 'n_absent', \n",
    "    'appeal_result', 'project_result', \n",
    "    'n__support', 'n__oppose', 'n_individual_support', 'n_individual_oppose', \n",
    "    'n_official_support', 'n_official_oppose', 'n_other_support', 'n_other_oppose'\n",
    "]\n",
    "mycols = mycols + sfx_cols\n",
    "df_out[mycols].to_csv(\n",
    "    os.path.join(LOCAL_PATH, \"intermediate_data/cpc/export-for-joe.csv\"), \n",
    "    header=True, \n",
    "    index=False\n",
    ")"
   ]
  },
  {
   "cell_type": "code",
   "execution_count": 16,
   "id": "ee92e3f4",
   "metadata": {},
   "outputs": [
    {
     "data": {
      "text/plain": [
       "{'1A',\n",
       " 'ACI',\n",
       " 'AD',\n",
       " 'AMDT1',\n",
       " 'AMDT2',\n",
       " 'AMDT3',\n",
       " 'BL',\n",
       " 'BSA',\n",
       " 'CA',\n",
       " 'CCMP',\n",
       " 'CDO',\n",
       " 'CDP',\n",
       " 'CN',\n",
       " 'COA',\n",
       " 'CPIO',\n",
       " 'CPIOA',\n",
       " 'CPU',\n",
       " 'CU',\n",
       " 'CU2',\n",
       " 'CU3',\n",
       " 'CUB',\n",
       " 'CUW',\n",
       " 'CUX',\n",
       " 'DA',\n",
       " 'DB',\n",
       " 'DD',\n",
       " 'DI',\n",
       " 'DRB',\n",
       " 'ELD',\n",
       " 'F',\n",
       " 'GB',\n",
       " 'GPA',\n",
       " 'GPAJ',\n",
       " 'HCA',\n",
       " 'HD',\n",
       " 'M1',\n",
       " 'M3',\n",
       " 'MCUP',\n",
       " 'MEL',\n",
       " 'MSC',\n",
       " 'MSP',\n",
       " 'PA1',\n",
       " 'PA2',\n",
       " 'PAB',\n",
       " 'PHP',\n",
       " 'PMEX',\n",
       " 'PMLA',\n",
       " 'PR',\n",
       " 'PSH',\n",
       " 'PUB',\n",
       " 'RDP',\n",
       " 'SCEA',\n",
       " 'SIP',\n",
       " 'SL',\n",
       " 'SN',\n",
       " 'SP',\n",
       " 'SPE',\n",
       " 'SPP',\n",
       " 'SPPA',\n",
       " 'SPPC',\n",
       " 'SPPE',\n",
       " 'SPR',\n",
       " 'SUD',\n",
       " 'TDR',\n",
       " 'TOC',\n",
       " 'VCU',\n",
       " 'VHCA',\n",
       " 'VZC',\n",
       " 'VZCJ',\n",
       " 'WDI',\n",
       " 'ZAA',\n",
       " 'ZAD',\n",
       " 'ZAI',\n",
       " 'ZC',\n",
       " 'ZCJ',\n",
       " 'ZV'}"
      ]
     },
     "execution_count": 16,
     "metadata": {},
     "output_type": "execute_result"
    }
   ],
   "source": [
    "suffixes"
   ]
  }
 ],
 "metadata": {
  "kernelspec": {
   "display_name": "Python 3",
   "language": "python",
   "name": "python3"
  },
  "language_info": {
   "codemirror_mode": {
    "name": "ipython",
    "version": 3
   },
   "file_extension": ".py",
   "mimetype": "text/x-python",
   "name": "python",
   "nbconvert_exporter": "python",
   "pygments_lexer": "ipython3",
   "version": "3.9.6"
  }
 },
 "nbformat": 4,
 "nbformat_minor": 5
}

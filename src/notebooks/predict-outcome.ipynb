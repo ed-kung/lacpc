{
 "cells": [
  {
   "cell_type": "code",
   "execution_count": 1,
   "id": "453d2659-707e-4355-83cb-7c8f5734c52d",
   "metadata": {},
   "outputs": [],
   "source": [
    "import os\n",
    "import sys\n",
    "import time\n",
    "import yaml\n",
    "import pandas as pd\n",
    "import numpy as np\n",
    "\n",
    "with open('../../config.local.yaml', 'r') as f:\n",
    "    local_config = yaml.safe_load(f)\n",
    "\n",
    "LOCAL_PATH = local_config['LOCAL_PATH']\n",
    "\n",
    "sys.path.append(os.path.join(LOCAL_PATH, \"src/python\"))\n",
    "\n",
    "import data_tools as dt\n",
    "\n",
    "from matplotlib import pyplot as plt\n",
    "from sklearn.linear_model import LogisticRegression\n",
    "from IPython.core.display import HTML\n",
    "from sklearn.linear_model import LogisticRegression\n",
    "import statsmodels.api as sm\n",
    "from stargazer.stargazer import Stargazer\n",
    "\n",
    "rng = np.random.default_rng(12898)\n",
    "\n",
    "SUPPORT_TAGS = ['DEFINITELY SUPPORT', 'SOMEWHAT SUPPORT']\n",
    "OPPOSE_TAGS = ['DEFINITELY OPPOSE', 'SOMEWHAT OPPOSE']\n",
    "APPROVE_TAGS = ['APPROVED', 'APPROVED WITH MINOR CHANGES']\n"
   ]
  },
  {
   "cell_type": "code",
   "execution_count": 2,
   "id": "2065f71b-2cdf-482a-bad6-aac9611ce725",
   "metadata": {},
   "outputs": [
    {
     "name": "stdout",
     "output_type": "stream",
     "text": [
      "No proper response found for 2018-06-14, doc_id 1, pages 2-2\n"
     ]
    }
   ],
   "source": [
    "df = dt.get_supplemental_docs()"
   ]
  },
  {
   "cell_type": "code",
   "execution_count": 3,
   "id": "55a528a7-eeaf-4b7c-958c-a33476ece3c6",
   "metadata": {},
   "outputs": [],
   "source": [
    "idx = df['support_or_oppose'].isin(SUPPORT_TAGS + OPPOSE_TAGS)\n",
    "idx_support = df['support_or_oppose'].isin(SUPPORT_TAGS)\n",
    "idx_oppose = df['support_or_oppose'].isin(OPPOSE_TAGS)"
   ]
  },
  {
   "cell_type": "code",
   "execution_count": 4,
   "id": "09a6786f-7170-4140-874e-a9060fcee40f",
   "metadata": {},
   "outputs": [],
   "source": [
    "# Keep only documents that either support or oppose\n",
    "df2 = df.loc[idx].reset_index(drop=True)"
   ]
  },
  {
   "cell_type": "code",
   "execution_count": 5,
   "id": "f90d33d4-fdae-44c3-933b-58b1f71d0719",
   "metadata": {},
   "outputs": [
    {
     "name": "stdout",
     "output_type": "stream",
     "text": [
      "*** EXAMPLE OF A LETTER ROW ***\n"
     ]
    },
    {
     "data": {
      "text/html": [
       "<div>\n",
       "<style scoped>\n",
       "    .dataframe tbody tr th:only-of-type {\n",
       "        vertical-align: middle;\n",
       "    }\n",
       "\n",
       "    .dataframe tbody tr th {\n",
       "        vertical-align: top;\n",
       "    }\n",
       "\n",
       "    .dataframe thead th {\n",
       "        text-align: right;\n",
       "    }\n",
       "</style>\n",
       "<table border=\"1\" class=\"dataframe\">\n",
       "  <thead>\n",
       "    <tr style=\"text-align: right;\">\n",
       "      <th></th>\n",
       "      <th>year</th>\n",
       "      <th>date</th>\n",
       "      <th>doc_id</th>\n",
       "      <th>start_page</th>\n",
       "      <th>end_page</th>\n",
       "      <th>content</th>\n",
       "      <th>prompt</th>\n",
       "      <th>response</th>\n",
       "      <th>score</th>\n",
       "      <th>doc_type</th>\n",
       "      <th>author_type</th>\n",
       "      <th>summary</th>\n",
       "      <th>referenced_items</th>\n",
       "      <th>support_or_oppose</th>\n",
       "    </tr>\n",
       "  </thead>\n",
       "  <tbody>\n",
       "    <tr>\n",
       "      <th>0</th>\n",
       "      <td>2018</td>\n",
       "      <td>2018-05-10</td>\n",
       "      <td>2</td>\n",
       "      <td>3</td>\n",
       "      <td>8</td>\n",
       "      <td>\\n                                            ...</td>\n",
       "      <td>\\n==== LIST OF AGENDA ITEMS ====\\n\\nITEM NO. 5...</td>\n",
       "      <td>\\n==== YOUR RESPONSE FORMAT ====\\n\\nTYPE OF DO...</td>\n",
       "      <td>-0.028656</td>\n",
       "      <td>LETTER OR PETITION</td>\n",
       "      <td>CONSULTANT</td>\n",
       "      <td>The document is a letter from Irvine &amp; Associa...</td>\n",
       "      <td>6</td>\n",
       "      <td>DEFINITELY SUPPORT</td>\n",
       "    </tr>\n",
       "    <tr>\n",
       "      <th>1</th>\n",
       "      <td>2018</td>\n",
       "      <td>2018-05-10</td>\n",
       "      <td>7</td>\n",
       "      <td>175</td>\n",
       "      <td>176</td>\n",
       "      <td>\\n                                            ...</td>\n",
       "      <td>\\n==== LIST OF AGENDA ITEMS ====\\n\\nITEM NO. 5...</td>\n",
       "      <td>==== YOUR RESPONSE FORMAT ====\\n\\nTYPE OF DOCU...</td>\n",
       "      <td>-0.391186</td>\n",
       "      <td>LETTER OR PETITION</td>\n",
       "      <td>ADVOCACY GROUP</td>\n",
       "      <td>The document is a letter from Abundant Housing...</td>\n",
       "      <td>6, 7, 8, 9, 10</td>\n",
       "      <td>DEFINITELY SUPPORT</td>\n",
       "    </tr>\n",
       "  </tbody>\n",
       "</table>\n",
       "</div>"
      ],
      "text/plain": [
       "   year        date  doc_id  start_page  end_page  \\\n",
       "0  2018  2018-05-10       2           3         8   \n",
       "1  2018  2018-05-10       7         175       176   \n",
       "\n",
       "                                             content  \\\n",
       "0  \\n                                            ...   \n",
       "1  \\n                                            ...   \n",
       "\n",
       "                                              prompt  \\\n",
       "0  \\n==== LIST OF AGENDA ITEMS ====\\n\\nITEM NO. 5...   \n",
       "1  \\n==== LIST OF AGENDA ITEMS ====\\n\\nITEM NO. 5...   \n",
       "\n",
       "                                            response     score  \\\n",
       "0  \\n==== YOUR RESPONSE FORMAT ====\\n\\nTYPE OF DO... -0.028656   \n",
       "1  ==== YOUR RESPONSE FORMAT ====\\n\\nTYPE OF DOCU... -0.391186   \n",
       "\n",
       "             doc_type     author_type  \\\n",
       "0  LETTER OR PETITION      CONSULTANT   \n",
       "1  LETTER OR PETITION  ADVOCACY GROUP   \n",
       "\n",
       "                                             summary referenced_items  \\\n",
       "0  The document is a letter from Irvine & Associa...                6   \n",
       "1  The document is a letter from Abundant Housing...   6, 7, 8, 9, 10   \n",
       "\n",
       "    support_or_oppose  \n",
       "0  DEFINITELY SUPPORT  \n",
       "1  DEFINITELY SUPPORT  "
      ]
     },
     "execution_count": 5,
     "metadata": {},
     "output_type": "execute_result"
    }
   ],
   "source": [
    "print(\"*** EXAMPLE OF A LETTER ROW ***\")\n",
    "df2.loc[0:1]"
   ]
  },
  {
   "cell_type": "code",
   "execution_count": 6,
   "id": "ef44e5ea-38f0-4dc7-8d99-390f0cb74eda",
   "metadata": {},
   "outputs": [
    {
     "name": "stdout",
     "output_type": "stream",
     "text": [
      "No data found for 2021-01-14\n",
      "No data found for 2022-03-17\n",
      "No data found for 2022-10-13\n"
     ]
    }
   ],
   "source": [
    "minutes_df = dt.get_minutes()"
   ]
  },
  {
   "cell_type": "code",
   "execution_count": 7,
   "id": "03e5b93c-ad67-4146-8940-ea410809a554",
   "metadata": {},
   "outputs": [],
   "source": [
    "df3 = minutes_df.copy()"
   ]
  },
  {
   "cell_type": "code",
   "execution_count": 8,
   "id": "58d5bc5e-0b00-4c14-a879-bbdcf81c1bd6",
   "metadata": {},
   "outputs": [
    {
     "name": "stdout",
     "output_type": "stream",
     "text": [
      "*** EXAMPLE OF A MINUTES ITEM ***\n"
     ]
    },
    {
     "data": {
      "text/html": [
       "<div>\n",
       "<style scoped>\n",
       "    .dataframe tbody tr th:only-of-type {\n",
       "        vertical-align: middle;\n",
       "    }\n",
       "\n",
       "    .dataframe tbody tr th {\n",
       "        vertical-align: top;\n",
       "    }\n",
       "\n",
       "    .dataframe thead th {\n",
       "        text-align: right;\n",
       "    }\n",
       "</style>\n",
       "<table border=\"1\" class=\"dataframe\">\n",
       "  <thead>\n",
       "    <tr style=\"text-align: right;\">\n",
       "      <th></th>\n",
       "      <th>year</th>\n",
       "      <th>date</th>\n",
       "      <th>item_no</th>\n",
       "      <th>title</th>\n",
       "      <th>prompt</th>\n",
       "      <th>response</th>\n",
       "      <th>score</th>\n",
       "      <th>related_cases</th>\n",
       "      <th>agenda_item_summary</th>\n",
       "      <th>deliberations_summary</th>\n",
       "      <th>motion_summary</th>\n",
       "      <th>votes_for</th>\n",
       "      <th>votes_against</th>\n",
       "      <th>votes_absent</th>\n",
       "      <th>vote_result</th>\n",
       "      <th>appeal_result</th>\n",
       "      <th>project_result</th>\n",
       "    </tr>\n",
       "  </thead>\n",
       "  <tbody>\n",
       "    <tr>\n",
       "      <th>0</th>\n",
       "      <td>2018</td>\n",
       "      <td>2018-05-10</td>\n",
       "      <td>5a</td>\n",
       "      <td>CPC-2014-2906-TDR-SPR</td>\n",
       "      <td>\\n--- AGENDA ITEM ----\\n\\n       5a.  CPC-2014...</td>\n",
       "      <td>---- YOUR RESPONSE FORMAT ----\\n\\nRELATED CASE...</td>\n",
       "      <td>-0.000555</td>\n",
       "      <td>CPC-2014-2906-TDR-SPR, ENV-2014-2907-MND, VTT-...</td>\n",
       "      <td>The agenda item concerns the proposed demoliti...</td>\n",
       "      <td>The City Planning Commission reviewed the proj...</td>\n",
       "      <td>Commissioner Millman proposed a motion to appr...</td>\n",
       "      <td>Millman, Mitchell, Choe, Khorsand, Perlman, Da...</td>\n",
       "      <td>NONE</td>\n",
       "      <td>Ambroz, Padilla-Campos</td>\n",
       "      <td>MOTION PASSED</td>\n",
       "      <td>NO APPEAL</td>\n",
       "      <td>APPROVED</td>\n",
       "    </tr>\n",
       "    <tr>\n",
       "      <th>1</th>\n",
       "      <td>2018</td>\n",
       "      <td>2018-05-10</td>\n",
       "      <td>6</td>\n",
       "      <td>DIR-2017-4872-TOC-1A</td>\n",
       "      <td>\\n--- AGENDA ITEM ----\\n\\n       6.   DIR-2017...</td>\n",
       "      <td>---- YOUR RESPONSE FORMAT ----\\n\\nRELATED CASE...</td>\n",
       "      <td>-0.000997</td>\n",
       "      <td>DIR-2017-4872-TOC-1A, ENV-2017-4873-CE</td>\n",
       "      <td>The agenda item involves the proposed demoliti...</td>\n",
       "      <td>The City Planning Commission held a public hea...</td>\n",
       "      <td>The motion proposed by Commissioner Dake Wilso...</td>\n",
       "      <td>Dake Wilson, Khorsand, Choe, Millman, Mitchell...</td>\n",
       "      <td>NONE</td>\n",
       "      <td>Ambroz, Padilla-Campos</td>\n",
       "      <td>MOTION PASSED</td>\n",
       "      <td>APPEAL GRANTED IN PART</td>\n",
       "      <td>APPROVED WITH MINOR CHANGES</td>\n",
       "    </tr>\n",
       "  </tbody>\n",
       "</table>\n",
       "</div>"
      ],
      "text/plain": [
       "   year        date item_no                  title  \\\n",
       "0  2018  2018-05-10      5a  CPC-2014-2906-TDR-SPR   \n",
       "1  2018  2018-05-10       6   DIR-2017-4872-TOC-1A   \n",
       "\n",
       "                                              prompt  \\\n",
       "0  \\n--- AGENDA ITEM ----\\n\\n       5a.  CPC-2014...   \n",
       "1  \\n--- AGENDA ITEM ----\\n\\n       6.   DIR-2017...   \n",
       "\n",
       "                                            response     score  \\\n",
       "0  ---- YOUR RESPONSE FORMAT ----\\n\\nRELATED CASE... -0.000555   \n",
       "1  ---- YOUR RESPONSE FORMAT ----\\n\\nRELATED CASE... -0.000997   \n",
       "\n",
       "                                       related_cases  \\\n",
       "0  CPC-2014-2906-TDR-SPR, ENV-2014-2907-MND, VTT-...   \n",
       "1             DIR-2017-4872-TOC-1A, ENV-2017-4873-CE   \n",
       "\n",
       "                                 agenda_item_summary  \\\n",
       "0  The agenda item concerns the proposed demoliti...   \n",
       "1  The agenda item involves the proposed demoliti...   \n",
       "\n",
       "                               deliberations_summary  \\\n",
       "0  The City Planning Commission reviewed the proj...   \n",
       "1  The City Planning Commission held a public hea...   \n",
       "\n",
       "                                      motion_summary  \\\n",
       "0  Commissioner Millman proposed a motion to appr...   \n",
       "1  The motion proposed by Commissioner Dake Wilso...   \n",
       "\n",
       "                                           votes_for votes_against  \\\n",
       "0  Millman, Mitchell, Choe, Khorsand, Perlman, Da...          NONE   \n",
       "1  Dake Wilson, Khorsand, Choe, Millman, Mitchell...          NONE   \n",
       "\n",
       "             votes_absent    vote_result           appeal_result  \\\n",
       "0  Ambroz, Padilla-Campos  MOTION PASSED               NO APPEAL   \n",
       "1  Ambroz, Padilla-Campos  MOTION PASSED  APPEAL GRANTED IN PART   \n",
       "\n",
       "                project_result  \n",
       "0                     APPROVED  \n",
       "1  APPROVED WITH MINOR CHANGES  "
      ]
     },
     "execution_count": 8,
     "metadata": {},
     "output_type": "execute_result"
    }
   ],
   "source": [
    "print(\"*** EXAMPLE OF A MINUTES ITEM ***\")\n",
    "df3.loc[0:1]"
   ]
  },
  {
   "cell_type": "code",
   "execution_count": 9,
   "id": "80c0db11-319c-40b6-a344-35e179452dd2",
   "metadata": {},
   "outputs": [],
   "source": [
    "df3['n_support'] = 0\n",
    "df3['n_oppose'] = 0\n",
    "for idx, irow in df3.iterrows():\n",
    "    date = irow['date']\n",
    "    item_no = irow['item_no']\n",
    "    for jdx, jrow in df2.loc[df2['date']==date].iterrows():\n",
    "        referenced_items = [s.strip() for s in jrow['referenced_items'].split(',')]\n",
    "        support_or_oppose = jrow['support_or_oppose']\n",
    "        if item_no in referenced_items:\n",
    "            df3.loc[idx, 'n_support'] += 1*(support_or_oppose in SUPPORT_TAGS)\n",
    "            df3.loc[idx, 'n_oppose'] += 1*(support_or_oppose in OPPOSE_TAGS)"
   ]
  },
  {
   "cell_type": "code",
   "execution_count": 10,
   "id": "0b3eee7f-68d7-4ed8-80ae-2a4fa1a7992b",
   "metadata": {},
   "outputs": [
    {
     "name": "stdout",
     "output_type": "stream",
     "text": [
      "*** DISTRIBUTION OF MOTION OUTCOMES ***\n"
     ]
    },
    {
     "data": {
      "text/plain": [
       "project_result\n",
       "APPROVED                                  333\n",
       "APPROVED WITH MINOR CHANGES               269\n",
       "DELIBERATIONS CONTINUED TO FUTURE DATE    112\n",
       "DENIED                                     11\n",
       "APPROVED WITH MAJOR CHANGES                 7\n",
       "Name: count, dtype: int64"
      ]
     },
     "execution_count": 10,
     "metadata": {},
     "output_type": "execute_result"
    }
   ],
   "source": [
    "# Show distribution of outcomes\n",
    "print(\"*** DISTRIBUTION OF MOTION OUTCOMES ***\")\n",
    "df3['project_result'].value_counts()"
   ]
  },
  {
   "cell_type": "code",
   "execution_count": 11,
   "id": "0ddbe952-5c46-4b50-98d3-27d5a411a7f7",
   "metadata": {},
   "outputs": [
    {
     "name": "stdout",
     "output_type": "stream",
     "text": [
      "*** DISTRIBUTION OF SUPPORT/OPPOSITION FOR LETTERS ***\n"
     ]
    },
    {
     "data": {
      "text/plain": [
       "support_or_oppose\n",
       "DEFINITELY OPPOSE     2132\n",
       "DEFINITELY SUPPORT    1791\n",
       "SOMEWHAT SUPPORT       308\n",
       "SOMEWHAT OPPOSE        294\n",
       "Name: count, dtype: int64"
      ]
     },
     "execution_count": 11,
     "metadata": {},
     "output_type": "execute_result"
    }
   ],
   "source": [
    "# Show distribution of support/oppose letters\n",
    "print(\"*** DISTRIBUTION OF SUPPORT/OPPOSITION FOR LETTERS ***\")\n",
    "df2['support_or_oppose'].value_counts()"
   ]
  },
  {
   "cell_type": "code",
   "execution_count": 12,
   "id": "3ffd579e-fa9c-4184-bd2e-8396dc0c9667",
   "metadata": {},
   "outputs": [
    {
     "name": "stdout",
     "output_type": "stream",
     "text": [
      "*** DISTRIBUTION OF SUPPORT/OPPOSE BY AUTHOR TYPE ***\n"
     ]
    },
    {
     "data": {
      "text/html": [
       "<div>\n",
       "<style scoped>\n",
       "    .dataframe tbody tr th:only-of-type {\n",
       "        vertical-align: middle;\n",
       "    }\n",
       "\n",
       "    .dataframe tbody tr th {\n",
       "        vertical-align: top;\n",
       "    }\n",
       "\n",
       "    .dataframe thead th {\n",
       "        text-align: right;\n",
       "    }\n",
       "</style>\n",
       "<table border=\"1\" class=\"dataframe\">\n",
       "  <thead>\n",
       "    <tr style=\"text-align: right;\">\n",
       "      <th>support_or_oppose</th>\n",
       "      <th>DEFINITELY OPPOSE</th>\n",
       "      <th>DEFINITELY SUPPORT</th>\n",
       "      <th>SOMEWHAT OPPOSE</th>\n",
       "      <th>SOMEWHAT SUPPORT</th>\n",
       "    </tr>\n",
       "    <tr>\n",
       "      <th>author_type</th>\n",
       "      <th></th>\n",
       "      <th></th>\n",
       "      <th></th>\n",
       "      <th></th>\n",
       "    </tr>\n",
       "  </thead>\n",
       "  <tbody>\n",
       "    <tr>\n",
       "      <th>ADVOCACY GROUP</th>\n",
       "      <td>296</td>\n",
       "      <td>329</td>\n",
       "      <td>74</td>\n",
       "      <td>91</td>\n",
       "    </tr>\n",
       "    <tr>\n",
       "      <th>CONSULTANT</th>\n",
       "      <td>35</td>\n",
       "      <td>112</td>\n",
       "      <td>16</td>\n",
       "      <td>15</td>\n",
       "    </tr>\n",
       "    <tr>\n",
       "      <th>DEVELOPER</th>\n",
       "      <td>2</td>\n",
       "      <td>56</td>\n",
       "      <td>4</td>\n",
       "      <td>9</td>\n",
       "    </tr>\n",
       "    <tr>\n",
       "      <th>INDIVIDUAL</th>\n",
       "      <td>1640</td>\n",
       "      <td>1050</td>\n",
       "      <td>166</td>\n",
       "      <td>156</td>\n",
       "    </tr>\n",
       "    <tr>\n",
       "      <th>LAWYER</th>\n",
       "      <td>146</td>\n",
       "      <td>124</td>\n",
       "      <td>23</td>\n",
       "      <td>18</td>\n",
       "    </tr>\n",
       "    <tr>\n",
       "      <th>OTHER</th>\n",
       "      <td>7</td>\n",
       "      <td>14</td>\n",
       "      <td>2</td>\n",
       "      <td>1</td>\n",
       "    </tr>\n",
       "    <tr>\n",
       "      <th>PUBLIC OFFICIAL</th>\n",
       "      <td>6</td>\n",
       "      <td>106</td>\n",
       "      <td>9</td>\n",
       "      <td>18</td>\n",
       "    </tr>\n",
       "  </tbody>\n",
       "</table>\n",
       "</div>"
      ],
      "text/plain": [
       "support_or_oppose  DEFINITELY OPPOSE  DEFINITELY SUPPORT  SOMEWHAT OPPOSE  \\\n",
       "author_type                                                                 \n",
       "ADVOCACY GROUP                   296                 329               74   \n",
       "CONSULTANT                        35                 112               16   \n",
       "DEVELOPER                          2                  56                4   \n",
       "INDIVIDUAL                      1640                1050              166   \n",
       "LAWYER                           146                 124               23   \n",
       "OTHER                              7                  14                2   \n",
       "PUBLIC OFFICIAL                    6                 106                9   \n",
       "\n",
       "support_or_oppose  SOMEWHAT SUPPORT  \n",
       "author_type                          \n",
       "ADVOCACY GROUP                   91  \n",
       "CONSULTANT                       15  \n",
       "DEVELOPER                         9  \n",
       "INDIVIDUAL                      156  \n",
       "LAWYER                           18  \n",
       "OTHER                             1  \n",
       "PUBLIC OFFICIAL                  18  "
      ]
     },
     "execution_count": 12,
     "metadata": {},
     "output_type": "execute_result"
    }
   ],
   "source": [
    "# Distribution of support or oppose \n",
    "print(\"*** DISTRIBUTION OF SUPPORT/OPPOSE BY AUTHOR TYPE ***\")\n",
    "pd.crosstab(df2['author_type'], df2['support_or_oppose'])"
   ]
  },
  {
   "cell_type": "code",
   "execution_count": 13,
   "id": "52a8895b-2e78-4caf-844f-51dbe9f900bc",
   "metadata": {},
   "outputs": [
    {
     "data": {
      "image/png": "[encoded data removed]",
      "text/plain": [
       "<Figure size 600x400 with 1 Axes>"
      ]
     },
     "metadata": {},
     "output_type": "display_data"
    }
   ],
   "source": [
    "plt.figure(figsize=(6,4))\n",
    "plt.hist(np.log10(df3['n_support']+1), alpha=0.8, color='blue', label='support')\n",
    "plt.hist(-np.log10(df3['n_oppose']+1), alpha=0.8, color='orange', label='oppose')\n",
    "plt.xlabel('log10(# Letters)')\n",
    "plt.legend()\n",
    "plt.grid(axis='y', alpha=0.2)\n",
    "plt.gca().set_axisbelow(True)\n",
    "plt.title(\"Distribution of # Support/Oppose Letters by Project\")\n",
    "plt.show()"
   ]
  },
  {
   "cell_type": "code",
   "execution_count": 14,
   "id": "b44e0f3f-1efc-491f-9757-a12a4d607ada",
   "metadata": {},
   "outputs": [
    {
     "name": "stdout",
     "output_type": "stream",
     "text": [
      "Optimization terminated successfully.\n",
      "         Current function value: 0.453977\n",
      "         Iterations 6\n"
     ]
    },
    {
     "data": {
      "text/html": [
       "Logit Regression: Success=Approve/Approve with Minor Changes<br><table style=\"text-align:center\"><tr><td colspan=\"2\" style=\"border-bottom: 1px solid black\"></td></tr>\n",
       "<tr><td style=\"text-align:left\"></td><td colspan=\"1\"><em>Dependent variable: project_result</em></td></tr><tr><td style=\"text-align:left\"></td><tr><td style=\"text-align:left\"></td><td>(1)</td></tr>\n",
       "<tr><td colspan=\"2\" style=\"border-bottom: 1px solid black\"></td></tr>\n",
       "\n",
       "<tr><td style=\"text-align:left\">const</td><td>1.602<sup>***</sup></td></tr>\n",
       "<tr><td style=\"text-align:left\"></td><td>(0.135)</td></tr>\n",
       "<tr><td style=\"text-align:left\">log2_oppose</td><td>-0.305<sup>***</sup></td></tr>\n",
       "<tr><td style=\"text-align:left\"></td><td>(0.071)</td></tr>\n",
       "<tr><td style=\"text-align:left\">log2_support</td><td>0.279<sup>***</sup></td></tr>\n",
       "<tr><td style=\"text-align:left\"></td><td>(0.090)</td></tr>\n",
       "\n",
       "<td colspan=\"2\" style=\"border-bottom: 1px solid black\"></td></tr>\n",
       "<tr><td style=\"text-align: left\">Observations</td><td>732</td></tr><tr><td style=\"text-align: left\">Pseudo R<sup>2</sup></td><td>0.029</td></tr>\n",
       "<tr><td colspan=\"2\" style=\"border-bottom: 1px solid black\"></td></tr><tr><td style=\"text-align: left\">Note:</td><td colspan=\"1\" style=\"text-align: right\"><sup>*</sup>p&lt;0.1; <sup>**</sup>p&lt;0.05; <sup>***</sup>p&lt;0.01</td></tr></table>"
      ],
      "text/plain": [
       "<IPython.core.display.HTML object>"
      ]
     },
     "execution_count": 14,
     "metadata": {},
     "output_type": "execute_result"
    }
   ],
   "source": [
    "df3['log2_support'] = np.log(df3['n_support']+1)/np.log(2)\n",
    "df3['log2_oppose'] = np.log(df3['n_oppose']+1)/np.log(2)\n",
    "\n",
    "approve_tags = ['APPROVED', 'APPROVED WITH MINOR CHANGES']\n",
    "predictors = ['log2_support', 'log2_oppose']\n",
    "\n",
    "y = df3['project_result'].isin(approve_tags)\n",
    "X = sm.add_constant(df3[predictors])\n",
    "\n",
    "model = sm.Logit(y, X).fit()\n",
    "\n",
    "sg = Stargazer([model])\n",
    "sg.title(title=\"Logit Regression: Success=Approve/Approve with Minor Changes\")\n",
    "HTML(sg.render_html())"
   ]
  },
  {
   "cell_type": "code",
   "execution_count": 15,
   "id": "52c162d7-1dde-481e-8a93-485a23cfcb86",
   "metadata": {},
   "outputs": [
    {
     "data": {
      "text/plain": [
       "const           4.961529\n",
       "log2_support    1.321559\n",
       "log2_oppose     0.736860\n",
       "dtype: float64"
      ]
     },
     "execution_count": 15,
     "metadata": {},
     "output_type": "execute_result"
    }
   ],
   "source": [
    "params = model.params\n",
    "np.exp(params)"
   ]
  }
 ],
 "metadata": {
  "kernelspec": {
   "display_name": "Python 3 (ipykernel)",
   "language": "python",
   "name": "python3"
  },
  "language_info": {
   "codemirror_mode": {
    "name": "ipython",
    "version": 3
   },
   "file_extension": ".py",
   "mimetype": "text/x-python",
   "name": "python",
   "nbconvert_exporter": "python",
   "pygments_lexer": "ipython3",
   "version": "3.12.10"
  }
 },
 "nbformat": 4,
 "nbformat_minor": 5
}

{
 "cells": [
  {
   "cell_type": "code",
   "execution_count": 1,
   "id": "453d2659-707e-4355-83cb-7c8f5734c52d",
   "metadata": {},
   "outputs": [],
   "source": [
    "import os\n",
    "import sys\n",
    "import time\n",
    "import yaml\n",
    "import pandas as pd\n",
    "import numpy as np\n",
    "import re\n",
    "\n",
    "with open('../../config.local.yaml', 'r') as f:\n",
    "    local_config = yaml.safe_load(f)\n",
    "\n",
    "LOCAL_PATH = local_config['LOCAL_PATH']\n",
    "\n",
    "sys.path.append(os.path.join(LOCAL_PATH, \"src/python\"))\n",
    "\n",
    "import data_tools as dt\n",
    "\n",
    "from matplotlib import pyplot as plt\n",
    "from sklearn.linear_model import LogisticRegression\n",
    "from IPython.core.display import HTML\n",
    "from sklearn.linear_model import LogisticRegression\n",
    "import statsmodels.api as sm\n",
    "from stargazer.stargazer import Stargazer\n",
    "\n",
    "rng = np.random.default_rng(12898)\n",
    "\n",
    "SUPPORT_TAGS = ['DEFINITELY SUPPORT', 'SOMEWHAT SUPPORT']\n",
    "OPPOSE_TAGS = ['DEFINITELY OPPOSE', 'SOMEWHAT OPPOSE']\n",
    "ORDERED_TAGS = ['DEFINITELY SUPPORT', 'SOMEWHAT SUPPORT', 'SOMEWHAT OPPOSE', 'DEFINITELY OPPOSE']\n",
    "\n",
    "APPROVE_TAGS = ['APPROVED', 'APPROVED IN PART OR WITH MODIFICATIONS']\n",
    "\n"
   ]
  },
  {
   "cell_type": "markdown",
   "id": "6c5f4a39-10fc-479c-95d7-c74527b0b185",
   "metadata": {},
   "source": [
    "## Data Preparation"
   ]
  },
  {
   "cell_type": "code",
   "execution_count": 2,
   "id": "2065f71b-2cdf-482a-bad6-aac9611ce725",
   "metadata": {},
   "outputs": [],
   "source": [
    "dfa = dt.get_agenda_items(verbose=False)\n",
    "dfm = dt.get_minutes(verbose=False)\n",
    "dfl = dt.get_supplemental_docs(verbose=False)"
   ]
  },
  {
   "cell_type": "code",
   "execution_count": 3,
   "id": "197393a1-557f-40ab-aaad-6bfccbb36bdc",
   "metadata": {},
   "outputs": [],
   "source": [
    "# Keep only applications not withdrawn\n",
    "idx = dfm['project_result']!='APPLICATION WITHDRAWN'\n",
    "dfm = dfm.loc[idx].reset_index(drop=True)"
   ]
  },
  {
   "cell_type": "code",
   "execution_count": 4,
   "id": "4480fc36-7885-49c7-b225-f56b27c7eea7",
   "metadata": {},
   "outputs": [],
   "source": [
    "# Keep only supporting or opposing letters\n",
    "idx = dfl['support_or_oppose'].isin(SUPPORT_TAGS + OPPOSE_TAGS)\n",
    "dfl = dfl.loc[idx].reset_index(drop=True)"
   ]
  },
  {
   "cell_type": "code",
   "execution_count": 5,
   "id": "ae05f757-1bca-44d3-aabb-a8ec018b9199",
   "metadata": {},
   "outputs": [],
   "source": [
    "# Count support and opposition for minutes items\n",
    "for so in ['support', 'oppose']:\n",
    "    for typ in ['', 'individual', 'official', 'other']:\n",
    "        dfm[f'n_{typ}_{so}'] = 0\n",
    "        \n",
    "for idx, irow in dfm.iterrows():\n",
    "    date = irow['date']\n",
    "    item_no = irow['item_no']\n",
    "    for jdx, jrow in dfl.loc[dfl['date']==date].iterrows():\n",
    "        referenced_items = [s.strip() for s in jrow['referenced_items'].split(',')]\n",
    "        is_so = {}\n",
    "        is_so['support'] = jrow['support_or_oppose'] in SUPPORT_TAGS\n",
    "        is_so['oppose'] = jrow['support_or_oppose'] in OPPOSE_TAGS\n",
    "        is_type = {}\n",
    "        is_type[''] = 1\n",
    "        is_type['individual'] = 1*(jrow['author_type']=='INDIVIDUAL')\n",
    "        is_type['official'] = 1*(jrow['author_type']=='PUBLIC OFFICIAL')\n",
    "        is_type['other'] = 1 - is_type['individual'] - is_type['official']\n",
    "        if item_no in referenced_items:\n",
    "            for so in ['support', 'oppose']:\n",
    "                for typ in ['', 'individual', 'official', 'other']:\n",
    "                    dfm.loc[idx, f'n_{typ}_{so}'] += is_type[typ]*is_so[so]"
   ]
  },
  {
   "cell_type": "code",
   "execution_count": 6,
   "id": "3625358e-10fe-466c-989c-32dd58356582",
   "metadata": {},
   "outputs": [],
   "source": [
    "# Deliberation order for minutes items\n",
    "dfm['deliberation_order'] = dfm.groupby('date')[\n",
    "    'minutes_start_line'\n",
    "].rank(method='dense', ascending=True)"
   ]
  },
  {
   "cell_type": "code",
   "execution_count": 7,
   "id": "586f786e-f17b-4416-8582-f01c063d1805",
   "metadata": {},
   "outputs": [],
   "source": [
    "# Agenda item order\n",
    "def split_item_no(x):\n",
    "    match = re.match(r'(\\d+)([a-zA-Z]*)', x)\n",
    "    if match:\n",
    "        return int(match.group(1)), match.group(2)\n",
    "    else:\n",
    "        return int(match.group(1)), ''\n",
    "\n",
    "dfm[['item_no_num', 'item_no_sfx']] = dfm['item_no'].apply(lambda x: pd.Series(split_item_no(x)))\n",
    "\n",
    "dfm['agenda_order'] = (\n",
    "    dfm.sort_values(by=['date','item_no_num','item_no_sfx'])\n",
    "       .groupby(['date'])\n",
    "       .cumcount()+1\n",
    ")"
   ]
  },
  {
   "cell_type": "code",
   "execution_count": 8,
   "id": "e6961800-4a00-4d08-b6e8-26283ec76955",
   "metadata": {},
   "outputs": [],
   "source": [
    "# Total number of agenda items for each meeting\n",
    "tempdf = dfa.groupby('date').agg(num_agenda_items=('item_no','count')).reset_index()\n",
    "dfm = dfm.merge(tempdf, on='date', how='left')"
   ]
  },
  {
   "cell_type": "code",
   "execution_count": 9,
   "id": "74251e02-9fa6-4ab2-8183-6f8c0103fe6c",
   "metadata": {},
   "outputs": [],
   "source": [
    "# consent calendar indicator\n",
    "tempdf = dfa[['date', 'item_no', 'is_cc_part']]\n",
    "dfm = dfm.merge(tempdf, on=['date', 'item_no'], how='left')\n",
    "dfm['consent_calendar'] = 1*dfm['is_cc_part']"
   ]
  },
  {
   "cell_type": "code",
   "execution_count": 10,
   "id": "aa83b592-2be7-46c9-abed-e5a1cc21c406",
   "metadata": {},
   "outputs": [],
   "source": [
    "# agenda perplexity\n",
    "tempdf = dfa[['date', 'item_no', 'perplexity']].rename(columns={'perplexity': 'agenda_perplexity'})\n",
    "dfm = dfm.merge(tempdf, on=['date', 'item_no'], how='left')"
   ]
  },
  {
   "cell_type": "code",
   "execution_count": 11,
   "id": "12316a39-a6f8-4d6c-bad0-54b4e530b273",
   "metadata": {},
   "outputs": [],
   "source": [
    "# time to act\n",
    "tempdf = dfa[['date', 'item_no', 'last_day_to_act']].copy()\n",
    "tempdf['time_to_act'] = (tempdf['last_day_to_act'] - pd.to_datetime(tempdf['date'], errors='coerce')) / pd.to_timedelta(1,unit='D')\n",
    "dfm = dfm.merge(tempdf, on=['date', 'item_no'], how='left')"
   ]
  },
  {
   "cell_type": "code",
   "execution_count": 12,
   "id": "ac3cd993-593f-4a02-8b94-51e72ba205bc",
   "metadata": {},
   "outputs": [],
   "source": [
    "# appealed\n",
    "tempdf = dfa[['date', 'item_no', 'appealed']].copy()\n",
    "dfm = dfm.merge(tempdf, on=['date', 'item_no'], how='left')\n",
    "dfm['appealed'] = 1*dfm['appealed']"
   ]
  },
  {
   "cell_type": "code",
   "execution_count": 13,
   "id": "875a02f5-1b47-4451-a5ca-bd976a882be0",
   "metadata": {},
   "outputs": [],
   "source": [
    "# number laws\n",
    "tempdf = dfa[['date', 'item_no', 'relevant_laws']].copy()\n",
    "tempdf['num_referenced_laws'] = tempdf['relevant_laws'].apply(lambda x: len(x.split('\\n')))\n",
    "dfm = dfm.merge(tempdf, on=['date', 'item_no'], how='left')"
   ]
  },
  {
   "cell_type": "code",
   "execution_count": 14,
   "id": "24c745bc-5ad2-484a-b01e-f63528482578",
   "metadata": {},
   "outputs": [],
   "source": [
    "# Export data to CSV\n",
    "df_out = dfm.copy().rename(columns={\n",
    "    'perplexity': 'minutes_perplexity',\n",
    "})\n",
    "mycols = [\n",
    "    'year', 'date', 'item_no', 'title', 'related_cases',\n",
    "    'agenda_content', 'agenda_perplexity', 'agenda_order', 'num_agenda_items', 'consent_calendar',\n",
    "    'minutes_content', 'minutes_perplexity', 'agenda_item_summary', 'deliberations_summary', 'motion_summary',\n",
    "    'appealed', 'relevant_laws', 'num_referenced_laws',\n",
    "    'moved', 'seconded', 'ayes', 'nays', 'abstained', 'recused', 'absent', 'vote_result', \n",
    "    'n_ayes', 'n_nays', 'n_abstained', 'n_recused', 'n_absent', \n",
    "    'appeal_result', 'project_result', \n",
    "    'n__support', 'n__oppose', 'n_individual_support', 'n_individual_oppose', \n",
    "    'n_official_support', 'n_official_oppose', 'n_other_support', 'n_other_oppose'\n",
    "]\n",
    "df_out[mycols].to_csv(os.path.join(LOCAL_PATH, \"intermediate_data/cpc/export-for-joe.csv\"), header=True, index=False)"
   ]
  },
  {
   "cell_type": "markdown",
   "id": "86194ea9-4880-4ff6-8110-b9bd9028b55b",
   "metadata": {},
   "source": [
    "## Descriptive Data"
   ]
  },
  {
   "cell_type": "code",
   "execution_count": 15,
   "id": "f2ba401e-9d09-459b-a78c-d7507887fe7e",
   "metadata": {},
   "outputs": [
    {
     "data": {
      "text/plain": [
       "project_result\n",
       "APPROVED                                  392\n",
       "APPROVED IN PART OR WITH MODIFICATIONS    216\n",
       "DELIBERATIONS CONTINUED TO FUTURE DATE    112\n",
       "DENIED                                      7\n",
       "Name: count, dtype: int64"
      ]
     },
     "execution_count": 15,
     "metadata": {},
     "output_type": "execute_result"
    }
   ],
   "source": [
    "# Results\n",
    "dfm['project_result'].fillna('N/A').value_counts()"
   ]
  },
  {
   "cell_type": "code",
   "execution_count": 16,
   "id": "29dcdf6d-5d26-4de9-b5b0-f176cc8edd54",
   "metadata": {},
   "outputs": [
    {
     "data": {
      "text/plain": [
       "support_or_oppose\n",
       "DEFINITELY OPPOSE     2136\n",
       "DEFINITELY SUPPORT    1793\n",
       "SOMEWHAT SUPPORT       298\n",
       "SOMEWHAT OPPOSE        296\n",
       "Name: count, dtype: int64"
      ]
     },
     "execution_count": 16,
     "metadata": {},
     "output_type": "execute_result"
    }
   ],
   "source": [
    "# Support/oppose\n",
    "dfl['support_or_oppose'].fillna('N/A').value_counts()"
   ]
  },
  {
   "cell_type": "code",
   "execution_count": 17,
   "id": "06a54d21-69cc-42bd-a18a-756895c524df",
   "metadata": {},
   "outputs": [
    {
     "data": {
      "text/html": [
       "<div>\n",
       "<style scoped>\n",
       "    .dataframe tbody tr th:only-of-type {\n",
       "        vertical-align: middle;\n",
       "    }\n",
       "\n",
       "    .dataframe tbody tr th {\n",
       "        vertical-align: top;\n",
       "    }\n",
       "\n",
       "    .dataframe thead th {\n",
       "        text-align: right;\n",
       "    }\n",
       "</style>\n",
       "<table border=\"1\" class=\"dataframe\">\n",
       "  <thead>\n",
       "    <tr style=\"text-align: right;\">\n",
       "      <th>support_or_oppose</th>\n",
       "      <th>DEFINITELY SUPPORT</th>\n",
       "      <th>SOMEWHAT SUPPORT</th>\n",
       "      <th>SOMEWHAT OPPOSE</th>\n",
       "      <th>DEFINITELY OPPOSE</th>\n",
       "    </tr>\n",
       "    <tr>\n",
       "      <th>author_type</th>\n",
       "      <th></th>\n",
       "      <th></th>\n",
       "      <th></th>\n",
       "      <th></th>\n",
       "    </tr>\n",
       "  </thead>\n",
       "  <tbody>\n",
       "    <tr>\n",
       "      <th>ADVOCACY GROUP</th>\n",
       "      <td>333</td>\n",
       "      <td>86</td>\n",
       "      <td>71</td>\n",
       "      <td>302</td>\n",
       "    </tr>\n",
       "    <tr>\n",
       "      <th>CONSULTANT</th>\n",
       "      <td>107</td>\n",
       "      <td>19</td>\n",
       "      <td>15</td>\n",
       "      <td>36</td>\n",
       "    </tr>\n",
       "    <tr>\n",
       "      <th>DEVELOPER</th>\n",
       "      <td>53</td>\n",
       "      <td>8</td>\n",
       "      <td>4</td>\n",
       "      <td>2</td>\n",
       "    </tr>\n",
       "    <tr>\n",
       "      <th>INDIVIDUAL</th>\n",
       "      <td>1052</td>\n",
       "      <td>153</td>\n",
       "      <td>168</td>\n",
       "      <td>1636</td>\n",
       "    </tr>\n",
       "    <tr>\n",
       "      <th>LAWYER</th>\n",
       "      <td>129</td>\n",
       "      <td>15</td>\n",
       "      <td>24</td>\n",
       "      <td>147</td>\n",
       "    </tr>\n",
       "    <tr>\n",
       "      <th>OTHER</th>\n",
       "      <td>13</td>\n",
       "      <td>2</td>\n",
       "      <td>4</td>\n",
       "      <td>8</td>\n",
       "    </tr>\n",
       "    <tr>\n",
       "      <th>PUBLIC OFFICIAL</th>\n",
       "      <td>106</td>\n",
       "      <td>15</td>\n",
       "      <td>10</td>\n",
       "      <td>5</td>\n",
       "    </tr>\n",
       "  </tbody>\n",
       "</table>\n",
       "</div>"
      ],
      "text/plain": [
       "support_or_oppose  DEFINITELY SUPPORT  SOMEWHAT SUPPORT  SOMEWHAT OPPOSE  \\\n",
       "author_type                                                                \n",
       "ADVOCACY GROUP                    333                86               71   \n",
       "CONSULTANT                        107                19               15   \n",
       "DEVELOPER                          53                 8                4   \n",
       "INDIVIDUAL                       1052               153              168   \n",
       "LAWYER                            129                15               24   \n",
       "OTHER                              13                 2                4   \n",
       "PUBLIC OFFICIAL                   106                15               10   \n",
       "\n",
       "support_or_oppose  DEFINITELY OPPOSE  \n",
       "author_type                           \n",
       "ADVOCACY GROUP                   302  \n",
       "CONSULTANT                        36  \n",
       "DEVELOPER                          2  \n",
       "INDIVIDUAL                      1636  \n",
       "LAWYER                           147  \n",
       "OTHER                              8  \n",
       "PUBLIC OFFICIAL                    5  "
      ]
     },
     "execution_count": 17,
     "metadata": {},
     "output_type": "execute_result"
    }
   ],
   "source": [
    "# Support/oppose by author type\n",
    "dfl['support_or_oppose'] = pd.Categorical(\n",
    "    dfl['support_or_oppose'], categories=ORDERED_TAGS, ordered=True\n",
    ")\n",
    "pd.crosstab(dfl['author_type'].fillna('N/A'), dfl['support_or_oppose'])"
   ]
  },
  {
   "cell_type": "code",
   "execution_count": 18,
   "id": "52a8895b-2e78-4caf-844f-51dbe9f900bc",
   "metadata": {},
   "outputs": [
    {
     "data": {
      "image/png": "[encoded data removed]",
      "text/plain": [
       "<Figure size 600x400 with 1 Axes>"
      ]
     },
     "metadata": {},
     "output_type": "display_data"
    }
   ],
   "source": [
    "plt.figure(figsize=(6,4))\n",
    "plt.hist(np.log10(dfm['n__support']+1), alpha=0.8, color='blue', label='support')\n",
    "plt.hist(-np.log10(dfm['n__oppose']+1), alpha=0.8, color='orange', label='oppose')\n",
    "plt.xlabel('log10(# Letters)')\n",
    "plt.legend()\n",
    "plt.grid(axis='y', alpha=0.2)\n",
    "plt.gca().set_axisbelow(True)\n",
    "plt.title(\"Distribution of # Support/Oppose Letters by Project\")\n",
    "plt.show()"
   ]
  },
  {
   "cell_type": "code",
   "execution_count": 19,
   "id": "b44e0f3f-1efc-491f-9757-a12a4d607ada",
   "metadata": {},
   "outputs": [
    {
     "name": "stdout",
     "output_type": "stream",
     "text": [
      "Optimization terminated successfully.\n",
      "         Current function value: 0.445390\n",
      "         Iterations 6\n",
      "Optimization terminated successfully.\n",
      "         Current function value: 0.427123\n",
      "         Iterations 8\n",
      "Optimization terminated successfully.\n",
      "         Current function value: 0.427097\n",
      "         Iterations 8\n",
      "Optimization terminated successfully.\n",
      "         Current function value: 0.421519\n",
      "         Iterations 8\n",
      "Optimization terminated successfully.\n",
      "         Current function value: 0.410539\n",
      "         Iterations 8\n"
     ]
    },
    {
     "data": {
      "text/html": [
       "Logit Regression: Success=Approved/Approved in part or with modifications<br><table style=\"text-align:center\"><tr><td colspan=\"6\" style=\"border-bottom: 1px solid black\"></td></tr>\n",
       "<tr><td style=\"text-align:left\"></td><td colspan=\"5\"><em>Dependent variable: project_result</em></td></tr><tr><td style=\"text-align:left\"></td><tr><td style=\"text-align:left\"></td><td>(1)</td><td>(2)</td><td>(3)</td><td>(4)</td><td>(5)</td></tr>\n",
       "<tr><td colspan=\"6\" style=\"border-bottom: 1px solid black\"></td></tr>\n",
       "\n",
       "<tr><td style=\"text-align:left\">const</td><td>1.810<sup>***</sup></td><td>1.610<sup>***</sup></td><td>1.610<sup>***</sup></td><td>0.923<sup>**</sup></td><td>0.837<sup>**</sup></td></tr>\n",
       "<tr><td style=\"text-align:left\"></td><td>(0.274)</td><td>(0.284)</td><td>(0.284)</td><td>(0.372)</td><td>(0.396)</td></tr>\n",
       "<tr><td style=\"text-align:left\">num_agenda_items</td><td>-0.030<sup></sup></td><td>-0.081<sup></sup></td><td>-0.080<sup></sup></td><td>-0.062<sup></sup></td><td>-0.051<sup></sup></td></tr>\n",
       "<tr><td style=\"text-align:left\"></td><td>(0.043)</td><td>(0.055)</td><td>(0.055)</td><td>(0.056)</td><td>(0.057)</td></tr>\n",
       "<tr><td style=\"text-align:left\">consent_calendar</td><td></td><td>2.365<sup>***</sup></td><td>2.368<sup>***</sup></td><td>2.272<sup>***</sup></td><td>2.279<sup>***</sup></td></tr>\n",
       "<tr><td style=\"text-align:left\"></td><td></td><td>(0.619)</td><td>(0.619)</td><td>(0.621)</td><td>(0.624)</td></tr>\n",
       "<tr><td style=\"text-align:left\">agenda_order</td><td></td><td>0.077<sup></sup></td><td>0.077<sup></sup></td><td>0.061<sup></sup></td><td>0.043<sup></sup></td></tr>\n",
       "<tr><td style=\"text-align:left\"></td><td></td><td>(0.065)</td><td>(0.065)</td><td>(0.065)</td><td>(0.067)</td></tr>\n",
       "<tr><td style=\"text-align:left\">appealed</td><td></td><td>0.083<sup></sup></td><td>0.071<sup></sup></td><td>0.170<sup></sup></td><td>0.262<sup></sup></td></tr>\n",
       "<tr><td style=\"text-align:left\"></td><td></td><td>(0.217)</td><td>(0.225)</td><td>(0.228)</td><td>(0.233)</td></tr>\n",
       "<tr><td style=\"text-align:left\">agenda_perplexity_z</td><td></td><td></td><td>0.020<sup></sup></td><td>0.036<sup></sup></td><td>0.026<sup></sup></td></tr>\n",
       "<tr><td style=\"text-align:left\"></td><td></td><td></td><td>(0.104)</td><td>(0.104)</td><td>(0.106)</td></tr>\n",
       "<tr><td style=\"text-align:left\">num_referenced_laws</td><td></td><td></td><td></td><td>0.152<sup>***</sup></td><td>0.151<sup>***</sup></td></tr>\n",
       "<tr><td style=\"text-align:left\"></td><td></td><td></td><td></td><td>(0.055)</td><td>(0.055)</td></tr>\n",
       "<tr><td style=\"text-align:left\">log2__support</td><td></td><td></td><td></td><td></td><td>0.314<sup>***</sup></td></tr>\n",
       "<tr><td style=\"text-align:left\"></td><td></td><td></td><td></td><td></td><td>(0.096)</td></tr>\n",
       "<tr><td style=\"text-align:left\">log2__oppose</td><td></td><td></td><td></td><td></td><td>-0.242<sup>***</sup></td></tr>\n",
       "<tr><td style=\"text-align:left\"></td><td></td><td></td><td></td><td></td><td>(0.075)</td></tr>\n",
       "\n",
       "<td colspan=\"6\" style=\"border-bottom: 1px solid black\"></td></tr>\n",
       "<tr><td style=\"text-align: left\">Observations</td><td>727</td><td>727</td><td>727</td><td>727</td><td>727</td></tr><tr><td style=\"text-align: left\">Pseudo R<sup>2</sup></td><td>0.001</td><td>0.042</td><td>0.042</td><td>0.054</td><td>0.079</td></tr>\n",
       "<tr><td colspan=\"6\" style=\"border-bottom: 1px solid black\"></td></tr><tr><td style=\"text-align: left\">Note:</td><td colspan=\"5\" style=\"text-align: right\"><sup>*</sup>p&lt;0.1; <sup>**</sup>p&lt;0.05; <sup>***</sup>p&lt;0.01</td></tr></table>"
      ],
      "text/plain": [
       "<stargazer.stargazer.Stargazer at 0x316acfcd0>"
      ]
     },
     "execution_count": 19,
     "metadata": {},
     "output_type": "execute_result"
    }
   ],
   "source": [
    "for so in ['support', 'oppose']:\n",
    "    for typ in ['', 'individual', 'official', 'other']:\n",
    "        dfm[f'log2_{typ}_{so}'] = np.log(dfm[f'n_{typ}_{so}']+1)/np.log(2)\n",
    "\n",
    "dfm['agenda_perplexity_z'] = (dfm['agenda_perplexity'] - dfm['agenda_perplexity'].mean())/dfm['agenda_perplexity'].std()\n",
    "y = dfm['project_result'].isin(APPROVE_TAGS)\n",
    "\n",
    "v1 = ['num_agenda_items']\n",
    "v2 = ['consent_calendar', 'agenda_order', 'appealed']\n",
    "v3 = ['agenda_perplexity_z']\n",
    "v4 = ['num_referenced_laws']\n",
    "v5 = ['log2__support', 'log2__oppose']\n",
    "\n",
    "specs = [\n",
    "    v1,\n",
    "    v1 + v2,\n",
    "    v1 + v2 + v3,\n",
    "    v1 + v2 + v3 + v4,\n",
    "    v1 + v2 + v3 + v4 + v5\n",
    "]\n",
    "\n",
    "xshow = ['const']\n",
    "for spec in specs:\n",
    "    for v in spec:\n",
    "        if v not in xshow:\n",
    "            xshow.append(v)\n",
    "\n",
    "def reg(spec):\n",
    "    X = sm.add_constant(dfm[spec])\n",
    "    idx = ~y.isna()\n",
    "    for col in X.columns:\n",
    "        idx = idx & (~X[col].isna())\n",
    "    regy = y.loc[idx].reset_index(drop=True)\n",
    "    regX = X.loc[idx].reset_index(drop=True)\n",
    "    return sm.Logit(regy, regX).fit()\n",
    "    \n",
    "models = [reg(spec) for spec in specs]\n",
    "\n",
    "sg = Stargazer(models)\n",
    "sg.covariate_order(xshow)\n",
    "sg.title(title=\"Logit Regression: Success=Approved/Approved in part or with modifications\")\n",
    "sg"
   ]
  }
 ],
 "metadata": {
  "kernelspec": {
   "display_name": "Python 3",
   "language": "python",
   "name": "python3"
  },
  "language_info": {
   "codemirror_mode": {
    "name": "ipython",
    "version": 3
   },
   "file_extension": ".py",
   "mimetype": "text/x-python",
   "name": "python",
   "nbconvert_exporter": "python",
   "pygments_lexer": "ipython3",
   "version": "3.9.6"
  }
 },
 "nbformat": 4,
 "nbformat_minor": 5
}

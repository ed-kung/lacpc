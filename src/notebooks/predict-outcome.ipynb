{
 "cells": [
  {
   "cell_type": "code",
   "execution_count": 1,
   "id": "453d2659-707e-4355-83cb-7c8f5734c52d",
   "metadata": {},
   "outputs": [],
   "source": [
    "import os\n",
    "import sys\n",
    "import time\n",
    "import yaml\n",
    "import pandas as pd\n",
    "import numpy as np\n",
    "\n",
    "with open('../../config.local.yaml', 'r') as f:\n",
    "    local_config = yaml.safe_load(f)\n",
    "\n",
    "LOCAL_PATH = local_config['LOCAL_PATH']\n",
    "\n",
    "sys.path.append(os.path.join(LOCAL_PATH, \"src/python\"))\n",
    "\n",
    "import data_tools as dt\n",
    "\n",
    "from matplotlib import pyplot as plt\n",
    "from sklearn.linear_model import LogisticRegression\n",
    "from IPython.core.display import HTML\n",
    "from sklearn.linear_model import LogisticRegression\n",
    "import statsmodels.api as sm\n",
    "from stargazer.stargazer import Stargazer\n",
    "\n",
    "rng = np.random.default_rng(12898)\n",
    "\n",
    "SUPPORT_TAGS = ['DEFINITELY SUPPORT', 'SOMEWHAT SUPPORT']\n",
    "OPPOSE_TAGS = ['DEFINITELY OPPOSE', 'SOMEWHAT OPPOSE']\n",
    "ORDERED_TAGS = ['DEFINITELY SUPPORT', 'SOMEWHAT SUPPORT', 'SOMEWHAT OPPOSE', 'DEFINITELY OPPOSE']\n",
    "\n",
    "APPROVE_TAGS = ['APPROVED', 'APPROVED IN PART OR WITH MODIFICATIONS']\n",
    "\n"
   ]
  },
  {
   "cell_type": "markdown",
   "id": "6c5f4a39-10fc-479c-95d7-c74527b0b185",
   "metadata": {},
   "source": [
    "## Data Preparation"
   ]
  },
  {
   "cell_type": "code",
   "execution_count": 2,
   "id": "2065f71b-2cdf-482a-bad6-aac9611ce725",
   "metadata": {},
   "outputs": [],
   "source": [
    "dfa = dt.get_agenda_items()\n",
    "dfm = dt.get_minutes(verbose=False)\n",
    "dfl = dt.get_supplemental_docs(verbose=False)"
   ]
  },
  {
   "cell_type": "code",
   "execution_count": 3,
   "id": "197393a1-557f-40ab-aaad-6bfccbb36bdc",
   "metadata": {},
   "outputs": [],
   "source": [
    "# Keep only applications not withdrawn\n",
    "idx = dfm['project_result']!='APPLICATION WITHDRAWN'\n",
    "dfm = dfm.loc[idx].reset_index(drop=True)"
   ]
  },
  {
   "cell_type": "code",
   "execution_count": 4,
   "id": "4480fc36-7885-49c7-b225-f56b27c7eea7",
   "metadata": {},
   "outputs": [],
   "source": [
    "# Keep only supporting or opposing letters\n",
    "idx = dfl['support_or_oppose'].isin(SUPPORT_TAGS + OPPOSE_TAGS)\n",
    "dfl = dfl.loc[idx].reset_index(drop=True)"
   ]
  },
  {
   "cell_type": "code",
   "execution_count": 5,
   "id": "ae05f757-1bca-44d3-aabb-a8ec018b9199",
   "metadata": {},
   "outputs": [],
   "source": [
    "# Count support and opposition for minutes items\n",
    "for so in ['support', 'oppose']:\n",
    "    for typ in ['', 'individual', 'official', 'other']:\n",
    "        dfm[f'n_{typ}_{so}'] = 0\n",
    "        \n",
    "for idx, irow in dfm.iterrows():\n",
    "    date = irow['date']\n",
    "    item_no = irow['item_no']\n",
    "    for jdx, jrow in dfl.loc[dfl['date']==date].iterrows():\n",
    "        referenced_items = [s.strip() for s in jrow['referenced_items'].split(',')]\n",
    "        is_so = {}\n",
    "        is_so['support'] = jrow['support_or_oppose'] in SUPPORT_TAGS\n",
    "        is_so['oppose'] = jrow['support_or_oppose'] in OPPOSE_TAGS\n",
    "        is_type = {}\n",
    "        is_type[''] = 1\n",
    "        is_type['individual'] = 1*(jrow['author_type']=='INDIVIDUAL')\n",
    "        is_type['official'] = 1*(jrow['author_type']=='PUBLIC OFFICIAL')\n",
    "        is_type['other'] = 1 - is_type['individual'] - is_type['official']\n",
    "        if item_no in referenced_items:\n",
    "            for so in ['support', 'oppose']:\n",
    "                for typ in ['', 'individual', 'official', 'other']:\n",
    "                    dfm.loc[idx, f'n_{typ}_{so}'] += is_type[typ]*is_so[so]"
   ]
  },
  {
   "cell_type": "code",
   "execution_count": 6,
   "id": "3625358e-10fe-466c-989c-32dd58356582",
   "metadata": {},
   "outputs": [],
   "source": [
    "# Deliberation order for minutes items\n",
    "dfm['deliberation_order'] = dfm.groupby('date')[\n",
    "    'minutes_start_line'\n",
    "].rank(method='dense', ascending=True)"
   ]
  },
  {
   "cell_type": "code",
   "execution_count": 7,
   "id": "e6961800-4a00-4d08-b6e8-26283ec76955",
   "metadata": {},
   "outputs": [],
   "source": [
    "# Total number of agenda items for each meeting\n",
    "tempdf = dfa.groupby('date').agg(num_agenda_items=('item_no','count')).reset_index()\n",
    "dfm = dfm.merge(tempdf, on='date', how='left')"
   ]
  },
  {
   "cell_type": "code",
   "execution_count": 8,
   "id": "74251e02-9fa6-4ab2-8183-6f8c0103fe6c",
   "metadata": {},
   "outputs": [],
   "source": [
    "# consent calendar indicator\n",
    "tempdf = dfa[['date', 'item_no', 'is_cc_part']]\n",
    "dfm = dfm.merge(tempdf, on=['date', 'item_no'], how='left')\n",
    "dfm['consent_calendar'] = 1*dfm['is_cc_part']"
   ]
  },
  {
   "cell_type": "markdown",
   "id": "86194ea9-4880-4ff6-8110-b9bd9028b55b",
   "metadata": {},
   "source": [
    "## Descriptive Data"
   ]
  },
  {
   "cell_type": "code",
   "execution_count": 9,
   "id": "f2ba401e-9d09-459b-a78c-d7507887fe7e",
   "metadata": {},
   "outputs": [
    {
     "data": {
      "text/plain": [
       "project_result\n",
       "APPROVED                                  396\n",
       "APPROVED IN PART OR WITH MODIFICATIONS    214\n",
       "DELIBERATIONS CONTINUED TO FUTURE DATE    112\n",
       "DENIED                                      7\n",
       "Name: count, dtype: int64"
      ]
     },
     "execution_count": 9,
     "metadata": {},
     "output_type": "execute_result"
    }
   ],
   "source": [
    "# Results\n",
    "dfm['project_result'].fillna('N/A').value_counts()"
   ]
  },
  {
   "cell_type": "code",
   "execution_count": 10,
   "id": "29dcdf6d-5d26-4de9-b5b0-f176cc8edd54",
   "metadata": {},
   "outputs": [
    {
     "data": {
      "text/plain": [
       "support_or_oppose\n",
       "DEFINITELY OPPOSE     2134\n",
       "DEFINITELY SUPPORT    1794\n",
       "SOMEWHAT SUPPORT       305\n",
       "SOMEWHAT OPPOSE        296\n",
       "Name: count, dtype: int64"
      ]
     },
     "execution_count": 10,
     "metadata": {},
     "output_type": "execute_result"
    }
   ],
   "source": [
    "# Support/oppose\n",
    "dfl['support_or_oppose'].fillna('N/A').value_counts()"
   ]
  },
  {
   "cell_type": "code",
   "execution_count": 11,
   "id": "06a54d21-69cc-42bd-a18a-756895c524df",
   "metadata": {},
   "outputs": [
    {
     "data": {
      "text/html": [
       "<div>\n",
       "<style scoped>\n",
       "    .dataframe tbody tr th:only-of-type {\n",
       "        vertical-align: middle;\n",
       "    }\n",
       "\n",
       "    .dataframe tbody tr th {\n",
       "        vertical-align: top;\n",
       "    }\n",
       "\n",
       "    .dataframe thead th {\n",
       "        text-align: right;\n",
       "    }\n",
       "</style>\n",
       "<table border=\"1\" class=\"dataframe\">\n",
       "  <thead>\n",
       "    <tr style=\"text-align: right;\">\n",
       "      <th>support_or_oppose</th>\n",
       "      <th>DEFINITELY SUPPORT</th>\n",
       "      <th>SOMEWHAT SUPPORT</th>\n",
       "      <th>SOMEWHAT OPPOSE</th>\n",
       "      <th>DEFINITELY OPPOSE</th>\n",
       "    </tr>\n",
       "    <tr>\n",
       "      <th>author_type</th>\n",
       "      <th></th>\n",
       "      <th></th>\n",
       "      <th></th>\n",
       "      <th></th>\n",
       "    </tr>\n",
       "  </thead>\n",
       "  <tbody>\n",
       "    <tr>\n",
       "      <th>ADVOCACY GROUP</th>\n",
       "      <td>325</td>\n",
       "      <td>91</td>\n",
       "      <td>74</td>\n",
       "      <td>296</td>\n",
       "    </tr>\n",
       "    <tr>\n",
       "      <th>CONSULTANT</th>\n",
       "      <td>114</td>\n",
       "      <td>13</td>\n",
       "      <td>17</td>\n",
       "      <td>35</td>\n",
       "    </tr>\n",
       "    <tr>\n",
       "      <th>DEVELOPER</th>\n",
       "      <td>55</td>\n",
       "      <td>9</td>\n",
       "      <td>4</td>\n",
       "      <td>3</td>\n",
       "    </tr>\n",
       "    <tr>\n",
       "      <th>INDIVIDUAL</th>\n",
       "      <td>1052</td>\n",
       "      <td>156</td>\n",
       "      <td>165</td>\n",
       "      <td>1643</td>\n",
       "    </tr>\n",
       "    <tr>\n",
       "      <th>LAWYER</th>\n",
       "      <td>124</td>\n",
       "      <td>17</td>\n",
       "      <td>25</td>\n",
       "      <td>145</td>\n",
       "    </tr>\n",
       "    <tr>\n",
       "      <th>OTHER</th>\n",
       "      <td>15</td>\n",
       "      <td>1</td>\n",
       "      <td>2</td>\n",
       "      <td>5</td>\n",
       "    </tr>\n",
       "    <tr>\n",
       "      <th>PUBLIC OFFICIAL</th>\n",
       "      <td>109</td>\n",
       "      <td>18</td>\n",
       "      <td>9</td>\n",
       "      <td>7</td>\n",
       "    </tr>\n",
       "  </tbody>\n",
       "</table>\n",
       "</div>"
      ],
      "text/plain": [
       "support_or_oppose  DEFINITELY SUPPORT  SOMEWHAT SUPPORT  SOMEWHAT OPPOSE  \\\n",
       "author_type                                                                \n",
       "ADVOCACY GROUP                    325                91               74   \n",
       "CONSULTANT                        114                13               17   \n",
       "DEVELOPER                          55                 9                4   \n",
       "INDIVIDUAL                       1052               156              165   \n",
       "LAWYER                            124                17               25   \n",
       "OTHER                              15                 1                2   \n",
       "PUBLIC OFFICIAL                   109                18                9   \n",
       "\n",
       "support_or_oppose  DEFINITELY OPPOSE  \n",
       "author_type                           \n",
       "ADVOCACY GROUP                   296  \n",
       "CONSULTANT                        35  \n",
       "DEVELOPER                          3  \n",
       "INDIVIDUAL                      1643  \n",
       "LAWYER                           145  \n",
       "OTHER                              5  \n",
       "PUBLIC OFFICIAL                    7  "
      ]
     },
     "execution_count": 11,
     "metadata": {},
     "output_type": "execute_result"
    }
   ],
   "source": [
    "# Support/oppose by author type\n",
    "dfl['support_or_oppose'] = pd.Categorical(\n",
    "    dfl['support_or_oppose'], categories=ORDERED_TAGS, ordered=True\n",
    ")\n",
    "pd.crosstab(dfl['author_type'].fillna('N/A'), dfl['support_or_oppose'])"
   ]
  },
  {
   "cell_type": "code",
   "execution_count": 12,
   "id": "52a8895b-2e78-4caf-844f-51dbe9f900bc",
   "metadata": {},
   "outputs": [
    {
     "data": {
      "image/png": "[encoded data removed]",
      "text/plain": [
       "<Figure size 600x400 with 1 Axes>"
      ]
     },
     "metadata": {},
     "output_type": "display_data"
    }
   ],
   "source": [
    "plt.figure(figsize=(6,4))\n",
    "plt.hist(np.log10(dfm['n__support']+1), alpha=0.8, color='blue', label='support')\n",
    "plt.hist(-np.log10(dfm['n__oppose']+1), alpha=0.8, color='orange', label='oppose')\n",
    "plt.xlabel('log10(# Letters)')\n",
    "plt.legend()\n",
    "plt.grid(axis='y', alpha=0.2)\n",
    "plt.gca().set_axisbelow(True)\n",
    "plt.title(\"Distribution of # Support/Oppose Letters by Project\")\n",
    "plt.show()"
   ]
  },
  {
   "cell_type": "code",
   "execution_count": 23,
   "id": "b44e0f3f-1efc-491f-9757-a12a4d607ada",
   "metadata": {},
   "outputs": [
    {
     "name": "stdout",
     "output_type": "stream",
     "text": [
      "Optimization terminated successfully.\n",
      "         Current function value: 0.444508\n",
      "         Iterations 6\n",
      "Optimization terminated successfully.\n",
      "         Current function value: 0.414656\n",
      "         Iterations 8\n",
      "Optimization terminated successfully.\n",
      "         Current function value: 0.404633\n",
      "         Iterations 8\n",
      "Optimization terminated successfully.\n",
      "         Current function value: 0.405924\n",
      "         Iterations 8\n"
     ]
    },
    {
     "data": {
      "text/html": [
       "Logit Regression: Success=Approve/Approve with Minor Changes<br><table style=\"text-align:center\"><tr><td colspan=\"5\" style=\"border-bottom: 1px solid black\"></td></tr>\n",
       "<tr><td style=\"text-align:left\"></td><td colspan=\"4\"><em>Dependent variable: project_result</em></td></tr><tr><td style=\"text-align:left\"></td><tr><td style=\"text-align:left\"></td><td>(1)</td><td>(2)</td><td>(3)</td><td>(4)</td></tr>\n",
       "<tr><td colspan=\"5\" style=\"border-bottom: 1px solid black\"></td></tr>\n",
       "\n",
       "<tr><td style=\"text-align:left\">const</td><td>2.046<sup>***</sup></td><td>2.176<sup>***</sup></td><td>2.061<sup>***</sup></td><td>2.394<sup>***</sup></td></tr>\n",
       "<tr><td style=\"text-align:left\"></td><td>(0.497)</td><td>(0.521)</td><td>(0.548)</td><td>(0.544)</td></tr>\n",
       "<tr><td style=\"text-align:left\">num_agenda_items</td><td>-0.038<sup></sup></td><td>-0.150<sup>***</sup></td><td>-0.137<sup>**</sup></td><td>-0.157<sup>***</sup></td></tr>\n",
       "<tr><td style=\"text-align:left\"></td><td>(0.045)</td><td>(0.053)</td><td>(0.054)</td><td>(0.054)</td></tr>\n",
       "<tr><td style=\"text-align:left\">consent_calendar</td><td></td><td>2.674<sup>***</sup></td><td>2.635<sup>***</sup></td><td>2.592<sup>***</sup></td></tr>\n",
       "<tr><td style=\"text-align:left\"></td><td></td><td>(0.609)</td><td>(0.613)</td><td>(0.612)</td></tr>\n",
       "<tr><td style=\"text-align:left\">deliberation_order</td><td></td><td>0.266<sup>***</sup></td><td>0.246<sup>***</sup></td><td>0.258<sup>***</sup></td></tr>\n",
       "<tr><td style=\"text-align:left\"></td><td></td><td>(0.064)</td><td>(0.064)</td><td>(0.064)</td></tr>\n",
       "<tr><td style=\"text-align:left\">log2__support</td><td></td><td></td><td>0.302<sup>***</sup></td><td></td></tr>\n",
       "<tr><td style=\"text-align:left\"></td><td></td><td></td><td>(0.095)</td><td></td></tr>\n",
       "<tr><td style=\"text-align:left\">log2__oppose</td><td></td><td></td><td>-0.233<sup>***</sup></td><td></td></tr>\n",
       "<tr><td style=\"text-align:left\"></td><td></td><td></td><td>(0.074)</td><td></td></tr>\n",
       "<tr><td style=\"text-align:left\">log2_individual_support</td><td></td><td></td><td></td><td>0.224<sup>*</sup></td></tr>\n",
       "<tr><td style=\"text-align:left\"></td><td></td><td></td><td></td><td>(0.123)</td></tr>\n",
       "<tr><td style=\"text-align:left\">log2_individual_oppose</td><td></td><td></td><td></td><td>-0.177<sup>**</sup></td></tr>\n",
       "<tr><td style=\"text-align:left\"></td><td></td><td></td><td></td><td>(0.085)</td></tr>\n",
       "<tr><td style=\"text-align:left\">n_official_support</td><td></td><td></td><td></td><td>0.014<sup></sup></td></tr>\n",
       "<tr><td style=\"text-align:left\"></td><td></td><td></td><td></td><td>(0.158)</td></tr>\n",
       "<tr><td style=\"text-align:left\">n_official_oppose</td><td></td><td></td><td></td><td>-1.058<sup>*</sup></td></tr>\n",
       "<tr><td style=\"text-align:left\"></td><td></td><td></td><td></td><td>(0.587)</td></tr>\n",
       "<tr><td style=\"text-align:left\">n_other_support</td><td></td><td></td><td></td><td>-0.024<sup></sup></td></tr>\n",
       "<tr><td style=\"text-align:left\"></td><td></td><td></td><td></td><td>(0.052)</td></tr>\n",
       "<tr><td style=\"text-align:left\">n_other_oppose</td><td></td><td></td><td></td><td>0.000<sup></sup></td></tr>\n",
       "<tr><td style=\"text-align:left\"></td><td></td><td></td><td></td><td>(0.048)</td></tr>\n",
       "\n",
       "<td colspan=\"5\" style=\"border-bottom: 1px solid black\"></td></tr>\n",
       "<tr><td style=\"text-align: left\">Observations</td><td>729</td><td>729</td><td>729</td><td>729</td></tr><tr><td style=\"text-align: left\">Pseudo R<sup>2</sup></td><td>0.001</td><td>0.068</td><td>0.091</td><td>0.088</td></tr>\n",
       "<tr><td colspan=\"5\" style=\"border-bottom: 1px solid black\"></td></tr><tr><td style=\"text-align: left\">Note:</td><td colspan=\"4\" style=\"text-align: right\"><sup>*</sup>p&lt;0.1; <sup>**</sup>p&lt;0.05; <sup>***</sup>p&lt;0.01</td></tr></table>"
      ],
      "text/plain": [
       "<stargazer.stargazer.Stargazer at 0x322ac4190>"
      ]
     },
     "execution_count": 23,
     "metadata": {},
     "output_type": "execute_result"
    }
   ],
   "source": [
    "for so in ['support', 'oppose']:\n",
    "    for typ in ['', 'individual', 'official', 'other']:\n",
    "        dfm[f'log2_{typ}_{so}'] = np.log(dfm[f'n_{typ}_{so}']+1)/np.log(2)\n",
    "\n",
    "x1 = ['num_agenda_items']\n",
    "x2 = x1 + ['consent_calendar', 'deliberation_order']\n",
    "x3 = x2 + ['log2__support', 'log2__oppose']\n",
    "x4 = x2 + [\n",
    "    'log2_individual_support', 'log2_individual_oppose',\n",
    "    'n_official_support', 'n_official_oppose',\n",
    "    'n_other_support', 'n_other_oppose'\n",
    "]\n",
    "xshow = ['const'] + x3 + [\n",
    "    'log2_individual_support', 'log2_individual_oppose',\n",
    "    'n_official_support', 'n_official_oppose',\n",
    "    'n_other_support', 'n_other_oppose'\n",
    "]\n",
    "y = dfm['project_result'].isin(APPROVE_TAGS)\n",
    "\n",
    "X1 = sm.add_constant(dfm[x1])\n",
    "X2 = sm.add_constant(dfm[x2])\n",
    "X3 = sm.add_constant(dfm[x3])\n",
    "X4 = sm.add_constant(dfm[x4])\n",
    "\n",
    "mod1 = sm.Logit(y, X1).fit()\n",
    "mod2 = sm.Logit(y, X2).fit()\n",
    "mod3 = sm.Logit(y, X3).fit()\n",
    "mod4 = sm.Logit(y, X4).fit()\n",
    "\n",
    "sg = Stargazer([mod1, mod2, mod3, mod4])\n",
    "sg.covariate_order(xshow)\n",
    "sg.title(title=\"Logit Regression: Success=Approve/Approve with Minor Changes\")\n",
    "sg"
   ]
  },
  {
   "cell_type": "code",
   "execution_count": null,
   "id": "52c162d7-1dde-481e-8a93-485a23cfcb86",
   "metadata": {},
   "outputs": [],
   "source": [
    "dfm['is_cc_part'].astype('int')"
   ]
  }
 ],
 "metadata": {
  "kernelspec": {
   "display_name": "Python 3 (ipykernel)",
   "language": "python",
   "name": "python3"
  },
  "language_info": {
   "codemirror_mode": {
    "name": "ipython",
    "version": 3
   },
   "file_extension": ".py",
   "mimetype": "text/x-python",
   "name": "python",
   "nbconvert_exporter": "python",
   "pygments_lexer": "ipython3",
   "version": "3.9.6"
  }
 },
 "nbformat": 4,
 "nbformat_minor": 5
}

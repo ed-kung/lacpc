{
 "cells": [
  {
   "cell_type": "code",
   "execution_count": 1,
   "id": "453d2659-707e-4355-83cb-7c8f5734c52d",
   "metadata": {},
   "outputs": [],
   "source": [
    "import os\n",
    "import sys\n",
    "import time\n",
    "import yaml\n",
    "import pandas as pd\n",
    "import numpy as np\n",
    "\n",
    "with open('../../config.local.yaml', 'r') as f:\n",
    "    local_config = yaml.safe_load(f)\n",
    "\n",
    "LOCAL_PATH = local_config['LOCAL_PATH']\n",
    "\n",
    "sys.path.append(os.path.join(LOCAL_PATH, \"src/python\"))\n",
    "\n",
    "import data_tools as dt\n",
    "\n",
    "from matplotlib import pyplot as plt\n",
    "from sklearn.linear_model import LogisticRegression\n",
    "from IPython.core.display import HTML\n",
    "from sklearn.linear_model import LogisticRegression\n",
    "import statsmodels.api as sm\n",
    "from stargazer.stargazer import Stargazer\n",
    "\n",
    "rng = np.random.default_rng(12898)\n",
    "\n",
    "SUPPORT_TAGS = ['DEFINITELY SUPPORT', 'SOMEWHAT SUPPORT']\n",
    "OPPOSE_TAGS = ['DEFINITELY OPPOSE', 'SOMEWHAT OPPOSE']\n",
    "APPROVE_TAGS = ['APPROVED', 'APPROVED WITH MINOR CHANGES']\n"
   ]
  },
  {
   "cell_type": "code",
   "execution_count": 2,
   "id": "2065f71b-2cdf-482a-bad6-aac9611ce725",
   "metadata": {},
   "outputs": [
    {
     "name": "stdout",
     "output_type": "stream",
     "text": [
      "No proper response found for 2018-06-14, doc_id 1, pages 2-2\n"
     ]
    }
   ],
   "source": [
    "df = dt.get_supplemental_docs()"
   ]
  },
  {
   "cell_type": "code",
   "execution_count": 3,
   "id": "55a528a7-eeaf-4b7c-958c-a33476ece3c6",
   "metadata": {},
   "outputs": [],
   "source": [
    "idx = df['support_or_oppose'].isin(SUPPORT_TAGS + OPPOSE_TAGS)\n",
    "idx_support = df['support_or_oppose'].isin(SUPPORT_TAGS)\n",
    "idx_oppose = df['support_or_oppose'].isin(OPPOSE_TAGS)"
   ]
  },
  {
   "cell_type": "code",
   "execution_count": 4,
   "id": "09a6786f-7170-4140-874e-a9060fcee40f",
   "metadata": {},
   "outputs": [],
   "source": [
    "# Keep only documents that either support or oppose\n",
    "df2 = df.loc[idx].reset_index(drop=True)"
   ]
  },
  {
   "cell_type": "code",
   "execution_count": 5,
   "id": "ef44e5ea-38f0-4dc7-8d99-390f0cb74eda",
   "metadata": {},
   "outputs": [
    {
     "name": "stdout",
     "output_type": "stream",
     "text": [
      "No data found for 2021-01-14\n",
      "No data found for 2022-03-17\n",
      "No data found for 2022-10-13\n"
     ]
    }
   ],
   "source": [
    "minutes_df = dt.get_minutes()"
   ]
  },
  {
   "cell_type": "code",
   "execution_count": 6,
   "id": "03e5b93c-ad67-4146-8940-ea410809a554",
   "metadata": {},
   "outputs": [],
   "source": [
    "df3 = minutes_df.copy()"
   ]
  },
  {
   "cell_type": "code",
   "execution_count": 7,
   "id": "80c0db11-319c-40b6-a344-35e179452dd2",
   "metadata": {},
   "outputs": [],
   "source": [
    "df3['n_support'] = 0\n",
    "df3['n_oppose'] = 0\n",
    "for idx, irow in df3.iterrows():\n",
    "    date = irow['date']\n",
    "    item_no = irow['item_no']\n",
    "    for jdx, jrow in df2.loc[df2['date']==date].iterrows():\n",
    "        referenced_items = [s.strip() for s in jrow['referenced_items'].split(',')]\n",
    "        support_or_oppose = jrow['support_or_oppose']\n",
    "        if item_no in referenced_items:\n",
    "            df3.loc[idx, 'n_support'] += 1*(support_or_oppose in SUPPORT_TAGS)\n",
    "            df3.loc[idx, 'n_oppose'] += 1*(support_or_oppose in OPPOSE_TAGS)"
   ]
  },
  {
   "cell_type": "code",
   "execution_count": 8,
   "id": "52a8895b-2e78-4caf-844f-51dbe9f900bc",
   "metadata": {},
   "outputs": [
    {
     "data": {
      "image/png": "[encoded data removed]",
      "text/plain": [
       "<Figure size 600x400 with 1 Axes>"
      ]
     },
     "metadata": {},
     "output_type": "display_data"
    }
   ],
   "source": [
    "plt.figure(figsize=(6,4))\n",
    "plt.hist(np.log10(df3['n_support']+1), alpha=0.8, color='blue', label='support')\n",
    "plt.hist(-np.log10(df3['n_oppose']+1), alpha=0.8, color='orange', label='oppose')\n",
    "plt.xlabel('log10(# Letters)')\n",
    "plt.legend()\n",
    "plt.grid(axis='y', alpha=0.2)\n",
    "plt.gca().set_axisbelow(True)\n",
    "plt.show()"
   ]
  },
  {
   "cell_type": "code",
   "execution_count": 9,
   "id": "0b1131f3-843a-4f54-a9a0-8e691be01a5e",
   "metadata": {},
   "outputs": [
    {
     "data": {
      "text/plain": [
       "project_result\n",
       "APPROVED                                  333\n",
       "APPROVED WITH MINOR CHANGES               269\n",
       "DELIBERATIONS CONTINUED TO FUTURE DATE    112\n",
       "DENIED                                     11\n",
       "APPROVED WITH MAJOR CHANGES                 7\n",
       "Name: count, dtype: int64"
      ]
     },
     "execution_count": 9,
     "metadata": {},
     "output_type": "execute_result"
    }
   ],
   "source": [
    "df3['project_result'].value_counts()"
   ]
  },
  {
   "cell_type": "code",
   "execution_count": 10,
   "id": "b44e0f3f-1efc-491f-9757-a12a4d607ada",
   "metadata": {},
   "outputs": [
    {
     "name": "stdout",
     "output_type": "stream",
     "text": [
      "Optimization terminated successfully.\n",
      "         Current function value: 0.453977\n",
      "         Iterations 6\n"
     ]
    },
    {
     "data": {
      "text/html": [
       "<table style=\"text-align:center\"><tr><td colspan=\"2\" style=\"border-bottom: 1px solid black\"></td></tr>\n",
       "<tr><td style=\"text-align:left\"></td><td colspan=\"1\"><em>Dependent variable: project_result</em></td></tr><tr><td style=\"text-align:left\"></td><tr><td style=\"text-align:left\"></td><td>(1)</td></tr>\n",
       "<tr><td colspan=\"2\" style=\"border-bottom: 1px solid black\"></td></tr>\n",
       "\n",
       "<tr><td style=\"text-align:left\">const</td><td>1.602<sup>***</sup></td></tr>\n",
       "<tr><td style=\"text-align:left\"></td><td>(0.135)</td></tr>\n",
       "<tr><td style=\"text-align:left\">log2_oppose</td><td>-0.305<sup>***</sup></td></tr>\n",
       "<tr><td style=\"text-align:left\"></td><td>(0.071)</td></tr>\n",
       "<tr><td style=\"text-align:left\">log2_support</td><td>0.279<sup>***</sup></td></tr>\n",
       "<tr><td style=\"text-align:left\"></td><td>(0.090)</td></tr>\n",
       "\n",
       "<td colspan=\"2\" style=\"border-bottom: 1px solid black\"></td></tr>\n",
       "<tr><td style=\"text-align: left\">Observations</td><td>732</td></tr><tr><td style=\"text-align: left\">Pseudo R<sup>2</sup></td><td>0.029</td></tr>\n",
       "<tr><td colspan=\"2\" style=\"border-bottom: 1px solid black\"></td></tr><tr><td style=\"text-align: left\">Note:</td><td colspan=\"1\" style=\"text-align: right\"><sup>*</sup>p&lt;0.1; <sup>**</sup>p&lt;0.05; <sup>***</sup>p&lt;0.01</td></tr></table>"
      ],
      "text/plain": [
       "<IPython.core.display.HTML object>"
      ]
     },
     "execution_count": 10,
     "metadata": {},
     "output_type": "execute_result"
    }
   ],
   "source": [
    "df3['log2_support'] = np.log(df3['n_support']+1)/np.log(2)\n",
    "df3['log2_oppose'] = np.log(df3['n_oppose']+1)/np.log(2)\n",
    "\n",
    "approve_tags = ['APPROVED', 'APPROVED WITH MINOR CHANGES']\n",
    "predictors = ['log2_support', 'log2_oppose']\n",
    "\n",
    "y = df3['project_result'].isin(approve_tags)\n",
    "X = sm.add_constant(df3[predictors])\n",
    "\n",
    "model = sm.Logit(y, X).fit()\n",
    "\n",
    "sg = Stargazer([model])\n",
    "\n",
    "HTML(sg.render_html())"
   ]
  },
  {
   "cell_type": "code",
   "execution_count": 11,
   "id": "52c162d7-1dde-481e-8a93-485a23cfcb86",
   "metadata": {},
   "outputs": [
    {
     "data": {
      "text/plain": [
       "const           4.961529\n",
       "log2_support    1.321559\n",
       "log2_oppose     0.736860\n",
       "dtype: float64"
      ]
     },
     "execution_count": 11,
     "metadata": {},
     "output_type": "execute_result"
    }
   ],
   "source": [
    "params = model.params\n",
    "np.exp(params)"
   ]
  }
 ],
 "metadata": {
  "kernelspec": {
   "display_name": "Python 3 (ipykernel)",
   "language": "python",
   "name": "python3"
  },
  "language_info": {
   "codemirror_mode": {
    "name": "ipython",
    "version": 3
   },
   "file_extension": ".py",
   "mimetype": "text/x-python",
   "name": "python",
   "nbconvert_exporter": "python",
   "pygments_lexer": "ipython3",
   "version": "3.12.10"
  }
 },
 "nbformat": 4,
 "nbformat_minor": 5
}

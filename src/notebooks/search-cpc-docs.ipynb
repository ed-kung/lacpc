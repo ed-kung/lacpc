{
 "cells": [
  {
   "cell_type": "code",
   "execution_count": 1,
   "id": "a3395f2b-af88-49c4-96e4-9ff23a84ea8d",
   "metadata": {},
   "outputs": [],
   "source": [
    "import os\n",
    "import sys\n",
    "import re\n",
    "import time\n",
    "from pathlib import Path\n",
    "import pdfplumber\n",
    "import pytesseract\n",
    "from pdf2image import convert_from_path\n",
    "import warnings\n",
    "import logging\n",
    "import pandas as pd\n",
    "import numpy as np\n",
    "from matplotlib import pyplot as plt\n",
    "\n",
    "sys.path.append('../python')\n",
    "warnings.filterwarnings('default')\n",
    "logging.getLogger(\"pdfminer\").setLevel(logging.ERROR)\n",
    "\n",
    "DATA_DIR = Path('../../raw_data/cpc')\n",
    "\n",
    "REPLACE = False  # whether to replace existing txt files"
   ]
  },
  {
   "cell_type": "code",
   "execution_count": 8,
   "id": "d0e7bd3e-2c7c-4d9f-869d-7d1393b4366f",
   "metadata": {},
   "outputs": [
    {
     "name": "stdout",
     "output_type": "stream",
     "text": [
      "2023-08-24\n"
     ]
    }
   ],
   "source": [
    "meta_df = []\n",
    "\n",
    "#years = sorted([d.name for d in DATA_DIR.iterdir() if d.is_dir()])\n",
    "years = range(2018,2025)\n",
    "for year in years:\n",
    "    path = Path(f'../../intermediate_data/cpc/{year}')\n",
    "    dates = sorted([d.name for d in path.iterdir() if d.is_dir()])\n",
    "    for date in dates:\n",
    "        try:\n",
    "            filename = f\"../../intermediate_data/cpc/{year}/{date}/supplemental-docs.txt\"\n",
    "            with open(filename, 'r') as f:\n",
    "                text = f.read()\n",
    "            if \"fucking tree\" in text.lower():\n",
    "                print(date)\n",
    "        except:\n",
    "            continue\n"
   ]
  }
 ],
 "metadata": {
  "kernelspec": {
   "display_name": "Python 3 (ipykernel)",
   "language": "python",
   "name": "python3"
  },
  "language_info": {
   "codemirror_mode": {
    "name": "ipython",
    "version": 3
   },
   "file_extension": ".py",
   "mimetype": "text/x-python",
   "name": "python",
   "nbconvert_exporter": "python",
   "pygments_lexer": "ipython3",
   "version": "3.9.6"
  }
 },
 "nbformat": 4,
 "nbformat_minor": 5
}

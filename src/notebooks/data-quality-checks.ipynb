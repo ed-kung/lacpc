{
 "cells": [
  {
   "cell_type": "code",
   "execution_count": 1,
   "id": "39458c74-d134-484c-a775-8044f7f184d6",
   "metadata": {},
   "outputs": [],
   "source": [
    "import os\n",
    "import sys\n",
    "import time\n",
    "import yaml\n",
    "import pandas as pd\n",
    "import numpy as np\n",
    "\n",
    "with open('../../config.local.yaml', 'r') as f:\n",
    "    local_config = yaml.safe_load(f)\n",
    "\n",
    "LOCAL_PATH = local_config['LOCAL_PATH']\n",
    "\n",
    "sys.path.append(os.path.join(LOCAL_PATH, \"src/python\"))\n",
    "\n",
    "import data_tools as dt\n"
   ]
  },
  {
   "cell_type": "code",
   "execution_count": 2,
   "id": "a9d8203a-ff21-43ed-b12c-b87e74b5ef48",
   "metadata": {},
   "outputs": [
    {
     "name": "stdout",
     "output_type": "stream",
     "text": [
      "No data found for 2021-01-14\n",
      "No data found for 2022-03-17\n",
      "No data found for 2022-10-13\n",
      "No proper response found for 2018-05-23, doc_id 1, pages 2-2\n",
      "No proper response found for 2018-05-23, doc_id 2, pages 3-3\n",
      "No proper response found for 2018-07-26, doc_id 1, pages 2-2\n"
     ]
    }
   ],
   "source": [
    "agenda_df = dt.get_agenda_items()\n",
    "minutes_df = dt.get_minutes()\n",
    "supplemental_df = dt.get_supplemental_docs()"
   ]
  },
  {
   "cell_type": "code",
   "execution_count": 3,
   "id": "fdd1b204-5e21-4f91-a014-04c0d8b2c64a",
   "metadata": {},
   "outputs": [],
   "source": [
    "\"\"\"\n",
    "Check if each agenda item with a casenum is contained in the minutes\n",
    "\"\"\"\n",
    "df = agenda_df.loc[\n",
    "    agenda_df['is_casenum'], \n",
    "    ['year', 'date', 'item_no', 'title', 'is_casenum']\n",
    "].reset_index(drop=True)\n",
    "\n",
    "df = df.merge(\n",
    "    minutes_df[['year', 'date', 'item_no', 'project_result']],\n",
    "    on = ['year', 'date', 'item_no'],\n",
    "    how = 'left',\n",
    ").reset_index(drop=True)\n",
    "\n",
    "assert df['project_result'].isna().sum() == 0"
   ]
  },
  {
   "cell_type": "code",
   "execution_count": 4,
   "id": "20fd7118-ade9-4c05-9dcc-2eb372f0d9d2",
   "metadata": {},
   "outputs": [],
   "source": [
    "\"\"\"\n",
    "Check if all the council members in the voting data are correctly identified\n",
    "\"\"\"\n",
    "for idx, row in minutes_df.iterrows():\n",
    "    for col in ['moved', 'seconded', 'ayes', 'nays', 'abstained', 'recused', 'absent']:\n",
    "        names = [x.strip() for x in row[col].split(',')]\n",
    "        for name in names:\n",
    "            assert name in dt.MEMBERS"
   ]
  },
  {
   "cell_type": "code",
   "execution_count": 5,
   "id": "5076120d-cc7a-4193-a2af-698b9da41cc1",
   "metadata": {},
   "outputs": [
    {
     "data": {
      "text/plain": [
       "support_or_oppose\n",
       "DEFINITELY OPPOSE                                                                                      2134\n",
       "DEFINITELY SUPPORT                                                                                     1794\n",
       "NOT RELEVANT                                                                                           1459\n",
       "SOMEWHAT SUPPORT                                                                                        305\n",
       "SOMEWHAT OPPOSE                                                                                         296\n",
       "NEUTRAL                                                                                                 197\n",
       "NOT RELEVANT (The document does not provide enough information to determine support or opposition.)       2\n",
       "SOMEWHAT SUPPORT (for Items 6 and 7), SOMEWHAT OPPOSE (for Item 9)                                        1\n",
       "Name: count, dtype: int64"
      ]
     },
     "execution_count": 5,
     "metadata": {},
     "output_type": "execute_result"
    }
   ],
   "source": [
    "supplemental_df['support_or_oppose'].value_counts()"
   ]
  }
 ],
 "metadata": {
  "kernelspec": {
   "display_name": "Python 3 (ipykernel)",
   "language": "python",
   "name": "python3"
  },
  "language_info": {
   "codemirror_mode": {
    "name": "ipython",
    "version": 3
   },
   "file_extension": ".py",
   "mimetype": "text/x-python",
   "name": "python",
   "nbconvert_exporter": "python",
   "pygments_lexer": "ipython3",
   "version": "3.9.6"
  }
 },
 "nbformat": 4,
 "nbformat_minor": 5
}

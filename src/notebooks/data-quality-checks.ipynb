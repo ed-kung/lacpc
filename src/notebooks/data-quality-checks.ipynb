{
 "cells": [
  {
   "cell_type": "code",
   "execution_count": 2,
   "id": "39458c74-d134-484c-a775-8044f7f184d6",
   "metadata": {},
   "outputs": [],
   "source": [
    "import os\n",
    "import sys\n",
    "import time\n",
    "import yaml\n",
    "import pandas as pd\n",
    "import numpy as np\n",
    "\n",
    "with open('../../config.local.yaml', 'r') as f:\n",
    "    local_config = yaml.safe_load(f)\n",
    "\n",
    "LOCAL_PATH = local_config['LOCAL_PATH']\n",
    "\n",
    "sys.path.append(os.path.join(LOCAL_PATH, \"src/python\"))\n",
    "\n",
    "import data_tools as dt\n"
   ]
  },
  {
   "cell_type": "code",
   "execution_count": 4,
   "id": "a9d8203a-ff21-43ed-b12c-b87e74b5ef48",
   "metadata": {},
   "outputs": [
    {
     "name": "stdout",
     "output_type": "stream",
     "text": [
      "No data found for 2021-01-14\n",
      "No data found for 2022-03-17\n",
      "No data found for 2022-10-13\n"
     ]
    }
   ],
   "source": [
    "agenda_df = dt.get_agenda_items()\n",
    "minutes_df = dt.get_minutes()"
   ]
  },
  {
   "cell_type": "code",
   "execution_count": 12,
   "id": "fdd1b204-5e21-4f91-a014-04c0d8b2c64a",
   "metadata": {},
   "outputs": [],
   "source": [
    "\"\"\"\n",
    "Check if each agenda item with a casenum is contained in the minutes\n",
    "\"\"\"\n",
    "df = agenda_df.loc[\n",
    "    agenda_df['is_casenum'], \n",
    "    ['year', 'date', 'item_no', 'title', 'is_casenum']\n",
    "].reset_index(drop=True)\n",
    "\n",
    "df = df.merge(\n",
    "    minutes_df[['year', 'date', 'item_no', 'project_result']],\n",
    "    on = ['year', 'date', 'item_no'],\n",
    "    how = 'left',\n",
    ").reset_index(drop=True)\n",
    "\n",
    "assert df['project_result'].isna().sum() == 0"
   ]
  }
 ],
 "metadata": {
  "kernelspec": {
   "display_name": "Python 3 (ipykernel)",
   "language": "python",
   "name": "python3"
  },
  "language_info": {
   "codemirror_mode": {
    "name": "ipython",
    "version": 3
   },
   "file_extension": ".py",
   "mimetype": "text/x-python",
   "name": "python",
   "nbconvert_exporter": "python",
   "pygments_lexer": "ipython3",
   "version": "3.12.10"
  }
 },
 "nbformat": 4,
 "nbformat_minor": 5
}

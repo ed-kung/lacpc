{
 "cells": [
  {
   "cell_type": "code",
   "execution_count": 1,
   "id": "39458c74-d134-484c-a775-8044f7f184d6",
   "metadata": {},
   "outputs": [],
   "source": [
    "import os\n",
    "import sys\n",
    "import time\n",
    "import yaml\n",
    "import pandas as pd\n",
    "import numpy as np\n",
    "\n",
    "with open('../../config.local.yaml', 'r') as f:\n",
    "    local_config = yaml.safe_load(f)\n",
    "\n",
    "LOCAL_PATH = local_config['LOCAL_PATH']\n",
    "\n",
    "sys.path.append(os.path.join(LOCAL_PATH, \"src/python\"))\n",
    "\n",
    "import data_tools as dt\n"
   ]
  },
  {
   "cell_type": "code",
   "execution_count": 2,
   "id": "a9d8203a-ff21-43ed-b12c-b87e74b5ef48",
   "metadata": {},
   "outputs": [],
   "source": [
    "dfa = dt.get_agenda_items(verbose=False, clean=True)\n",
    "dfm = dt.get_minutes(verbose=False, clean=True)\n",
    "#supplemental_df = dt.get_supplemental_docs()"
   ]
  },
  {
   "cell_type": "code",
   "execution_count": 3,
   "id": "fdd1b204-5e21-4f91-a014-04c0d8b2c64a",
   "metadata": {},
   "outputs": [],
   "source": [
    "\"\"\"\n",
    "Check overlap of agenda items and minutes items\n",
    "\"\"\"\n",
    "temp_df = dfm[['date','item_no']].merge(\n",
    "    dfa[['date','item_no']], how='inner'\n",
    ")\n",
    "assert (len(temp_df)==len(dfa)) and (len(temp_df)==len(dfm))"
   ]
  },
  {
   "cell_type": "code",
   "execution_count": 4,
   "id": "20fd7118-ade9-4c05-9dcc-2eb372f0d9d2",
   "metadata": {},
   "outputs": [],
   "source": [
    "\"\"\"\n",
    "Check if all the council members in the voting data are correctly identified\n",
    "\"\"\"\n",
    "for idx, row in dfm.iterrows():\n",
    "    for col in ['moved', 'seconded', 'ayes', 'nays', 'abstained', 'recused', 'absent']:\n",
    "        names = [x.strip() for x in row[col].split(',')]\n",
    "        for name in names:\n",
    "            assert name in dt.MEMBERS"
   ]
  }
 ],
 "metadata": {
  "kernelspec": {
   "display_name": "Python 3 (ipykernel)",
   "language": "python",
   "name": "python3"
  },
  "language_info": {
   "codemirror_mode": {
    "name": "ipython",
    "version": 3
   },
   "file_extension": ".py",
   "mimetype": "text/x-python",
   "name": "python",
   "nbconvert_exporter": "python",
   "pygments_lexer": "ipython3",
   "version": "3.9.6"
  }
 },
 "nbformat": 4,
 "nbformat_minor": 5
}

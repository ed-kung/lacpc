{
 "cells": [
  {
   "cell_type": "code",
   "execution_count": 1,
   "id": "8b6dd8a9-5ef3-41f2-843f-d473c654fde0",
   "metadata": {},
   "outputs": [
    {
     "name": "stderr",
     "output_type": "stream",
     "text": [
      "/Users/ekung/Library/Python/3.9/lib/python/site-packages/urllib3/__init__.py:35: NotOpenSSLWarning: urllib3 v2 only supports OpenSSL 1.1.1+, currently the 'ssl' module is compiled with 'LibreSSL 2.8.3'. See: https://github.com/urllib3/urllib3/issues/3020\n",
      "  warnings.warn(\n",
      "/Users/ekung/Library/Python/3.9/lib/python/site-packages/pinecone/data/index.py:1: TqdmWarning: IProgress not found. Please update jupyter and ipywidgets. See https://ipywidgets.readthedocs.io/en/stable/user_install.html\n",
      "  from tqdm.autonotebook import tqdm\n"
     ]
    }
   ],
   "source": [
    "import os\n",
    "import sys\n",
    "import re\n",
    "import time\n",
    "from pathlib import Path\n",
    "import pdfplumber\n",
    "import pytesseract\n",
    "from pdf2image import convert_from_path\n",
    "import warnings\n",
    "import logging\n",
    "import pandas as pd\n",
    "import numpy as np\n",
    "import json\n",
    "from matplotlib import pyplot as plt\n",
    "\n",
    "sys.path.append('../python')\n",
    "warnings.filterwarnings('default')\n",
    "logging.getLogger(\"pdfminer\").setLevel(logging.ERROR)\n",
    "\n",
    "DATA_DIR = Path('../../raw_data/cpc')\n",
    "\n",
    "import api"
   ]
  },
  {
   "cell_type": "code",
   "execution_count": 2,
   "id": "5088ef7c-b00f-4c09-8ffc-18b4aeffab44",
   "metadata": {},
   "outputs": [],
   "source": [
    "meetings_meta_df = pd.read_csv(\"../../intermediate_data/cpc/meetings_metadata.csv\")"
   ]
  },
  {
   "cell_type": "code",
   "execution_count": 3,
   "id": "9a507892-730b-4f75-95d0-c41a94a7e0b7",
   "metadata": {},
   "outputs": [],
   "source": [
    "PROMPT = \"\"\"\n",
    "The following extracted PDF text contains the agenda for a LA City Planning Commission meeting. \n",
    "\n",
    "For each agenda item, return a summary in the following format:\n",
    "\n",
    "ITEM NO: <agenda item number>\n",
    "TITLE: <title of agenda item>\n",
    "SUMMARY: <short summary of agenda item>\n",
    "\n",
    "Separate each response by \"------\"\n",
    "\n",
    "AGENDA:\n",
    "\n",
    "{}\n",
    "\"\"\""
   ]
  },
  {
   "cell_type": "code",
   "execution_count": 4,
   "id": "9a21ba81-273d-4637-b88b-3f1c9ef161c3",
   "metadata": {},
   "outputs": [
    {
     "name": "stdout",
     "output_type": "stream",
     "text": [
      "2018-05-10... 2018-05-23... 2018-06-14... 2018-07-12... 2018-07-26... 2018-08-09... 2018-08-23... 2018-09-13... 2018-09-27... 2018-10-11... 2018-10-25... 2018-11-08... 2018-11-29... 2018-12-13... 2018-12-20... 2019-01-10... 2019-01-24... 2019-02-14... 2019-02-28... 2019-03-14... 2019-03-28... 2019-04-11... 2019-05-09... 2019-05-23... 2019-06-13... 2019-06-27... 2019-07-11... 2019-07-25... 2019-08-08... 2019-08-22... 2019-09-12... 2019-09-26... 2019-10-10... 2019-10-24... 2019-11-14... 2019-11-21... 2019-12-12... 2019-12-19... 2020-01-09... 2020-01-23... 2020-02-13... 2020-03-12... 2020-04-23... 2020-05-14... 2020-05-28... 2020-06-04... 2020-06-11... 2020-06-25... 2020-07-09... 2020-07-23... 2020-08-13... 2020-08-27... 2020-09-10... 2020-09-17... 2020-09-24... 2020-10-08... 2020-10-15... 2020-10-22... 2020-11-05... 2020-11-19... 2020-12-03... 2020-12-10... 2020-12-17... 2021-01-14... 2021-01-28... 2021-02-11... 2021-02-18... 2021-02-25... 2021-03-11... 2021-03-25... 2021-04-08... 2021-04-22... 2021-05-13... 2021-05-27... 2021-06-10... 2021-06-17... 2021-07-08... 2021-07-22... 2021-08-12... 2021-08-26... 2021-09-09... 2021-09-23... 2021-09-30... 2021-10-14... 2021-10-21... 2021-10-28... 2021-11-04... 2021-11-18... 2021-12-09... 2022-01-13... 2022-01-27... 2022-02-10... 2022-02-24... 2022-03-10... 2022-03-17... 2022-03-24... 2022-04-14... 2022-04-28... 2022-05-12... 2022-05-19... 2022-05-26... 2022-06-09... 2022-06-23... 2022-07-14... 2022-07-28... 2022-08-11... 2022-08-25... 2022-09-08... 2022-09-22... 2022-10-13... 2022-10-27... 2022-11-03... 2022-11-17... 2022-12-08... 2022-12-15... 2023-02-09... 2023-02-23... 2023-03-09... 2023-03-23... 2023-04-20... 2023-04-27... 2023-05-11... 2023-05-25... 2023-06-08... 2023-07-13... 2023-07-27... 2023-08-10... 2023-08-24... 2023-09-14... 2023-09-28... 2023-10-12... 2023-10-26... 2023-11-02... 2023-11-16... 2023-12-14... 2024-01-11... 2024-01-25... 2024-02-22... 2024-03-28... 2024-04-11... 2024-05-09... 2024-05-23... 2024-06-13... 2024-06-27... 2024-07-11... 2024-07-25... 2024-08-08... 2024-09-12... 2024-09-26... 2024-10-10... "
     ]
    }
   ],
   "source": [
    "# Use ChatGPT to separate agenda items\n",
    "\n",
    "for idx, row in meetings_meta_df.loc[meetings_meta_df['has_all']].iterrows():\n",
    "    year = row['year']\n",
    "    date = row['date']\n",
    "    print(date, end='... ')\n",
    "    try:\n",
    "        with open(f\"../../intermediate_data/cpc/{year}/{date}/agenda-manual-override.txt\", 'r') as f:\n",
    "            text = f.read()\n",
    "    except:\n",
    "        with open(f\"../../intermediate_data/cpc/{year}/{date}/agenda.txt\", 'r') as f:\n",
    "            text = f.read()\n",
    "    prompt = PROMPT.format(text)\n",
    "    message, score = api.get_response(prompt)\n",
    "    output_file = f\"../../intermediate_data/cpc/{year}/{date}/agenda-item-summaries.txt\"\n",
    "    with open(output_file, 'w') as f:\n",
    "        f.write(message)"
   ]
  }
 ],
 "metadata": {
  "kernelspec": {
   "display_name": "Python 3 (ipykernel)",
   "language": "python",
   "name": "python3"
  },
  "language_info": {
   "codemirror_mode": {
    "name": "ipython",
    "version": 3
   },
   "file_extension": ".py",
   "mimetype": "text/x-python",
   "name": "python",
   "nbconvert_exporter": "python",
   "pygments_lexer": "ipython3",
   "version": "3.9.6"
  }
 },
 "nbformat": 4,
 "nbformat_minor": 5
}

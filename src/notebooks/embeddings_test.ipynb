{
 "cells": [
  {
   "cell_type": "code",
   "execution_count": 1,
   "id": "02b0a29b-c276-47d7-9172-45ffb425279e",
   "metadata": {},
   "outputs": [],
   "source": [
    "import os\n",
    "import sys\n",
    "sys.path.append('../python')\n",
    "\n",
    "import pandas as pd\n",
    "import numpy as np\n",
    "import yaml\n",
    "import time\n",
    "import api\n"
   ]
  },
  {
   "cell_type": "code",
   "execution_count": 2,
   "id": "318489e5-fd0e-4e00-a771-54efb813dffc",
   "metadata": {},
   "outputs": [
    {
     "name": "stdout",
     "output_type": "stream",
     "text": [
      "0... {'dimension': 1536,\n",
      " 'index_fullness': 0.0,\n",
      " 'namespaces': {'main': {'vector_count': 5513}},\n",
      " 'total_vector_count': 5513}\n"
     ]
    }
   ],
   "source": [
    "# Embed chapter data\n",
    "chapter_data = pd.read_csv(\"../../intermediate_data/los_angeles_chapter_data.csv\")\n",
    "chapter_data = chapter_data.fillna('')\n",
    "api.embed_and_upsert(chapter_data, verbose=True)"
   ]
  },
  {
   "cell_type": "code",
   "execution_count": 3,
   "id": "23b16a7d-2b0c-4459-a8a0-500a6fa75ec0",
   "metadata": {},
   "outputs": [
    {
     "name": "stdout",
     "output_type": "stream",
     "text": [
      "0... 128... {'dimension': 1536,\n",
      " 'index_fullness': 0.0,\n",
      " 'namespaces': {'main': {'vector_count': 5513}},\n",
      " 'total_vector_count': 5513}\n"
     ]
    }
   ],
   "source": [
    "# Embed article data\n",
    "article_data = pd.read_csv(\"../../intermediate_data/los_angeles_article_data.csv\")\n",
    "article_data = article_data.fillna('')\n",
    "api.embed_and_upsert(article_data, verbose=True)"
   ]
  },
  {
   "cell_type": "code",
   "execution_count": 4,
   "id": "8b1c657b-cc5f-4880-bdbe-f044183c3a9b",
   "metadata": {},
   "outputs": [
    {
     "name": "stdout",
     "output_type": "stream",
     "text": [
      "0... 128... 256... 384... 512... 640... 768... 896... 1024... 1152... 1280... 1408... 1536... 1664... 1792... 1920... 2048... 2176... 2304... 2432... 2560... 2688... 2816... 2944... 3072... 3200... 3328... 3456... 3584... 3712... 3840... 3968... 4096... 4224... 4352... 4480... 4608... 4736... 4864... 4992... 5120... 5248... {'dimension': 1536,\n",
      " 'index_fullness': 0.0,\n",
      " 'namespaces': {'main': {'vector_count': 5513}},\n",
      " 'total_vector_count': 5513}\n"
     ]
    }
   ],
   "source": [
    "# Embed section data\n",
    "section_data = pd.read_csv(\"../../intermediate_data/los_angeles_section_data.csv\")\n",
    "section_data = section_data.fillna('')\n",
    "api.embed_and_upsert(section_data, verbose=True)"
   ]
  },
  {
   "cell_type": "code",
   "execution_count": 5,
   "id": "971362dd-bdf5-48d0-8e7b-b960c586b798",
   "metadata": {},
   "outputs": [
    {
     "name": "stdout",
     "output_type": "stream",
     "text": [
      "0... 128... 256... 384... 512... 640... 768... 896... 1024... 1152... 1280... 1408... 1536... 1664... 1792... 1920... 2048... 2176... 2304... 2432... 2560... 2688... 2816... 2944... 3072... 3200... 3328... 3456... 3584... 3712... 3840... 3968... 4096... 4224... 4352... 4480... 4608... 4736... 4864... 4992... 5120... 5248... 5376... 5504... 5632... 5760... 5888... 6016... 6144... 6272... 6400... 6528... 6656... 6784... 6912... 7040... 7168... 7296... 7424... 7552... 7680... 7808... 7936... 8064... 8192... 8320... 8448... 8576... 8704... 8832... 8960... 9088... 9216... 9344... 9472... 9600... 9728... 9856... 9984... 10112... 10240... 10368... 10496... 10624... 10752... 10880... 11008... 11136... 11264... 11392... 11520... 11648... 11776... 11904... 12032... 12160... 12288... 12416... 12544... 12672... 12800... 12928... 13056... 13184... 13312... 13440... 13568... 13696... 13824... 13952... 14080... 14208... 14336... 14464... 14592... 14720... 14848... 14976... 15104... 15232... {'dimension': 1536,\n",
      " 'index_fullness': 0.0,\n",
      " 'namespaces': {'main': {'vector_count': 20745}},\n",
      " 'total_vector_count': 20745}\n"
     ]
    }
   ],
   "source": [
    "# Embed passage chunk data\n",
    "passage_chunk_data = pd.read_csv(\"../../intermediate_data/los_angeles_passage_chunk_data.csv\")\n",
    "passage_chunk_data = passage_chunk_data.fillna('')\n",
    "api.embed_and_upsert(passage_chunk_data, verbose=True)"
   ]
  }
 ],
 "metadata": {
  "kernelspec": {
   "display_name": "Python 3 (ipykernel)",
   "language": "python",
   "name": "python3"
  },
  "language_info": {
   "codemirror_mode": {
    "name": "ipython",
    "version": 3
   },
   "file_extension": ".py",
   "mimetype": "text/x-python",
   "name": "python",
   "nbconvert_exporter": "python",
   "pygments_lexer": "ipython3",
   "version": "3.10.5"
  }
 },
 "nbformat": 4,
 "nbformat_minor": 5
}

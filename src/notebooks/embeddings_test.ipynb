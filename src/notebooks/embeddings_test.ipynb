{
 "cells": [
  {
   "cell_type": "code",
   "execution_count": 1,
   "id": "02b0a29b-c276-47d7-9172-45ffb425279e",
   "metadata": {},
   "outputs": [],
   "source": [
    "import os\n",
    "import sys\n",
    "sys.path.append('../python')\n",
    "\n",
    "import pandas as pd\n",
    "import numpy as np\n",
    "import yaml\n",
    "import time\n",
    "import api\n",
    "\n",
    "DOCID = 'lamunicipalcode'\n"
   ]
  },
  {
   "cell_type": "code",
   "execution_count": 2,
   "id": "582322dc-6bf1-46ed-a4aa-33b45ceca5f1",
   "metadata": {},
   "outputs": [],
   "source": [
    "#data = pd.read_pickle(f\"../../intermediate_data/{DOCID}_main.pkl\")\n",
    "#data = data.fillna('')\n",
    "#data = data.loc[ data['text'].str.len() < 9000 ]  # Drop if text sizes are too large\n",
    "#data = data.reset_index(names='id')\n",
    "#data_to_embed = data[['id','doc_id','text_order','item_level','item_type','text']]\n",
    "#\n",
    "#api.embed_and_upsert(data_to_embed, namespace='main')"
   ]
  },
  {
   "cell_type": "code",
   "execution_count": 3,
   "id": "0791e9a5-f5c2-44d3-a0e1-cf4e22473133",
   "metadata": {},
   "outputs": [],
   "source": [
    "#data = pd.read_pickle(f\"../../intermediate_data/{DOCID}_fullpassages.pkl\")\n",
    "#data = data.fillna('')\n",
    "#data = data.loc[ data['text'].str.len() < 9000 ]  # Drop if text sizes are too large\n",
    "#data = data.reset_index(names='id')\n",
    "#data_to_embed = data[['id','doc_id','text_order','item_level','item_type','text']]\n",
    "#\n",
    "#api.embed_and_upsert(data_to_embed, namespace='fullpassages')"
   ]
  },
  {
   "cell_type": "code",
   "execution_count": 4,
   "id": "45dbd10f-286a-44fb-89a5-025928026c08",
   "metadata": {},
   "outputs": [
    {
     "name": "stdout",
     "output_type": "stream",
     "text": [
      "0... 128... 256... 384... 512... 640... 768... 896... 1024... 1152... 1280... 1408... 1536... 1664... 1792... 1920... 2048... 2176... 2304... 2432... 2560... 2688... 2816... 2944... 3072... 3200... 3328... 3456... 3584... 3712... 3840... 3968... 4096... 4224... 4352... 4480... 4608... 4736... 4864... 4992... 5120... 5248... 5376... 5504... 5632... 5760... 5888... 6016... 6144... 6272... 6400... 6528... 6656... 6784... 6912... 7040... 7168... 7296... 7424... 7552... 7680... 7808... 7936... 8064... 8192... 8320... 8448... 8576... 8704... {'dimension': 1536,\n",
      " 'index_fullness': 0.0,\n",
      " 'namespaces': {'fullpassages': {'vector_count': 34586},\n",
      "                'main': {'vector_count': 52869},\n",
      "                'passagechunks': {'vector_count': 17246}},\n",
      " 'total_vector_count': 104701}\n"
     ]
    }
   ],
   "source": [
    "data = pd.read_pickle(f\"../../intermediate_data/{DOCID}_passagechunks.pkl\")\n",
    "data = data.fillna('')\n",
    "data = data.loc[ data['text'].str.len() < 9000 ]  # Drop if text sizes are too large\n",
    "data = data.reset_index()\n",
    "data_to_embed = data[['id','doc_id','start_id','end_id','chapter_id','article_id','section_id','item_type','text']]\n",
    "\n",
    "api.embed_and_upsert(data_to_embed, namespace='passagechunks')"
   ]
  }
 ],
 "metadata": {
  "kernelspec": {
   "display_name": "Python 3 (ipykernel)",
   "language": "python",
   "name": "python3"
  },
  "language_info": {
   "codemirror_mode": {
    "name": "ipython",
    "version": 3
   },
   "file_extension": ".py",
   "mimetype": "text/x-python",
   "name": "python",
   "nbconvert_exporter": "python",
   "pygments_lexer": "ipython3",
   "version": "3.10.6"
  }
 },
 "nbformat": 4,
 "nbformat_minor": 5
}

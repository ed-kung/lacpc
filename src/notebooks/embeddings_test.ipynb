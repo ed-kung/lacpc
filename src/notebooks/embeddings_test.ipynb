{
 "cells": [
  {
   "cell_type": "code",
   "execution_count": 1,
   "id": "02b0a29b-c276-47d7-9172-45ffb425279e",
   "metadata": {},
   "outputs": [],
   "source": [
    "import os\n",
    "import sys\n",
    "import numpy as np\n",
    "import pandas as pd\n",
    "\n",
    "sys.path.append(\"../python\")\n",
    "\n",
    "import api\n"
   ]
  },
  {
   "cell_type": "code",
   "execution_count": 2,
   "id": "d446d09c-84ab-40b7-bba8-ce31e60cf53f",
   "metadata": {},
   "outputs": [
    {
     "name": "stdout",
     "output_type": "stream",
     "text": [
      "<class 'numpy.ndarray'>\n",
      "1536\n"
     ]
    },
    {
     "data": {
      "text/plain": [
       "array([-0.00358684,  0.03781258,  0.00146078,  0.01892056,  0.00328898,\n",
       "        0.0225734 ,  0.00680983, -0.05068313, -0.02325831, -0.00781936])"
      ]
     },
     "execution_count": 2,
     "metadata": {},
     "output_type": "execute_result"
    }
   ],
   "source": [
    "# Apply an embedding to a single text\n",
    "\n",
    "mytext = \"local zoning ordinances\"\n",
    "myembedding = api.get_embedding(mytext)\n",
    "print(type(myembedding))\n",
    "print(len(myembedding))\n",
    "myembedding[0:10]"
   ]
  },
  {
   "cell_type": "code",
   "execution_count": 3,
   "id": "8a6b744d-ea6d-426b-8353-7f1c2fc78c05",
   "metadata": {},
   "outputs": [],
   "source": [
    "# Get embeddings on an entire dataframe\n",
    "\n",
    "df = pd.read_csv(\"../../intermediate_data/chapter_data.csv\")\n",
    "\n",
    "df['embedding'] = df['Chapter Text'].apply(\n",
    "    lambda x: api.get_embedding(x)\n",
    ")"
   ]
  },
  {
   "cell_type": "code",
   "execution_count": 4,
   "id": "ce971139-ed30-4ee7-93f8-152bb895b728",
   "metadata": {},
   "outputs": [
    {
     "data": {
      "text/html": [
       "<div>\n",
       "<style scoped>\n",
       "    .dataframe tbody tr th:only-of-type {\n",
       "        vertical-align: middle;\n",
       "    }\n",
       "\n",
       "    .dataframe tbody tr th {\n",
       "        vertical-align: top;\n",
       "    }\n",
       "\n",
       "    .dataframe thead th {\n",
       "        text-align: right;\n",
       "    }\n",
       "</style>\n",
       "<table border=\"1\" class=\"dataframe\">\n",
       "  <thead>\n",
       "    <tr style=\"text-align: right;\">\n",
       "      <th></th>\n",
       "      <th>Chapter ID</th>\n",
       "      <th>Chapter Text</th>\n",
       "      <th>embedding</th>\n",
       "    </tr>\n",
       "  </thead>\n",
       "  <tbody>\n",
       "    <tr>\n",
       "      <th>0</th>\n",
       "      <td>JD_C1</td>\n",
       "      <td>CHAPTER I | GENERAL PROVISIONS AND ZONING</td>\n",
       "      <td>[0.03730521351099014, 0.021854771301150322, 0....</td>\n",
       "    </tr>\n",
       "    <tr>\n",
       "      <th>1</th>\n",
       "      <td>JD_Ch1a</td>\n",
       "      <td>CHAPTER 1A | CITY OF LOS ANGELES ZONING CODE</td>\n",
       "      <td>[0.03449486196041107, 0.039579860866069794, 0....</td>\n",
       "    </tr>\n",
       "    <tr>\n",
       "      <th>2</th>\n",
       "      <td>JD_C2</td>\n",
       "      <td>CHAPTER II* | LICENSES, PERMITS, BUSINESS REGU...</td>\n",
       "      <td>[0.03710675612092018, 0.04733029752969742, 0.0...</td>\n",
       "    </tr>\n",
       "    <tr>\n",
       "      <th>3</th>\n",
       "      <td>JD_C3</td>\n",
       "      <td>CHAPTER III | PUBLIC HEALTH CODE</td>\n",
       "      <td>[0.03463377431035042, 0.01646377518773079, 0.0...</td>\n",
       "    </tr>\n",
       "    <tr>\n",
       "      <th>4</th>\n",
       "      <td>JD_C4</td>\n",
       "      <td>CHAPTER IV | PUBLIC WELFARE</td>\n",
       "      <td>[0.04702747240662575, 0.0075818439945578575, 0...</td>\n",
       "    </tr>\n",
       "  </tbody>\n",
       "</table>\n",
       "</div>"
      ],
      "text/plain": [
       "  Chapter ID                                       Chapter Text  \\\n",
       "0      JD_C1          CHAPTER I | GENERAL PROVISIONS AND ZONING   \n",
       "1    JD_Ch1a       CHAPTER 1A | CITY OF LOS ANGELES ZONING CODE   \n",
       "2      JD_C2  CHAPTER II* | LICENSES, PERMITS, BUSINESS REGU...   \n",
       "3      JD_C3                   CHAPTER III | PUBLIC HEALTH CODE   \n",
       "4      JD_C4                        CHAPTER IV | PUBLIC WELFARE   \n",
       "\n",
       "                                           embedding  \n",
       "0  [0.03730521351099014, 0.021854771301150322, 0....  \n",
       "1  [0.03449486196041107, 0.039579860866069794, 0....  \n",
       "2  [0.03710675612092018, 0.04733029752969742, 0.0...  \n",
       "3  [0.03463377431035042, 0.01646377518773079, 0.0...  \n",
       "4  [0.04702747240662575, 0.0075818439945578575, 0...  "
      ]
     },
     "execution_count": 4,
     "metadata": {},
     "output_type": "execute_result"
    }
   ],
   "source": [
    "# Save CSV file with embeddings\n",
    "# Note: For larger operations we may want to use a vector store\n",
    "df.to_pickle(\"../../intermediate_data/chapter_data_embedded.pkl\")\n",
    "\n",
    "# Load CSV file with embeddings\n",
    "df = pd.read_pickle(\"../../intermediate_data/chapter_data_embedded.pkl\")\n",
    "\n",
    "df.head()"
   ]
  },
  {
   "cell_type": "code",
   "execution_count": null,
   "id": "613791cb-01d9-464c-b308-510fae3fb232",
   "metadata": {},
   "outputs": [],
   "source": []
  }
 ],
 "metadata": {
  "kernelspec": {
   "display_name": "Python 3 (ipykernel)",
   "language": "python",
   "name": "python3"
  },
  "language_info": {
   "codemirror_mode": {
    "name": "ipython",
    "version": 3
   },
   "file_extension": ".py",
   "mimetype": "text/x-python",
   "name": "python",
   "nbconvert_exporter": "python",
   "pygments_lexer": "ipython3",
   "version": "3.10.5"
  }
 },
 "nbformat": 4,
 "nbformat_minor": 5
}

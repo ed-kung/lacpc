{
 "cells": [
  {
   "cell_type": "code",
   "execution_count": 1,
   "id": "02b0a29b-c276-47d7-9172-45ffb425279e",
   "metadata": {},
   "outputs": [],
   "source": [
    "import pandas as pd\n",
    "import numpy as np\n",
    "import yaml\n",
    "\n",
    "from pinecone import Pinecone, ServerlessSpec\n",
    "\n",
    "with open('../../config.yaml','r') as f:\n",
    "    config = yaml.safe_load(f)\n",
    "\n",
    "PINECONE_API_KEY = config['PINECONE_API_KEY']\n",
    "PINECONE_INDEX_NAME = config['PINECONE_INDEX_NAME']\n",
    "PINECONE_NAMESPACE = config['PINECONE_NAMESPACE']\n",
    "PINECONE_EMBEDDING_MODEL = config['PINECONE_EMBEDDING_MODEL']\n",
    "PINECONE_EMBEDDING_DIMENSION = config['PINECONE_EMBEDDING_DIMENSION']\n",
    "PINECONE_CLOUD = config['PINECONE_CLOUD']\n",
    "PINECONE_REGION = config['PINECONE_REGION']\n",
    "\n",
    "pc = Pinecone(api_key=PINECONE_API_KEY)\n",
    "\n",
    "CITY = \"los_angeles\""
   ]
  },
  {
   "cell_type": "code",
   "execution_count": 2,
   "id": "d446d09c-84ab-40b7-bba8-ce31e60cf53f",
   "metadata": {},
   "outputs": [],
   "source": [
    "# Create serverless index if it doesn't already exist\n",
    "\n",
    "if not pc.has_index(PINECONE_INDEX_NAME):\n",
    "    pc.create_index(\n",
    "        name = PINECONE_INDEX_NAME, \n",
    "        dimension = PINECONE_EMBEDDING_DIMENSION, \n",
    "        metric='cosine',\n",
    "        spec=ServerlessSpec(\n",
    "            cloud = PINECONE_CLOUD,\n",
    "            region = PINECONE_REGION\n",
    "        )\n",
    "    )\n",
    "  "
   ]
  },
  {
   "cell_type": "code",
   "execution_count": 3,
   "id": "8a6b744d-ea6d-426b-8353-7f1c2fc78c05",
   "metadata": {},
   "outputs": [
    {
     "data": {
      "text/plain": [
       "{'document_id': 'los_angeles_JD_C1',\n",
       " 'municipality': 'los_angeles',\n",
       " 'document_type': 'Chapter',\n",
       " 'document_text': 'CHAPTER I | GENERAL PROVISIONS AND ZONING'}"
      ]
     },
     "execution_count": 3,
     "metadata": {},
     "output_type": "execute_result"
    }
   ],
   "source": [
    "# Get embeddings on an entire dataframe\n",
    "\n",
    "df = pd.read_csv(\"../../intermediate_data/chapter_data.csv\")\n",
    "\n",
    "data = []\n",
    "for idx, row in df.iterrows():\n",
    "    data.append({\n",
    "        'document_id': CITY + '_' + row['Chapter ID'],\n",
    "        'municipality': CITY,\n",
    "        'document_type': 'Chapter',\n",
    "        'document_text': row['Chapter Text']\n",
    "    })\n",
    "\n",
    "data[0]"
   ]
  },
  {
   "cell_type": "code",
   "execution_count": 4,
   "id": "27d95677-f46a-41c4-8301-5b1c839a9517",
   "metadata": {},
   "outputs": [
    {
     "name": "stdout",
     "output_type": "stream",
     "text": [
      "{'values': [0.0233306884765625, -0.005184173583984375, ..., -0.021697998046875, -0.00855255126953125]}\n"
     ]
    }
   ],
   "source": [
    "# Embed vectors\n",
    "\n",
    "embeddings = pc.inference.embed(\n",
    "    model = PINECONE_EMBEDDING_MODEL,\n",
    "    inputs = [d['document_text'] for d in data],\n",
    "    parameters = {'input_type': 'passage'}\n",
    ")\n",
    "\n",
    "print(embeddings[0])"
   ]
  },
  {
   "cell_type": "code",
   "execution_count": 6,
   "id": "cb6520a1-3839-42d5-bfef-8495840a7714",
   "metadata": {},
   "outputs": [
    {
     "data": {
      "text/plain": [
       "{'dimension': 1024,\n",
       " 'index_fullness': 0.0,\n",
       " 'namespaces': {'main': {'vector_count': 20}},\n",
       " 'total_vector_count': 20}"
      ]
     },
     "execution_count": 6,
     "metadata": {},
     "output_type": "execute_result"
    }
   ],
   "source": [
    "# Upsert the data\n",
    "\n",
    "while not pc.describe_index(PINECONE_INDEX_NAME).status['ready']:\n",
    "    time.sleep(1)\n",
    "\n",
    "index = pc.Index(PINECONE_INDEX_NAME)\n",
    "\n",
    "vectors = []\n",
    "for d, e in zip(data, embeddings):\n",
    "    vectors.append({\n",
    "        'id': d['document_id'],\n",
    "        'values': e['values'],\n",
    "        'metadata': d\n",
    "    })\n",
    "\n",
    "index.upsert(vectors=vectors, namespace=PINECONE_NAMESPACE)\n",
    "\n",
    "index.describe_index_stats()"
   ]
  },
  {
   "cell_type": "code",
   "execution_count": 7,
   "id": "613791cb-01d9-464c-b308-510fae3fb232",
   "metadata": {},
   "outputs": [
    {
     "data": {
      "text/plain": [
       "{'matches': [{'id': 'los_angeles_JD_C9',\n",
       "              'metadata': {'document_id': 'los_angeles_JD_C9',\n",
       "                           'document_text': 'CHAPTER IX | BUILDING REGULATIONS',\n",
       "                           'document_type': 'Chapter',\n",
       "                           'municipality': 'los_angeles'},\n",
       "              'score': 0.817296326,\n",
       "              'values': []},\n",
       "             {'id': 'los_angeles_JD_C16',\n",
       "              'metadata': {'document_id': 'los_angeles_JD_C16',\n",
       "                           'document_text': 'CHAPTER XVI | HOUSING REGULATIONS',\n",
       "                           'document_type': 'Chapter',\n",
       "                           'municipality': 'los_angeles'},\n",
       "              'score': 0.816022575,\n",
       "              'values': []},\n",
       "             {'id': 'los_angeles_JD_C13',\n",
       "              'metadata': {'document_id': 'los_angeles_JD_C13',\n",
       "                           'document_text': 'CHAPTER XIII | THE EMERGENCY '\n",
       "                                            'ENERGY CURTAILMENT PLAN OF THE '\n",
       "                                            'CITY OF LOS ANGELES',\n",
       "                           'document_type': 'Chapter',\n",
       "                           'municipality': 'los_angeles'},\n",
       "              'score': 0.791363597,\n",
       "              'values': []}],\n",
       " 'namespace': 'main',\n",
       " 'usage': {'read_units': 6}}"
      ]
     },
     "execution_count": 7,
     "metadata": {},
     "output_type": "execute_result"
    }
   ],
   "source": [
    "# Run a similarity search for a query\n",
    "\n",
    "query = \"Which chapters are most relevant to a home builder?\"\n",
    "\n",
    "embedding = pc.inference.embed(\n",
    "    model = PINECONE_EMBEDDING_MODEL,\n",
    "    inputs = [query],\n",
    "    parameters = {'input_type': 'query'}\n",
    ")\n",
    "\n",
    "results = index.query(\n",
    "    namespace = PINECONE_NAMESPACE,\n",
    "    vector = embedding[0].values,\n",
    "    top_k = 3,\n",
    "    include_values = False,\n",
    "    include_metadata = True\n",
    ")\n",
    "\n",
    "results"
   ]
  }
 ],
 "metadata": {
  "kernelspec": {
   "display_name": "Python 3 (ipykernel)",
   "language": "python",
   "name": "python3"
  },
  "language_info": {
   "codemirror_mode": {
    "name": "ipython",
    "version": 3
   },
   "file_extension": ".py",
   "mimetype": "text/x-python",
   "name": "python",
   "nbconvert_exporter": "python",
   "pygments_lexer": "ipython3",
   "version": "3.10.5"
  }
 },
 "nbformat": 4,
 "nbformat_minor": 5
}

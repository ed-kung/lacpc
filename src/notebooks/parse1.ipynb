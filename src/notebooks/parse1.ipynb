{
 "cells": [
  {
   "cell_type": "code",
   "execution_count": 1,
   "id": "0bc294f0-ff31-46a4-9869-3df2f6eaeb17",
   "metadata": {},
   "outputs": [],
   "source": [
    "import os\n",
    "import sys\n",
    "import pandas as pd\n",
    "import re\n",
    "import yaml\n",
    "import time\n",
    "\n",
    "from unidecode import unidecode\n",
    "from bs4 import BeautifulSoup\n",
    "from langchain_text_splitters import RecursiveCharacterTextSplitter\n",
    "\n",
    "sys.path.append('../python')\n",
    "\n",
    "import text_tools as tt\n",
    "\n",
    "with open('../../config.yaml', 'r') as f:\n",
    "    config = yaml.safe_load(f)\n",
    "\n",
    "DOCID = \"lamunicipalcode\"\n",
    "FILENAME = f\"../../raw_data/{DOCID}.html\"\n",
    "CHUNK_SIZE = config['CHUNK_SIZE']\n",
    "CHUNK_OVERLAP = config['CHUNK_OVERLAP']\n"
   ]
  },
  {
   "cell_type": "code",
   "execution_count": 2,
   "id": "aed75b6e-9c92-46a8-a59d-ccbc8ee8049d",
   "metadata": {},
   "outputs": [
    {
     "name": "stdout",
     "output_type": "stream",
     "text": [
      "Elapsed time: 0.48 minutes\n"
     ]
    }
   ],
   "source": [
    "data = pd.read_pickle(f\"../../intermediate_data/{DOCID}_main.pkl\")\n",
    "\n",
    "t0 = time.time()\n",
    "\n",
    "new_data = []\n",
    "for idx, row in data.iterrows():\n",
    "        \n",
    "    if row['first_child_id']=='':\n",
    "        text_to_embed = tt.get_all_vertical_text([idx], data)\n",
    "        new_row = row.copy()\n",
    "        new_row['item_type'] = 'passage_full'\n",
    "        new_row['text'] = text_to_embed\n",
    "        new_data.append(new_row)\n",
    "\n",
    "t1 = time.time()\n",
    "print(f\"Elapsed time: {(t1-t0)/60:.2f} minutes\")\n",
    "\n",
    "new_data = pd.DataFrame.from_dict(new_data)\n",
    "new_data.to_csv(f\"../../intermediate_data/{DOCID}_fullpassages.csv\")\n",
    "new_data.to_pickle(f\"../../intermediate_data/{DOCID}_fullpassages.pkl\")"
   ]
  },
  {
   "cell_type": "code",
   "execution_count": 3,
   "id": "17cccdc3-a972-457d-a4c9-9d6e81bf6a4c",
   "metadata": {},
   "outputs": [
    {
     "name": "stdout",
     "output_type": "stream",
     "text": [
      "CHAPTER I GENERAL PROVISIONS AND ZONING\n",
      "  ARTICLE 3 SPECIFIC PLAN - ZONING SUPPLEMENTAL USE DISTRICTS\n",
      "    SEC. 13.04. \"RPD\" RESIDENTIAL PLANNED DEVELOPMENT DISTRICTS.\n",
      "      G. Permits - No permit shall be issued for grading, or for the erection, enlargement or maintenance of buildings or structures for a residential planned development, and no person shall perform any such development or construction work, except in full compliance with the final development plans approved as herein provided.\n",
      "        No building permit shall be issued for other than approved model units until the conditions, covenants, and restrictions required by Section 13.04 E.12. have been submitted to and approved by the City Attorney.\n",
      "  ARTICLE 4 PUBLIC BENEFIT PROJECTS\n",
      "    SEC. 14.00. PUBLIC BENEFIT PROJECTS.\n",
      "      A. Public Benefit Projects and Performance Standards. Where not permitted by right or by Conditional Use Permit pursuant to Subsections U., or W. of Section 12.24. of this Chapter, the following public benefit uses are permitted in any zone, unless restricted to certain zones or locations. The uses shall meet the following performance standards or conditional use permit approved pursuant to Subsection B. of this Section. (Amended by Ord. No. 187,712, Eff. 1/23/23, Oper. 1/22/24; Ord. No. 187,930, Eff. 7/7/23.)\n",
      "        12. Interim Use of Motels for Supportive Housing or Transitional Housing. (Added by Ord. No. 185,489, Eff. 4/20/18.) The purpose of this subdivision is to facilitate the interim use of existing transient residential structures, such as motels, Hotels, Apartment Hotels, Transient Occupancy Residential Structures and Hostels as Supportive Housing or Transitional Housing for persons experiencing homelessness or those at risk of homelessness. Under this subdivision, the structure may return to its previous use, or any use consistent with the underlying zoning, upon termination of the interim Supportive Housing or Transitional Housing use.\n",
      "          (d) Zoning Compliance.\n",
      "            (1) Interim Motel Housing Projects shall not be subject to any otherwise applicable zoning ordinance, specific plan, or other overlay district regulations, including, but not limited to, the following:\n",
      "              (ii) Off-Street Automobile Parking. Interim Motel Housing Projects shall be exempt from the provisions of LAMC Section 12.21 A.4.(m). During the Supportive Housing or Transitional Housing contract, however, the Interim Motel Housing Project shall maintain and not reduce the number of onsite parking spaces existing on the date of the Interim Motel Housing Project application.\n",
      "              (iii) Use. Notwithstanding the use provisions of the underlying zoning, an Interim Motel Housing Project shall be permitted.\n",
      "              (iv) Change of Use. Section 12.23 B.7. of this Code shall not apply to Interim Motel Housing Projects.\n",
      "CHAPTER II* LICENSES, PERMITS, BUSINESS REGULATIONS\n",
      "  ARTICLE 1.6 UNIFORM SALES AND USE TAX\n",
      "    SEC. 21.6.5. USE TAX.\n",
      "        (b) (1) Except as hereinafter provided, and except insofar as they are inconsistent with the provisions of Part 1.5 of Division 2 of the said Revenue and Taxation Code, all of the provisions of Part 1, Division 2 of said Code, as amended and in force and effect on April 1, 1956, applicable to use taxes are hereby adopted and made a part of this section as though fully set forth herein.\n",
      "          (3.5) (Amended by Ord. No. 158,588, Eff. 12/29/83, Oper. 1/1/84.) There shall be exempt from the tax due under this section:\n",
      "            (ii) The storage, use or other consumption of tangible personal property, the gross receipts from the sale of which has been subject to sales tax under a sales and use tax ordinance enacted in accordance with Part 1.5 of Division 2 of the Revenue and Taxation Code by any city and county, county, or city in this state.\n",
      "\n"
     ]
    }
   ],
   "source": [
    "ids = [\n",
    "    'lamunicipalcode_rid-0-0-0-386061',\n",
    "    'lamunicipalcode_rid-0-0-0-379994',\n",
    "    'lamunicipalcode_rid-0-0-0-379992',\n",
    "    'lamunicipalcode_rid-0-0-0-379990',\n",
    "    'lamunicipalcode_rid-0-0-0-377798'\n",
    "]\n",
    "print(tt.get_all_vertical_text(ids, data))"
   ]
  }
 ],
 "metadata": {
  "kernelspec": {
   "display_name": "Python 3 (ipykernel)",
   "language": "python",
   "name": "python3"
  },
  "language_info": {
   "codemirror_mode": {
    "name": "ipython",
    "version": 3
   },
   "file_extension": ".py",
   "mimetype": "text/x-python",
   "name": "python",
   "nbconvert_exporter": "python",
   "pygments_lexer": "ipython3",
   "version": "3.10.6"
  }
 },
 "nbformat": 4,
 "nbformat_minor": 5
}

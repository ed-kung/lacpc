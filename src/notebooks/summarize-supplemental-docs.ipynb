{
 "cells": [
  {
   "cell_type": "code",
   "execution_count": 1,
   "id": "453d2659-707e-4355-83cb-7c8f5734c52d",
   "metadata": {},
   "outputs": [
    {
     "name": "stderr",
     "output_type": "stream",
     "text": [
      "/Users/ekung/Library/Python/3.9/lib/python/site-packages/urllib3/__init__.py:35: NotOpenSSLWarning: urllib3 v2 only supports OpenSSL 1.1.1+, currently the 'ssl' module is compiled with 'LibreSSL 2.8.3'. See: https://github.com/urllib3/urllib3/issues/3020\n",
      "  warnings.warn(\n",
      "/Users/ekung/Library/Python/3.9/lib/python/site-packages/pinecone/data/index.py:1: TqdmWarning: IProgress not found. Please update jupyter and ipywidgets. See https://ipywidgets.readthedocs.io/en/stable/user_install.html\n",
      "  from tqdm.autonotebook import tqdm\n"
     ]
    }
   ],
   "source": [
    "import os\n",
    "import sys\n",
    "import time\n",
    "import yaml\n",
    "import pandas as pd\n",
    "import numpy as np\n",
    "\n",
    "with open('../../config.local.yaml', 'r') as f:\n",
    "    local_config = yaml.safe_load(f)\n",
    "\n",
    "LOCAL_PATH = local_config['LOCAL_PATH']\n",
    "\n",
    "sys.path.append(os.path.join(LOCAL_PATH, \"src/python\"))\n",
    "\n",
    "from llm import get_response\n",
    "\n",
    "LLM_OVERWRITE = False"
   ]
  },
  {
   "cell_type": "code",
   "execution_count": 2,
   "id": "06cf87c2-ee23-45cb-9314-6a09bc2c9392",
   "metadata": {},
   "outputs": [],
   "source": [
    "meetings_df = pd.read_csv(os.path.join(LOCAL_PATH, \"intermediate_data/cpc/meetings-manifest.csv\"))\n",
    "DATES = sorted(list(meetings_df['date']))"
   ]
  },
  {
   "cell_type": "code",
   "execution_count": 3,
   "id": "162a4260-b016-4720-a4c4-780b60c9df63",
   "metadata": {},
   "outputs": [],
   "source": [
    "PROMPT = \"\"\"\n",
    "==== LIST OF AGENDA ITEMS ====\n",
    "\n",
    "{}\n",
    "\n",
    "==== DOCUMENT ====\n",
    "\n",
    "{}\n",
    "\n",
    "==== PROMPT ====\n",
    "\n",
    "I just gave you a list of agenda items from a LA City Planning Commission meeting, followed by a document submitted to that meeting. \n",
    "\n",
    "Return a response in the following format:\n",
    "\n",
    "\n",
    "==== YOUR RESPONSE FORMAT ====\n",
    "\n",
    "TYPE OF DOCUMENT:\n",
    "<What type of document is it? Your only options are: LETTER OR PETITION, TECHNICAL MODIFICATION OR PROCEDURAL MATTER, SCIENTIFIC OR TECHNICAL REPORT, CV OR BIOGRAPHY, CORRUPTED/ILLEGIBLE/BLANK, TITLE OR SECTION HEADING, OTHER.>\n",
    "\n",
    "TYPE OF AUTHOR:\n",
    "<What type of entity wrote the document? Your only options are: INDIVIDUAL, ADVOCACY GROUP, CONSULTANT, LAWYER, DEVELOPER, PUBLIC OFFICIAL, OTHER.>\n",
    "\n",
    "SUMMARY OF DOCUMENT:\n",
    "<Summarize the contents of the document.>\n",
    "\n",
    "REFERENCED AGENDA ITEMS:\n",
    "<List the agenda items, as a comma delimited list of item numbers, that the submitted document references or is relevant to. If none, say NONE.>\n",
    "\n",
    "SUPPORT OR OPPOSE:\n",
    "<Does the submitted document support or oppose the referenced agenda items? Your only options are: DEFINITELY SUPPORT, SOMEWHAT SUPPORT, DEFINITELY OPPOSE, SOMEWHAT OPPOSE, NEUTRAL, NOT RELEVANT.>\n",
    "\"\"\"\n"
   ]
  },
  {
   "cell_type": "code",
   "execution_count": 5,
   "id": "0533aed7",
   "metadata": {},
   "outputs": [],
   "source": [
    "# write prompt to figures\n",
    "with open(os.path.join(LOCAL_PATH, 'figures', 'supplemental_docs_prompt.tex'), 'w') as f:\n",
    "    out = PROMPT.replace('{}', '<<full agenda text>>', 1)\n",
    "    out = out.replace('{}', \"<<document text>>\", 1)\n",
    "    out = out.strip()\n",
    "    out = out.replace('\\n', '\\\\\\\\ \\n')\n",
    "    f.write(out)"
   ]
  },
  {
   "cell_type": "code",
   "execution_count": null,
   "id": "39e8ecb0-a9dd-4c92-bb01-5fd9900bad48",
   "metadata": {},
   "outputs": [],
   "source": [
    "t0 = time.time()\n",
    "for date in DATES:\n",
    "    year = date[0:4]\n",
    "    PATH = os.path.join(LOCAL_PATH, f\"intermediate_data/cpc/{year}/{date}\")\n",
    "    print(date)\n",
    "\n",
    "    agenda_file = os.path.join(PATH, 'agenda-items.pkl')\n",
    "    docs_file = os.path.join(PATH, 'supplemental-docs.pkl')\n",
    "    output_file = os.path.join(PATH, 'supplemental-docs-summaries.pkl')\n",
    "\n",
    "    if (not os.path.exists(agenda_file)) or (not os.path.exists(docs_file)):\n",
    "        continue\n",
    "\n",
    "    out_df = []\n",
    "\n",
    "    agenda_df = pd.read_pickle(agenda_file)\n",
    "    agenda = \"\"\n",
    "    for j, jrow in agenda_df.iterrows():\n",
    "        item_no = jrow['item_no']\n",
    "        item_title = jrow['title']\n",
    "        is_casenum = jrow['is_casenum']\n",
    "        if is_casenum:\n",
    "            text = jrow['content']\n",
    "            agenda += f\"ITEM NO. {item_no}\\n{item_title}\\n\\n\"\n",
    "            agenda += text\n",
    "            agenda += \"\\n\\n--------\\n\\n\"\n",
    "        \n",
    "    docs_df = pd.read_pickle(docs_file)\n",
    "    docs_df['skipped'] = docs_df['content'].str.startswith('SKIPPED')\n",
    "    for j, jrow in docs_df.loc[~docs_df['skipped']].iterrows():\n",
    "        doc_id = jrow['doc_id']\n",
    "        start_page = jrow['start_page']\n",
    "        end_page = jrow['end_page']\n",
    "        content = jrow['content']\n",
    "        prompt = PROMPT.format(agenda, content)\n",
    "        response = get_response(prompt, overwrite=LLM_OVERWRITE)\n",
    "        msg = response['message']\n",
    "        perplexity = response['perplexity']\n",
    "        out_df.append({\n",
    "            'year': year,\n",
    "            'date': date,\n",
    "            'doc_id': doc_id,\n",
    "            'start_page': start_page,\n",
    "            'end_page': end_page,\n",
    "            'prompt': prompt,\n",
    "            'response': msg,\n",
    "            'perplexity': perplexity\n",
    "        })\n",
    "        print(f\"{end_page}... \", end='')\n",
    "\n",
    "    out_df = pd.DataFrame.from_dict(out_df)\n",
    "    out_df.to_pickle(output_file)\n",
    "    print('')\n",
    "t1 = time.time()\n",
    "print(f\"Elapsed time: {(t1-t0)/60} minutes.\")\n"
   ]
  },
  {
   "cell_type": "code",
   "execution_count": null,
   "id": "36db129a-04e3-4b3b-a9a6-4603b374f3ca",
   "metadata": {},
   "outputs": [],
   "source": [
    "i=3\n",
    "print(out_df.loc[i, 'prompt'])\n",
    "print('')\n",
    "print('')\n",
    "print(out_df.loc[i, 'response'])"
   ]
  }
 ],
 "metadata": {
  "kernelspec": {
   "display_name": "Python 3",
   "language": "python",
   "name": "python3"
  },
  "language_info": {
   "codemirror_mode": {
    "name": "ipython",
    "version": 3
   },
   "file_extension": ".py",
   "mimetype": "text/x-python",
   "name": "python",
   "nbconvert_exporter": "python",
   "pygments_lexer": "ipython3",
   "version": "3.9.6"
  }
 },
 "nbformat": 4,
 "nbformat_minor": 5
}
